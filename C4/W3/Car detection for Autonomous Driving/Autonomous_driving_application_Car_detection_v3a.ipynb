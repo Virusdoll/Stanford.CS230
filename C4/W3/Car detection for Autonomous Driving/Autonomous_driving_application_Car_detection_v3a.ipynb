{
 "cells": [
  {
   "cell_type": "markdown",
   "source": [
    "# Autonomous driving - Car detection\n",
    "\n",
    "Welcome to your week 3 programming assignment. You will learn about object detection using the very powerful YOLO model. Many of the ideas in this notebook are described in the two YOLO papers: [Redmon et al., 2016](https://arxiv.org/abs/1506.02640) and [Redmon and Farhadi, 2016](https://arxiv.org/abs/1612.08242). \n",
    "\n",
    "**You will learn to**:\n",
    "- Use object detection on a car detection dataset\n",
    "- Deal with bounding boxes\n",
    "\n"
   ],
   "metadata": {}
  },
  {
   "cell_type": "markdown",
   "source": [
    "## <font color='darkblue'>Updates</font>\n",
    "\n",
    "#### If you were working on the notebook before this update...\n",
    "* The current notebook is version \"3a\".\n",
    "* You can find your original work saved in the notebook with the previous version name (\"v3\") \n",
    "* To view the file directory, go to the menu \"File->Open\", and this will open a new tab that shows the file directory.\n",
    "\n",
    "#### List of updates\n",
    "* Clarified \"YOLO\" instructions preceding the code.  \n",
    "* Added details about anchor boxes.\n",
    "* Added explanation of how score is calculated.\n",
    "* `yolo_filter_boxes`: added additional hints.  Clarify syntax for argmax and max.\n",
    "* `iou`: clarify instructions for finding the intersection.\n",
    "* `iou`: give variable names for all 8 box vertices, for clarity.  Adds `width` and `height` variables for clarity.\n",
    "* `iou`: add test cases to check handling of non-intersecting boxes, intersection at vertices, or intersection at edges.\n",
    "* `yolo_non_max_suppression`: clarify syntax for tf.image.non_max_suppression and keras.gather.\n",
    "* \"convert output of the model to usable bounding box tensors\": Provides a link to the definition of `yolo_head`.\n",
    "* `predict`: hint on calling sess.run.\n",
    "* Spelling, grammar, wording and formatting updates to improve clarity."
   ],
   "metadata": {}
  },
  {
   "cell_type": "markdown",
   "source": [
    "## Import libraries\n",
    "Run the following cell to load the packages and dependencies that you will find useful as you build the object detector!"
   ],
   "metadata": {}
  },
  {
   "cell_type": "code",
   "execution_count": null,
   "source": [
    "import argparse\r\n",
    "import os\r\n",
    "import matplotlib.pyplot as plt\r\n",
    "from matplotlib.pyplot import imshow\r\n",
    "import scipy.io\r\n",
    "import scipy.misc\r\n",
    "import numpy as np\r\n",
    "import pandas as pd\r\n",
    "import PIL\r\n",
    "import tensorflow as tf\r\n",
    "from keras import backend as K\r\n",
    "from keras.layers import Input, Lambda, Conv2D\r\n",
    "from keras.models import load_model, Model\r\n",
    "from yolo_utils import read_classes, read_anchors, generate_colors, preprocess_image, draw_boxes, scale_boxes\r\n",
    "from yad2k.models.keras_yolo import yolo_head, yolo_boxes_to_corners, preprocess_true_boxes, yolo_loss, yolo_body\r\n",
    "\r\n",
    "%matplotlib inline"
   ],
   "outputs": [],
   "metadata": {
    "collapsed": true
   }
  },
  {
   "cell_type": "code",
   "execution_count": 3,
   "source": [
    "import argparse\r\n",
    "import os\r\n",
    "import matplotlib.pyplot as plt\r\n",
    "from matplotlib.pyplot import imshow\r\n",
    "import scipy.io\r\n",
    "import scipy.misc\r\n",
    "import numpy as np\r\n",
    "import pandas as pd\r\n",
    "import PIL\r\n",
    "import tensorflow as tf\r\n",
    "import tensorflow.keras as keras\r\n",
    "from yolo_utils import read_classes, read_anchors, generate_colors, preprocess_image, draw_boxes, scale_boxes\r\n",
    "from yad2k.models.keras_yolo import yolo_head, yolo_boxes_to_corners, preprocess_true_boxes, yolo_loss, yolo_body\r\n",
    "\r\n",
    "%matplotlib inline"
   ],
   "outputs": [],
   "metadata": {}
  },
  {
   "cell_type": "markdown",
   "source": [
    "**Important Note**: As you can see, we import Keras's backend as K. This means that to use a Keras function in this notebook, you will need to write: `K.function(...)`."
   ],
   "metadata": {}
  },
  {
   "cell_type": "markdown",
   "source": [
    "## 1 - Problem Statement\r\n",
    "\r\n",
    "You are working on a self-driving car. As a critical component of this project, you'd like to first build a car detection system. To collect data, you've mounted a camera to the hood (meaning the front) of the car, which takes pictures of the road ahead every few seconds while you drive around. \r\n",
    "\r\n",
    "<center>\r\n",
    "<video width=\"600\" height=\"300\" src=\"nb_images/road_video_compressed2.mp4\" type=\"video/mp4\" controls>\r\n",
    "</video>\r\n",
    "</center>\r\n",
    "\r\n",
    "<caption><center> Pictures taken from a car-mounted camera while driving around Silicon Valley. <br> We thank [drive.ai](htps://www.drive.ai/) for providing this dataset.\r\n",
    "</center></caption>\r\n",
    "\r\n",
    "You've gathered all these images into a folder and have labelled them by drawing bounding boxes around every car you found. Here's an example of what your bounding boxes look like.\r\n",
    "\r\n",
    "<img src=\"nb_images/box_label.png\" style=\"width:500px;height:250;\">\r\n",
    "<caption><center> <u> **Figure 1** </u>: **Definition of a box**<br> </center></caption>\r\n",
    "\r\n",
    "If you have 80 classes that you want the object detector to recognize, you can represent the class label $c$ either as an integer from 1 to 80, or as an 80-dimensional vector (with 80 numbers) one component of which is 1 and the rest of which are 0. The video lectures had used the latter representation; in this notebook, we will use both representations, depending on which is more convenient for a particular step.  \r\n",
    "\r\n",
    "In this exercise, you will learn how \"You Only Look Once\" (YOLO) performs object detection, and then apply it to car detection. Because the YOLO model is very computationally expensive to train, we will load pre-trained weights for you to use. "
   ],
   "metadata": {}
  },
  {
   "cell_type": "markdown",
   "source": [
    "## 2 - YOLO"
   ],
   "metadata": {}
  },
  {
   "cell_type": "markdown",
   "source": [
    "\"You Only Look Once\" (YOLO) is a popular algorithm because it achieves high accuracy while also being able to run in real-time. This algorithm \"only looks once\" at the image in the sense that it requires only one forward propagation pass through the network to make predictions. After non-max suppression, it then outputs recognized objects together with the bounding boxes.\n",
    "\n",
    "### 2.1 - Model details\n",
    "\n",
    "#### Inputs and outputs\n",
    "- The **input** is a batch of images, and each image has the shape (m, 608, 608, 3)\n",
    "- The **output** is a list of bounding boxes along with the recognized classes. Each bounding box is represented by 6 numbers $(p_c, b_x, b_y, b_h, b_w, c)$ as explained above. If you expand $c$ into an 80-dimensional vector, each bounding box is then represented by 85 numbers. \n",
    "\n",
    "#### Anchor Boxes\n",
    "* Anchor boxes are chosen by exploring the training data to choose reasonable height/width ratios that represent the different classes.  For this assignment, 5 anchor boxes were chosen for you (to cover the 80 classes), and stored in the file './model_data/yolo_anchors.txt'\n",
    "* The dimension for anchor boxes is the second to last dimension in the encoding: $(m, n_H,n_W,anchors,classes)$.\n",
    "* The YOLO architecture is: IMAGE (m, 608, 608, 3) -> DEEP CNN -> ENCODING (m, 19, 19, 5, 85).  \n",
    "\n",
    "\n",
    "#### Encoding\n",
    "Let's look in greater detail at what this encoding represents. \n",
    "\n",
    "<img src=\"nb_images/architecture.png\" style=\"width:700px;height:400;\">\n",
    "<caption><center> <u> **Figure 2** </u>: **Encoding architecture for YOLO**<br> </center></caption>\n",
    "\n",
    "If the center/midpoint of an object falls into a grid cell, that grid cell is responsible for detecting that object."
   ],
   "metadata": {}
  },
  {
   "cell_type": "markdown",
   "source": [
    "Since we are using 5 anchor boxes, each of the 19 x19 cells thus encodes information about 5 boxes. Anchor boxes are defined only by their width and height.\n",
    "\n",
    "For simplicity, we will flatten the last two last dimensions of the shape (19, 19, 5, 85) encoding. So the output of the Deep CNN is (19, 19, 425).\n",
    "\n",
    "<img src=\"nb_images/flatten.png\" style=\"width:700px;height:400;\">\n",
    "<caption><center> <u> **Figure 3** </u>: **Flattening the last two last dimensions**<br> </center></caption>"
   ],
   "metadata": {}
  },
  {
   "cell_type": "markdown",
   "source": [
    "#### Class score\r\n",
    "\r\n",
    "Now, for each box (of each cell) we will compute the following element-wise product and extract a probability that the box contains a certain class.  \r\n",
    "The class score is $score_{c,i} = p_{c} \\times c_{i}$: the probability that there is an object $p_{c}$ times the probability that the object is a certain class $c_{i}$.\r\n",
    "\r\n",
    "![](nb_images/probability_extraction.png)\r\n",
    "<caption><center> <u> **Figure 4** </u>: **Find the class detected by each box**<br> </center></caption>\r\n",
    "\r\n",
    "##### Example of figure 4\r\n",
    "* In figure 4, let's say for box 1 (cell 1), the probability that an object exists is $p_{1}=0.60$.  So there's a 60% chance that an object exists in box 1 (cell 1).  \r\n",
    "* The probability that the object is the class \"category 3 (a car)\" is $c_{3}=0.73$.  \r\n",
    "* The score for box 1 and for category \"3\" is $score_{1,3}=0.60 \\times 0.73 = 0.44$.  \r\n",
    "* Let's say we calculate the score for all 80 classes in box 1, and find that the score for the car class (class 3) is the maximum.  So we'll assign the score 0.44 and class \"3\" to this box \"1\".\r\n",
    "\r\n",
    "#### Visualizing classes\r\n",
    "Here's one way to visualize what YOLO is predicting on an image:\r\n",
    "- For each of the 19x19 grid cells, find the maximum of the probability scores (taking a max across the 80 classes, one maximum for each of the 5 anchor boxes).\r\n",
    "- Color that grid cell according to what object that grid cell considers the most likely.\r\n",
    "\r\n",
    "Doing this results in this picture: \r\n",
    "\r\n",
    "<img src=\"nb_images/proba_map.png\" style=\"width:500px;height:500;\">\r\n",
    "<caption><center> <u> **Figure 5** </u>: Each one of the 19x19 grid cells is colored according to which class has the largest predicted probability in that cell.<br> </center></caption>\r\n",
    "\r\n",
    "Note that this visualization isn't a core part of the YOLO algorithm itself for making predictions; it's just a nice way of visualizing an intermediate result of the algorithm. \r\n"
   ],
   "metadata": {}
  },
  {
   "cell_type": "markdown",
   "source": [
    "#### Visualizing bounding boxes\r\n",
    "Another way to visualize YOLO's output is to plot the bounding boxes that it outputs. Doing that results in a visualization like this:  \r\n",
    "\r\n",
    "<img src=\"nb_images/anchor_map.png\" style=\"width:400px;height:400;\">\r\n",
    "<caption><center> <u> **Figure 6** </u>: Each cell gives you 5 boxes. In total, the model predicts: 19x19x5 = 1805 boxes just by looking once at the image (one forward pass through the network)! Different colors denote different classes. <br> </center></caption>\r\n",
    "\r\n",
    "#### Non-Max suppression\r\n",
    "In the figure above, we plotted only boxes for which the model had assigned a high probability, but this is still too many boxes. You'd like to reduce the algorithm's output to a much smaller number of detected objects.  \r\n",
    "\r\n",
    "To do so, you'll use **non-max suppression**. Specifically, you'll carry out these steps: \r\n",
    "- Get rid of boxes with a low score (meaning, the box is not very confident about detecting a class; either due to the low probability of any object, or low probability of this particular class).\r\n",
    "- Select only one box when several boxes overlap with each other and detect the same object.\r\n",
    "\r\n"
   ],
   "metadata": {}
  },
  {
   "cell_type": "markdown",
   "source": [
    "### 2.2 - Filtering with a threshold on class scores\n",
    "\n",
    "You are going to first apply a filter by thresholding. You would like to get rid of any box for which the class \"score\" is less than a chosen threshold. \n",
    "\n",
    "The model gives you a total of 19x19x5x85 numbers, with each box described by 85 numbers. It is convenient to rearrange the (19,19,5,85) (or (19,19,425)) dimensional tensor into the following variables:  \n",
    "- `box_confidence`: tensor of shape $(19 \\times 19, 5, 1)$ containing $p_c$ (confidence probability that there's some object) for each of the 5 boxes predicted in each of the 19x19 cells.\n",
    "- `boxes`: tensor of shape $(19 \\times 19, 5, 4)$ containing the midpoint and dimensions $(b_x, b_y, b_h, b_w)$ for each of the 5 boxes in each cell.\n",
    "- `box_class_probs`: tensor of shape $(19 \\times 19, 5, 80)$ containing the \"class probabilities\" $(c_1, c_2, ... c_{80})$ for each of the 80 classes for each of the 5 boxes per cell.\n",
    "\n",
    "#### **Exercise**: Implement `yolo_filter_boxes()`.\n",
    "1. Compute box scores by doing the elementwise product as described in Figure 4 ($p \\times c$).  \n",
    "The following code may help you choose the right operator: \n",
    "```python\n",
    "a = np.random.randn(19*19, 5, 1)\n",
    "b = np.random.randn(19*19, 5, 80)\n",
    "c = a * b # shape of c will be (19*19, 5, 80)\n",
    "```\n",
    "This is an example of **broadcasting** (multiplying vectors of different sizes).\n",
    "\n",
    "2. For each box, find:\n",
    "    - the index of the class with the maximum box score\n",
    "    - the corresponding box score\n",
    "    \n",
    "    **Useful references**\n",
    "        * [Keras argmax](https://keras.io/backend/#argmax)\n",
    "        * [Keras max](https://keras.io/backend/#max)\n",
    "\n",
    "    **Additional Hints**\n",
    "        * For the `axis` parameter of `argmax` and `max`, if you want to select the **last** axis, one way to do so is to set `axis=-1`.  This is similar to Python array indexing, where you can select the last position of an array using `arrayname[-1]`.\n",
    "        * Applying `max` normally collapses the axis for which the maximum is applied.  `keepdims=False` is the default option, and allows that dimension to be removed.  We don't need to keep the last dimension after applying the maximum here.\n",
    "        * Even though the documentation shows `keras.backend.argmax`, use `keras.argmax`.  Similarly, use `keras.max`.\n",
    "\n",
    "\n",
    "3. Create a mask by using a threshold. As a reminder: `([0.9, 0.3, 0.4, 0.5, 0.1] < 0.4)` returns: `[False, True, False, False, True]`. The mask should be True for the boxes you want to keep. \n",
    "\n",
    "4. Use TensorFlow to apply the mask to `box_class_scores`, `boxes` and `box_classes` to filter out the boxes we don't want. You should be left with just the subset of boxes you want to keep.   \n",
    "\n",
    "    **Useful reference**:\n",
    "    * [boolean mask](https://www.tensorflow.org/api_docs/python/tf/boolean_mask)  \n",
    "\n",
    "   **Additional Hints**:  \n",
    "    * For the `tf.boolean_mask`, we can keep the default `axis=None`.\n",
    "\n",
    "**Reminder**: to call a Keras function, you should use `K.function(...)`."
   ],
   "metadata": {}
  },
  {
   "cell_type": "code",
   "execution_count": 6,
   "source": [
    "# GRADED FUNCTION: yolo_filter_boxes\r\n",
    "\r\n",
    "def yolo_filter_boxes(box_confidence, boxes, box_class_probs, threshold = .6):\r\n",
    "    \"\"\"Filters YOLO boxes by thresholding on object and class confidence.\r\n",
    "    \r\n",
    "    Arguments:\r\n",
    "    box_confidence -- tensor of shape (19, 19, 5, 1)\r\n",
    "    boxes -- tensor of shape (19, 19, 5, 4)\r\n",
    "    box_class_probs -- tensor of shape (19, 19, 5, 80)\r\n",
    "    threshold -- real value, if [ highest class probability score < threshold], then get rid of the corresponding box\r\n",
    "    \r\n",
    "    Returns:\r\n",
    "    scores -- tensor of shape (None,), containing the class probability score for selected boxes\r\n",
    "    boxes -- tensor of shape (None, 4), containing (b_x, b_y, b_h, b_w) coordinates of selected boxes\r\n",
    "    classes -- tensor of shape (None,), containing the index of the class detected by the selected boxes\r\n",
    "    \r\n",
    "    Note: \"None\" is here because you don't know the exact number of selected boxes, as it depends on the threshold. \r\n",
    "    For example, the actual output size of scores would be (10,) if there are 10 boxes.\r\n",
    "    \"\"\"\r\n",
    "    \r\n",
    "    # Step 1: Compute box scores\r\n",
    "    ### START CODE HERE ### (≈ 1 line)\r\n",
    "    box_scores = box_confidence * box_class_probs\r\n",
    "    ### END CODE HERE ###\r\n",
    "    \r\n",
    "    # Step 2: Find the box_classes using the max box_scores, keep track of the corresponding score\r\n",
    "    ### START CODE HERE ### (≈ 2 lines)\r\n",
    "    box_classes = tf.math.argmax(box_scores, axis=-1)\r\n",
    "    box_class_scores = tf.math.reduce_max(box_scores, axis=-1)\r\n",
    "    ### END CODE HERE ###\r\n",
    "    \r\n",
    "    # Step 3: Create a filtering mask based on \"box_class_scores\" by using \"threshold\". The mask should have the\r\n",
    "    # same dimension as box_class_scores, and be True for the boxes you want to keep (with probability >= threshold)\r\n",
    "    ### START CODE HERE ### (≈ 1 line)\r\n",
    "    mask = (box_class_scores >= threshold)\r\n",
    "    ### END CODE HERE ###\r\n",
    "    \r\n",
    "    # Step 4: Apply the mask to box_class_scores, boxes and box_classes\r\n",
    "    ### START CODE HERE ### (≈ 3 lines)\r\n",
    "    scores = tf.boolean_mask(box_class_scores, mask)\r\n",
    "    boxes = tf.boolean_mask(boxes, mask)\r\n",
    "    classes = tf.boolean_mask(box_classes, mask)\r\n",
    "    ### END CODE HERE ###\r\n",
    "    \r\n",
    "    return scores, boxes, classes"
   ],
   "outputs": [],
   "metadata": {
    "collapsed": true
   }
  },
  {
   "cell_type": "code",
   "execution_count": 21,
   "source": [
    "tf.random.set_seed(1)\r\n",
    "box_confidence = tf.random.normal([19, 19, 5, 1], mean=1, stddev=4, seed = 1)\r\n",
    "boxes = tf.random.normal([19, 19, 5, 4], mean=1, stddev=4, seed = 1)\r\n",
    "box_class_probs = tf.random.normal([19, 19, 5, 80], mean=1, stddev=4, seed = 1)\r\n",
    "scores, boxes, classes = yolo_filter_boxes(box_confidence, boxes, box_class_probs, threshold = 0.5)\r\n",
    "print(scores[2])\r\n",
    "print(boxes[2])\r\n",
    "print(classes[2])\r\n",
    "# print(\"scores[2] = \" + str(scores[2].eval()))\r\n",
    "# print(\"boxes[2] = \" + str(boxes[2].eval()))\r\n",
    "# print(\"classes[2] = \" + str(classes[2].eval()))\r\n",
    "print(\"scores.shape = \" + str(scores.shape))\r\n",
    "print(\"boxes.shape = \" + str(boxes.shape))\r\n",
    "print(\"classes.shape = \" + str(classes.shape))"
   ],
   "outputs": [
    {
     "output_type": "stream",
     "name": "stdout",
     "text": [
      "tf.Tensor(155.9314, shape=(), dtype=float32)\n",
      "tf.Tensor([ 2.2713618  6.829959  -4.093821   0.9525691], shape=(4,), dtype=float32)\n",
      "tf.Tensor(70, shape=(), dtype=int64)\n",
      "scores.shape = (1781,)\n",
      "boxes.shape = (1781, 4)\n",
      "classes.shape = (1781,)\n"
     ]
    }
   ],
   "metadata": {}
  },
  {
   "cell_type": "markdown",
   "source": [
    "**Expected Output**:\r\n",
    "\r\n",
    "<table>\r\n",
    "    <tr>\r\n",
    "        <td>\r\n",
    "            **scores[2]**\r\n",
    "        </td>\r\n",
    "        <td>\r\n",
    "           10.7506\r\n",
    "        </td>\r\n",
    "    </tr>\r\n",
    "    <tr>\r\n",
    "        <td>\r\n",
    "            **boxes[2]**\r\n",
    "        </td>\r\n",
    "        <td>\r\n",
    "           [ 8.42653275  3.27136683 -0.5313437  -4.94137383]\r\n",
    "        </td>\r\n",
    "    </tr>\r\n",
    "    <tr>\r\n",
    "        <td>\r\n",
    "            **classes[2]**\r\n",
    "        </td>\r\n",
    "        <td>\r\n",
    "           7\r\n",
    "        </td>\r\n",
    "    </tr>\r\n",
    "        <tr>\r\n",
    "        <td>\r\n",
    "            **scores.shape**\r\n",
    "        </td>\r\n",
    "        <td>\r\n",
    "           (?,)\r\n",
    "        </td>\r\n",
    "    </tr>\r\n",
    "    <tr>\r\n",
    "        <td>\r\n",
    "            **boxes.shape**\r\n",
    "        </td>\r\n",
    "        <td>\r\n",
    "           (?, 4)\r\n",
    "        </td>\r\n",
    "    </tr>\r\n",
    "    <tr>\r\n",
    "        <td>\r\n",
    "            **classes.shape**\r\n",
    "        </td>\r\n",
    "        <td>\r\n",
    "           (?,)\r\n",
    "        </td>\r\n",
    "    </tr>\r\n",
    "</table>"
   ],
   "metadata": {}
  },
  {
   "cell_type": "markdown",
   "source": [
    "**Note** In the test for `yolo_filter_boxes`, we're using random numbers to test the function.  In real data, the `box_class_probs` would contain non-zero values between 0 and 1 for the probabilities.  The box coordinates in `boxes` would also be chosen so that lengths and heights are non-negative."
   ],
   "metadata": {}
  },
  {
   "cell_type": "markdown",
   "source": [
    "### 2.3 - Non-max suppression ###\n",
    "\n",
    "Even after filtering by thresholding over the class scores, you still end up with a lot of overlapping boxes. A second filter for selecting the right boxes is called non-maximum suppression (NMS). "
   ],
   "metadata": {}
  },
  {
   "cell_type": "markdown",
   "source": [
    "<img src=\"nb_images/non-max-suppression.png\" style=\"width:500px;height:400;\">\n",
    "<caption><center> <u> **Figure 7** </u>: In this example, the model has predicted 3 cars, but it's actually 3 predictions of the same car. Running non-max suppression (NMS) will select only the most accurate (highest probability) of the 3 boxes. <br> </center></caption>\n"
   ],
   "metadata": {}
  },
  {
   "cell_type": "markdown",
   "source": [
    "Non-max suppression uses the very important function called **\"Intersection over Union\"**, or IoU.\r\n",
    "<img src=\"nb_images/iou.png\" style=\"width:500px;height:400;\">\r\n",
    "<caption><center> <u> **Figure 8** </u>: Definition of \"Intersection over Union\". <br> </center></caption>\r\n",
    "\r\n",
    "#### **Exercise**: Implement iou(). Some hints:\r\n",
    "- In this code, we use the convention that (0,0) is the top-left corner of an image, (1,0) is the upper-right corner, and (1,1) is the lower-right corner. In other words, the (0,0) origin starts at the top left corner of the image. As x increases, we move to the right.  As y increases, we move down.\r\n",
    "- For this exercise, we define a box using its two corners: upper left $(x_1, y_1)$ and lower right $(x_2,y_2)$, instead of using the midpoint, height and width. (This makes it a bit easier to calculate the intersection).\r\n",
    "- To calculate the area of a rectangle, multiply its height $(y_2 - y_1)$ by its width $(x_2 - x_1)$. (Since $(x_1,y_1)$ is the top left and $x_2,y_2$ are the bottom right, these differences should be non-negative.\r\n",
    "- To find the **intersection** of the two boxes $(xi_{1}, yi_{1}, xi_{2}, yi_{2})$: \r\n",
    "    - Feel free to draw some examples on paper to clarify this conceptually.\r\n",
    "    - The top left corner of the intersection $(xi_{1}, yi_{1})$ is found by comparing the top left corners $(x_1, y_1)$ of the two boxes and finding a vertex that has an x-coordinate that is closer to the right, and y-coordinate that is closer to the bottom.\r\n",
    "    - The bottom right corner of the intersection $(xi_{2}, yi_{2})$ is found by comparing the bottom right corners $(x_2,y_2)$ of the two boxes and finding a vertex whose x-coordinate is closer to the left, and the y-coordinate that is closer to the top.\r\n",
    "    - The two boxes **may have no intersection**.  You can detect this if the intersection coordinates you calculate end up being the top right and/or bottom left corners of an intersection box.  Another way to think of this is if you calculate the height $(y_2 - y_1)$ or width $(x_2 - x_1)$ and find that at least one of these lengths is negative, then there is no intersection (intersection area is zero).  \r\n",
    "    - The two boxes may intersect at the **edges or vertices**, in which case the intersection area is still zero.  This happens when either the height or width (or both) of the calculated intersection is zero.\r\n",
    "\r\n",
    "\r\n",
    "**Additional Hints**\r\n",
    "\r\n",
    "- `xi1` = **max**imum of the x1 coordinates of the two boxes\r\n",
    "- `yi1` = **max**imum of the y1 coordinates of the two boxes\r\n",
    "- `xi2` = **min**imum of the x2 coordinates of the two boxes\r\n",
    "- `yi2` = **min**imum of the y2 coordinates of the two boxes\r\n",
    "- `inter_area` = You can use `max(height, 0)` and `max(width, 0)`\r\n"
   ],
   "metadata": {}
  },
  {
   "cell_type": "code",
   "execution_count": 22,
   "source": [
    "# GRADED FUNCTION: iou\r\n",
    "\r\n",
    "def iou(box1, box2):\r\n",
    "    \"\"\"Implement the intersection over union (IoU) between box1 and box2\r\n",
    "    \r\n",
    "    Arguments:\r\n",
    "    box1 -- first box, list object with coordinates (box1_x1, box1_y1, box1_x2, box_1_y2)\r\n",
    "    box2 -- second box, list object with coordinates (box2_x1, box2_y1, box2_x2, box2_y2)\r\n",
    "    \"\"\"\r\n",
    "\r\n",
    "    # Assign variable names to coordinates for clarity\r\n",
    "    (box1_x1, box1_y1, box1_x2, box1_y2) = box1\r\n",
    "    (box2_x1, box2_y1, box2_x2, box2_y2) = box2\r\n",
    "    \r\n",
    "    # Calculate the (yi1, xi1, yi2, xi2) coordinates of the intersection of box1 and box2. Calculate its Area.\r\n",
    "    ### START CODE HERE ### (≈ 7 lines)\r\n",
    "    xi1 = max(box1_x1, box2_x1)\r\n",
    "    yi1 = max(box1_y1, box2_y1)\r\n",
    "    xi2 = min(box1_x2, box2_x2)\r\n",
    "    yi2 = min(box1_y2, box2_y2)\r\n",
    "    # Case in which they don't intersec --> max(,0)\r\n",
    "    width = max(xi2 - xi1, 0.)\r\n",
    "    height = max(yi2 - yi1, 0.)\r\n",
    "    inter = width * height\r\n",
    "    ### END CODE HERE ###    \r\n",
    "\r\n",
    "    # Calculate the Union area by using Formula: Union(A,B) = A + B - Inter(A,B)\r\n",
    "    ### START CODE HERE ### (≈ 3 lines)\r\n",
    "    union = ((box1_y2 - box1_y1) * (box1_x2 - box1_x1) +\r\n",
    "             (box2_y2 - box2_y1) * (box2_x2 - box2_x1) -\r\n",
    "             inter)\r\n",
    "    ### END CODE HERE ###\r\n",
    "    \r\n",
    "    # compute the IoU\r\n",
    "    ### START CODE HERE ### (≈ 1 line)\r\n",
    "    iou = inter / union\r\n",
    "    ### END CODE HERE ###\r\n",
    "    \r\n",
    "    return iou"
   ],
   "outputs": [],
   "metadata": {
    "collapsed": true
   }
  },
  {
   "cell_type": "code",
   "execution_count": 23,
   "source": [
    "## Test case 1: boxes intersect\r\n",
    "box1 = (2, 1, 4, 3)\r\n",
    "box2 = (1, 2, 3, 4) \r\n",
    "print(\"iou for intersecting boxes = \" + str(iou(box1, box2)))\r\n",
    "\r\n",
    "## Test case 2: boxes do not intersect\r\n",
    "box1 = (1,2,3,4)\r\n",
    "box2 = (5,6,7,8)\r\n",
    "print(\"iou for non-intersecting boxes = \" + str(iou(box1,box2)))\r\n",
    "\r\n",
    "## Test case 3: boxes intersect at vertices only\r\n",
    "box1 = (1,1,2,2)\r\n",
    "box2 = (2,2,3,3)\r\n",
    "print(\"iou for boxes that only touch at vertices = \" + str(iou(box1,box2)))\r\n",
    "\r\n",
    "## Test case 4: boxes intersect at edge only\r\n",
    "box1 = (1,1,3,3)\r\n",
    "box2 = (2,3,3,4)\r\n",
    "print(\"iou for boxes that only touch at edges = \" + str(iou(box1,box2)))"
   ],
   "outputs": [
    {
     "output_type": "stream",
     "name": "stdout",
     "text": [
      "iou for intersecting boxes = 0.14285714285714285\n",
      "iou for non-intersecting boxes = 0.0\n",
      "iou for boxes that only touch at vertices = 0.0\n",
      "iou for boxes that only touch at edges = 0.0\n"
     ]
    }
   ],
   "metadata": {}
  },
  {
   "cell_type": "markdown",
   "source": [
    "**Expected Output**:\n",
    "\n",
    "```\n",
    "iou for intersecting boxes = 0.14285714285714285\n",
    "iou for non-intersecting boxes = 0.0\n",
    "iou for boxes that only touch at vertices = 0.0\n",
    "iou for boxes that only touch at edges = 0.0\n",
    "```"
   ],
   "metadata": {}
  },
  {
   "cell_type": "markdown",
   "source": [
    "#### YOLO non-max suppression\r\n",
    "\r\n",
    "You are now ready to implement non-max suppression. The key steps are: \r\n",
    "1. Select the box that has the highest score.\r\n",
    "2. Compute the overlap of this box with all other boxes, and remove boxes that overlap significantly (iou >= `iou_threshold`).\r\n",
    "3. Go back to step 1 and iterate until there are no more boxes with a lower score than the currently selected box.\r\n",
    "\r\n",
    "This will remove all boxes that have a large overlap with the selected boxes. Only the \"best\" boxes remain.\r\n",
    "\r\n",
    "**Exercise**: Implement yolo_non_max_suppression() using TensorFlow. TensorFlow has two built-in functions that are used to implement non-max suppression (so you don't actually need to use your `iou()` implementation):\r\n",
    "\r\n",
    "**Reference documentation** \r\n",
    "\r\n",
    "- [tf.image.non_max_suppression()](https://www.tensorflow.org/api_docs/python/tf/image/non_max_suppression)\r\n",
    "```\r\n",
    "tf.image.non_max_suppression(\r\n",
    "    boxes,\r\n",
    "    scores,\r\n",
    "    max_output_size,\r\n",
    "    iou_threshold=0.5,\r\n",
    "    name=None\r\n",
    ")\r\n",
    "```\r\n",
    "Note that in the version of tensorflow used here, there is no parameter `score_threshold` (it's shown in the documentation for the latest version) so trying to set this value will result in an error message: *got an unexpected keyword argument 'score_threshold.*\r\n",
    "\r\n",
    "- [K.gather()](https://www.tensorflow.org/api_docs/python/tf/keras/backend/gather)  \r\n",
    "Even though the documentation shows `tf.keras.backend.gather()`, you can use `keras.gather()`.  \r\n",
    "```\r\n",
    "keras.gather(\r\n",
    "    reference,\r\n",
    "    indices\r\n",
    ")\r\n",
    "```"
   ],
   "metadata": {}
  },
  {
   "cell_type": "code",
   "execution_count": 24,
   "source": [
    "# GRADED FUNCTION: yolo_non_max_suppression\r\n",
    "\r\n",
    "def yolo_non_max_suppression(scores, boxes, classes, max_boxes = 10, iou_threshold = 0.5):\r\n",
    "    \"\"\"\r\n",
    "    Applies Non-max suppression (NMS) to set of boxes\r\n",
    "    \r\n",
    "    Arguments:\r\n",
    "    scores -- tensor of shape (None,), output of yolo_filter_boxes()\r\n",
    "    boxes -- tensor of shape (None, 4), output of yolo_filter_boxes() that have been scaled to the image size (see later)\r\n",
    "    classes -- tensor of shape (None,), output of yolo_filter_boxes()\r\n",
    "    max_boxes -- integer, maximum number of predicted boxes you'd like\r\n",
    "    iou_threshold -- real value, \"intersection over union\" threshold used for NMS filtering\r\n",
    "    \r\n",
    "    Returns:\r\n",
    "    scores -- tensor of shape (, None), predicted score for each box\r\n",
    "    boxes -- tensor of shape (4, None), predicted box coordinates\r\n",
    "    classes -- tensor of shape (, None), predicted class for each box\r\n",
    "    \r\n",
    "    Note: The \"None\" dimension of the output tensors has obviously to be less than max_boxes. Note also that this\r\n",
    "    function will transpose the shapes of scores, boxes, classes. This is made for convenience.\r\n",
    "    \"\"\"\r\n",
    "    \r\n",
    "    # max_boxes_tensor = K.variable(max_boxes, dtype='int32')     # tensor to be used in tf.image.non_max_suppression()\r\n",
    "    # K.get_session().run(tf.variables_initializer([max_boxes_tensor])) # initialize variable max_boxes_tensor\r\n",
    "    \r\n",
    "    # Use tf.image.non_max_suppression() to get the list of indices corresponding to boxes you keep\r\n",
    "    ### START CODE HERE ### (≈ 1 line)\r\n",
    "    selected_indices = tf.image.non_max_suppression(boxes, scores, max_boxes, iou_threshold)\r\n",
    "    ### END CODE HERE ###\r\n",
    "    \r\n",
    "    # Use K.gather() to select only nms_indices from scores, boxes and classes\r\n",
    "    ### START CODE HERE ### (≈ 3 lines)\r\n",
    "    scores = tf.gather(scores, selected_indices)\r\n",
    "    boxes = tf.gather(boxes, selected_indices)\r\n",
    "    classes = tf.gather(classes, selected_indices)\r\n",
    "    ### END CODE HERE ###\r\n",
    "    \r\n",
    "    return scores, boxes, classes"
   ],
   "outputs": [],
   "metadata": {
    "collapsed": true
   }
  },
  {
   "cell_type": "code",
   "execution_count": 27,
   "source": [
    "tf.random.set_seed(1)\r\n",
    "scores = tf.random.normal([54,], mean=1, stddev=4, seed = 1)\r\n",
    "boxes = tf.random.normal([54, 4], mean=1, stddev=4, seed = 1)\r\n",
    "classes = tf.random.normal([54,], mean=1, stddev=4, seed = 1)\r\n",
    "scores, boxes, classes = yolo_non_max_suppression(scores, boxes, classes)\r\n",
    "print(scores[2])\r\n",
    "print(boxes[2])\r\n",
    "print(classes[2])\r\n",
    "# print(\"scores[2] = \" + str(scores[2].eval()))\r\n",
    "# print(\"boxes[2] = \" + str(boxes[2].eval()))\r\n",
    "# print(\"classes[2] = \" + str(classes[2].eval()))\r\n",
    "print(\"scores.shape = \" + str(scores.shape))\r\n",
    "print(\"boxes.shape = \" + str(boxes.shape))\r\n",
    "print(\"classes.shape = \" + str(classes.shape))"
   ],
   "outputs": [
    {
     "output_type": "stream",
     "name": "stdout",
     "text": [
      "tf.Tensor(7.2217274, shape=(), dtype=float32)\n",
      "tf.Tensor([-0.4885149  -0.7482593   1.5157948   0.82847375], shape=(4,), dtype=float32)\n",
      "tf.Tensor(-3.8691607, shape=(), dtype=float32)\n",
      "scores.shape = (10,)\n",
      "boxes.shape = (10, 4)\n",
      "classes.shape = (10,)\n"
     ]
    }
   ],
   "metadata": {}
  },
  {
   "cell_type": "markdown",
   "source": [
    "**Expected Output**:\r\n",
    "\r\n",
    "<table>\r\n",
    "    <tr>\r\n",
    "        <td>\r\n",
    "            **scores[2]**\r\n",
    "        </td>\r\n",
    "        <td>\r\n",
    "           6.9384\r\n",
    "        </td>\r\n",
    "    </tr>\r\n",
    "    <tr>\r\n",
    "        <td>\r\n",
    "            **boxes[2]**\r\n",
    "        </td>\r\n",
    "        <td>\r\n",
    "           [-5.299932    3.13798141  4.45036697  0.95942086]\r\n",
    "        </td>\r\n",
    "    </tr>\r\n",
    "    <tr>\r\n",
    "        <td>\r\n",
    "            **classes[2]**\r\n",
    "        </td>\r\n",
    "        <td>\r\n",
    "           -2.24527\r\n",
    "        </td>\r\n",
    "    </tr>\r\n",
    "        <tr>\r\n",
    "        <td>\r\n",
    "            **scores.shape**\r\n",
    "        </td>\r\n",
    "        <td>\r\n",
    "           (10,)\r\n",
    "        </td>\r\n",
    "    </tr>\r\n",
    "    <tr>\r\n",
    "        <td>\r\n",
    "            **boxes.shape**\r\n",
    "        </td>\r\n",
    "        <td>\r\n",
    "           (10, 4)\r\n",
    "        </td>\r\n",
    "    </tr>\r\n",
    "    <tr>\r\n",
    "        <td>\r\n",
    "            **classes.shape**\r\n",
    "        </td>\r\n",
    "        <td>\r\n",
    "           (10,)\r\n",
    "        </td>\r\n",
    "    </tr>\r\n",
    "</table>"
   ],
   "metadata": {}
  },
  {
   "cell_type": "markdown",
   "source": [
    "### 2.4 Wrapping up the filtering\n",
    "\n",
    "It's time to implement a function taking the output of the deep CNN (the 19x19x5x85 dimensional encoding) and filtering through all the boxes using the functions you've just implemented. \n",
    "\n",
    "**Exercise**: Implement `yolo_eval()` which takes the output of the YOLO encoding and filters the boxes using score threshold and NMS. There's just one last implementational detail you have to know. There're a few ways of representing boxes, such as via their corners or via their midpoint and height/width. YOLO converts between a few such formats at different times, using the following functions (which we have provided): \n",
    "\n",
    "```python\n",
    "boxes = yolo_boxes_to_corners(box_xy, box_wh) \n",
    "```\n",
    "which converts the yolo box coordinates (x,y,w,h) to box corners' coordinates (x1, y1, x2, y2) to fit the input of `yolo_filter_boxes`\n",
    "```python\n",
    "boxes = scale_boxes(boxes, image_shape)\n",
    "```\n",
    "YOLO's network was trained to run on 608x608 images. If you are testing this data on a different size image--for example, the car detection dataset had 720x1280 images--this step rescales the boxes so that they can be plotted on top of the original 720x1280 image.  \n",
    "\n",
    "Don't worry about these two functions; we'll show you where they need to be called.  "
   ],
   "metadata": {}
  },
  {
   "cell_type": "code",
   "execution_count": 28,
   "source": [
    "# GRADED FUNCTION: yolo_eval\r\n",
    "\r\n",
    "def yolo_eval(yolo_outputs, image_shape = (720., 1280.), max_boxes=10, score_threshold=.6, iou_threshold=.5):\r\n",
    "    \"\"\"\r\n",
    "    Converts the output of YOLO encoding (a lot of boxes) to your predicted boxes along with their scores, box coordinates and classes.\r\n",
    "    \r\n",
    "    Arguments:\r\n",
    "    yolo_outputs -- output of the encoding model (for image_shape of (608, 608, 3)), contains 4 tensors:\r\n",
    "                    box_confidence: tensor of shape (None, 19, 19, 5, 1)\r\n",
    "                    box_xy: tensor of shape (None, 19, 19, 5, 2)\r\n",
    "                    box_wh: tensor of shape (None, 19, 19, 5, 2)\r\n",
    "                    box_class_probs: tensor of shape (None, 19, 19, 5, 80)\r\n",
    "    image_shape -- tensor of shape (2,) containing the input shape, in this notebook we use (608., 608.) (has to be float32 dtype)\r\n",
    "    max_boxes -- integer, maximum number of predicted boxes you'd like\r\n",
    "    score_threshold -- real value, if [ highest class probability score < threshold], then get rid of the corresponding box\r\n",
    "    iou_threshold -- real value, \"intersection over union\" threshold used for NMS filtering\r\n",
    "    \r\n",
    "    Returns:\r\n",
    "    scores -- tensor of shape (None, ), predicted score for each box\r\n",
    "    boxes -- tensor of shape (None, 4), predicted box coordinates\r\n",
    "    classes -- tensor of shape (None,), predicted class for each box\r\n",
    "    \"\"\"\r\n",
    "    \r\n",
    "    ### START CODE HERE ### \r\n",
    "    \r\n",
    "    # Retrieve outputs of the YOLO model (≈1 line)\r\n",
    "    box_confidence, box_xy, box_wh, box_class_probs = yolo_outputs\r\n",
    "    # Convert boxes to be ready for filtering functions (convert boxes box_xy and box_wh to corner coordinates)\r\n",
    "    boxes = yolo_boxes_to_corners(box_xy, box_wh)\r\n",
    "    # Use one of the functions you've implemented to perform Score-filtering with a threshold of score_threshold (≈1 line)\r\n",
    "    scores, boxes, classes = yolo_filter_boxes(box_confidence, boxes, box_class_probs, score_threshold)\r\n",
    "    # Scale boxes back to original image shape.\r\n",
    "    boxes = scale_boxes(boxes, image_shape)\r\n",
    "    # Use one of the functions you've implemented to perform Non-max suppression with \r\n",
    "    # maximum number of boxes set to max_boxes and a threshold of iou_threshold (≈1 line)\r\n",
    "    scores, boxes, classes = yolo_non_max_suppression(scores, boxes, classes, max_boxes, iou_threshold)\r\n",
    "    ### END CODE HERE ###\r\n",
    "    \r\n",
    "    return scores, boxes, classes"
   ],
   "outputs": [],
   "metadata": {
    "collapsed": true
   }
  },
  {
   "cell_type": "code",
   "execution_count": 29,
   "source": [
    "tf.random.set_seed(1)\r\n",
    "yolo_outputs = (tf.random.normal([19, 19, 5, 1], mean=1, stddev=4, seed = 1),\r\n",
    "                tf.random.normal([19, 19, 5, 2], mean=1, stddev=4, seed = 1),\r\n",
    "                tf.random.normal([19, 19, 5, 2], mean=1, stddev=4, seed = 1),\r\n",
    "                tf.random.normal([19, 19, 5, 80], mean=1, stddev=4, seed = 1))\r\n",
    "scores, boxes, classes = yolo_eval(yolo_outputs)\r\n",
    "print(scores[2])\r\n",
    "print(boxes[2])\r\n",
    "print(classes[2])\r\n",
    "# print(\"scores[2] = \" + str(scores[2].eval()))\r\n",
    "# print(\"boxes[2] = \" + str(boxes[2].eval()))\r\n",
    "# print(\"classes[2] = \" + str(classes[2].eval()))\r\n",
    "print(\"scores.shape = \" + str(scores.shape))\r\n",
    "print(\"boxes.shape = \" + str(boxes.shape))\r\n",
    "print(\"classes.shape = \" + str(classes.shape))"
   ],
   "outputs": [
    {
     "output_type": "stream",
     "name": "stdout",
     "text": [
      "tf.Tensor(155.9314, shape=(), dtype=float32)\n",
      "tf.Tensor([4665.1826 7111.3564 5838.4644 7089.926 ], shape=(4,), dtype=float32)\n",
      "tf.Tensor(70, shape=(), dtype=int64)\n",
      "scores.shape = (10,)\n",
      "boxes.shape = (10, 4)\n",
      "classes.shape = (10,)\n"
     ]
    }
   ],
   "metadata": {}
  },
  {
   "cell_type": "markdown",
   "source": [
    "**Expected Output**:\r\n",
    "\r\n",
    "<table>\r\n",
    "    <tr>\r\n",
    "        <td>\r\n",
    "            **scores[2]**\r\n",
    "        </td>\r\n",
    "        <td>\r\n",
    "           138.791\r\n",
    "        </td>\r\n",
    "    </tr>\r\n",
    "    <tr>\r\n",
    "        <td>\r\n",
    "            **boxes[2]**\r\n",
    "        </td>\r\n",
    "        <td>\r\n",
    "           [ 1292.32971191  -278.52166748  3876.98925781  -835.56494141]\r\n",
    "        </td>\r\n",
    "    </tr>\r\n",
    "    <tr>\r\n",
    "        <td>\r\n",
    "            **classes[2]**\r\n",
    "        </td>\r\n",
    "        <td>\r\n",
    "           54\r\n",
    "        </td>\r\n",
    "    </tr>\r\n",
    "        <tr>\r\n",
    "        <td>\r\n",
    "            **scores.shape**\r\n",
    "        </td>\r\n",
    "        <td>\r\n",
    "           (10,)\r\n",
    "        </td>\r\n",
    "    </tr>\r\n",
    "    <tr>\r\n",
    "        <td>\r\n",
    "            **boxes.shape**\r\n",
    "        </td>\r\n",
    "        <td>\r\n",
    "           (10, 4)\r\n",
    "        </td>\r\n",
    "    </tr>\r\n",
    "    <tr>\r\n",
    "        <td>\r\n",
    "            **classes.shape**\r\n",
    "        </td>\r\n",
    "        <td>\r\n",
    "           (10,)\r\n",
    "        </td>\r\n",
    "    </tr>\r\n",
    "</table>"
   ],
   "metadata": {}
  },
  {
   "cell_type": "markdown",
   "source": [
    "## Summary for YOLO:\n",
    "- Input image (608, 608, 3)\n",
    "- The input image goes through a CNN, resulting in a (19,19,5,85) dimensional output. \n",
    "- After flattening the last two dimensions, the output is a volume of shape (19, 19, 425):\n",
    "    - Each cell in a 19x19 grid over the input image gives 425 numbers. \n",
    "    - 425 = 5 x 85 because each cell contains predictions for 5 boxes, corresponding to 5 anchor boxes, as seen in lecture. \n",
    "    - 85 = 5 + 80 where 5 is because $(p_c, b_x, b_y, b_h, b_w)$ has 5 numbers, and 80 is the number of classes we'd like to detect\n",
    "- You then select only few boxes based on:\n",
    "    - Score-thresholding: throw away boxes that have detected a class with a score less than the threshold\n",
    "    - Non-max suppression: Compute the Intersection over Union and avoid selecting overlapping boxes\n",
    "- This gives you YOLO's final output. "
   ],
   "metadata": {}
  },
  {
   "cell_type": "markdown",
   "source": [
    "## 3 - Test YOLO pre-trained model on images"
   ],
   "metadata": {}
  },
  {
   "cell_type": "markdown",
   "source": [
    "In this part, you are going to use a pre-trained model and test it on the car detection dataset.  We'll need a session to execute the computation graph and evaluate the tensors."
   ],
   "metadata": {}
  },
  {
   "cell_type": "code",
   "execution_count": null,
   "source": [
    "sess = K.get_session()"
   ],
   "outputs": [],
   "metadata": {
    "collapsed": true
   }
  },
  {
   "cell_type": "markdown",
   "source": [
    "### 3.1 - Defining classes, anchors and image shape.\n",
    "\n",
    "* Recall that we are trying to detect 80 classes, and are using 5 anchor boxes. \n",
    "* We have gathered the information on the 80 classes and 5 boxes in two files \"coco_classes.txt\" and \"yolo_anchors.txt\". \n",
    "* We'll read class names and anchors from text files.\n",
    "* The car detection dataset has 720x1280 images, which we've pre-processed into 608x608 images. "
   ],
   "metadata": {}
  },
  {
   "cell_type": "code",
   "execution_count": 30,
   "source": [
    "class_names = read_classes(\"model_data/coco_classes.txt\")\r\n",
    "anchors = read_anchors(\"model_data/yolo_anchors.txt\")\r\n",
    "image_shape = (720., 1280.)    "
   ],
   "outputs": [],
   "metadata": {
    "collapsed": true
   }
  },
  {
   "cell_type": "markdown",
   "source": [
    "### 3.2 - Loading a pre-trained model\n",
    "\n",
    "* Training a YOLO model takes a very long time and requires a fairly large dataset of labelled bounding boxes for a large range of target classes. \n",
    "* You are going to load an existing pre-trained Keras YOLO model stored in \"yolo.h5\". \n",
    "* These weights come from the official YOLO website, and were converted using a function written by Allan Zelener. References are at the end of this notebook. Technically, these are the parameters from the \"YOLOv2\" model, but we will simply refer to it as \"YOLO\" in this notebook.\n",
    "\n",
    "Run the cell below to load the model from this file."
   ],
   "metadata": {}
  },
  {
   "cell_type": "code",
   "execution_count": 33,
   "source": [
    "yolo_model = keras.models.load_model(\"model_data/yolo.h5\")"
   ],
   "outputs": [
    {
     "output_type": "error",
     "ename": "ValueError",
     "evalue": "bad marshal data (unknown type code)",
     "traceback": [
      "\u001b[1;31m---------------------------------------------------------------------------\u001b[0m",
      "\u001b[1;31mValueError\u001b[0m                                Traceback (most recent call last)",
      "\u001b[1;32m<ipython-input-33-8f392f995115>\u001b[0m in \u001b[0;36m<module>\u001b[1;34m\u001b[0m\n\u001b[1;32m----> 1\u001b[1;33m \u001b[0myolo_model\u001b[0m \u001b[1;33m=\u001b[0m \u001b[0mkeras\u001b[0m\u001b[1;33m.\u001b[0m\u001b[0mmodels\u001b[0m\u001b[1;33m.\u001b[0m\u001b[0mload_model\u001b[0m\u001b[1;33m(\u001b[0m\u001b[1;34m\"model_data/yolo.h5\"\u001b[0m\u001b[1;33m)\u001b[0m\u001b[1;33m\u001b[0m\u001b[1;33m\u001b[0m\u001b[0m\n\u001b[0m",
      "\u001b[1;32mD:\\software\\develop\\anaconda\\envs\\cs230\\lib\\site-packages\\tensorflow\\python\\keras\\saving\\save.py\u001b[0m in \u001b[0;36mload_model\u001b[1;34m(filepath, custom_objects, compile, options)\u001b[0m\n\u001b[0;32m    199\u001b[0m         if (h5py is not None and\n\u001b[0;32m    200\u001b[0m             (isinstance(filepath, h5py.File) or h5py.is_hdf5(filepath))):\n\u001b[1;32m--> 201\u001b[1;33m           return hdf5_format.load_model_from_hdf5(filepath, custom_objects,\n\u001b[0m\u001b[0;32m    202\u001b[0m                                                   compile)\n\u001b[0;32m    203\u001b[0m \u001b[1;33m\u001b[0m\u001b[0m\n",
      "\u001b[1;32mD:\\software\\develop\\anaconda\\envs\\cs230\\lib\\site-packages\\tensorflow\\python\\keras\\saving\\hdf5_format.py\u001b[0m in \u001b[0;36mload_model_from_hdf5\u001b[1;34m(filepath, custom_objects, compile)\u001b[0m\n\u001b[0;32m    178\u001b[0m       \u001b[0mmodel_config\u001b[0m \u001b[1;33m=\u001b[0m \u001b[0mmodel_config\u001b[0m\u001b[1;33m.\u001b[0m\u001b[0mdecode\u001b[0m\u001b[1;33m(\u001b[0m\u001b[1;34m'utf-8'\u001b[0m\u001b[1;33m)\u001b[0m\u001b[1;33m\u001b[0m\u001b[1;33m\u001b[0m\u001b[0m\n\u001b[0;32m    179\u001b[0m     \u001b[0mmodel_config\u001b[0m \u001b[1;33m=\u001b[0m \u001b[0mjson_utils\u001b[0m\u001b[1;33m.\u001b[0m\u001b[0mdecode\u001b[0m\u001b[1;33m(\u001b[0m\u001b[0mmodel_config\u001b[0m\u001b[1;33m)\u001b[0m\u001b[1;33m\u001b[0m\u001b[1;33m\u001b[0m\u001b[0m\n\u001b[1;32m--> 180\u001b[1;33m     model = model_config_lib.model_from_config(model_config,\n\u001b[0m\u001b[0;32m    181\u001b[0m                                                custom_objects=custom_objects)\n\u001b[0;32m    182\u001b[0m \u001b[1;33m\u001b[0m\u001b[0m\n",
      "\u001b[1;32mD:\\software\\develop\\anaconda\\envs\\cs230\\lib\\site-packages\\tensorflow\\python\\keras\\saving\\model_config.py\u001b[0m in \u001b[0;36mmodel_from_config\u001b[1;34m(config, custom_objects)\u001b[0m\n\u001b[0;32m     57\u001b[0m                     '`Sequential.from_config(config)`?')\n\u001b[0;32m     58\u001b[0m   \u001b[1;32mfrom\u001b[0m \u001b[0mtensorflow\u001b[0m\u001b[1;33m.\u001b[0m\u001b[0mpython\u001b[0m\u001b[1;33m.\u001b[0m\u001b[0mkeras\u001b[0m\u001b[1;33m.\u001b[0m\u001b[0mlayers\u001b[0m \u001b[1;32mimport\u001b[0m \u001b[0mdeserialize\u001b[0m  \u001b[1;31m# pylint: disable=g-import-not-at-top\u001b[0m\u001b[1;33m\u001b[0m\u001b[1;33m\u001b[0m\u001b[0m\n\u001b[1;32m---> 59\u001b[1;33m   \u001b[1;32mreturn\u001b[0m \u001b[0mdeserialize\u001b[0m\u001b[1;33m(\u001b[0m\u001b[0mconfig\u001b[0m\u001b[1;33m,\u001b[0m \u001b[0mcustom_objects\u001b[0m\u001b[1;33m=\u001b[0m\u001b[0mcustom_objects\u001b[0m\u001b[1;33m)\u001b[0m\u001b[1;33m\u001b[0m\u001b[1;33m\u001b[0m\u001b[0m\n\u001b[0m\u001b[0;32m     60\u001b[0m \u001b[1;33m\u001b[0m\u001b[0m\n\u001b[0;32m     61\u001b[0m \u001b[1;33m\u001b[0m\u001b[0m\n",
      "\u001b[1;32mD:\\software\\develop\\anaconda\\envs\\cs230\\lib\\site-packages\\tensorflow\\python\\keras\\layers\\serialization.py\u001b[0m in \u001b[0;36mdeserialize\u001b[1;34m(config, custom_objects)\u001b[0m\n\u001b[0;32m    157\u001b[0m   \"\"\"\n\u001b[0;32m    158\u001b[0m   \u001b[0mpopulate_deserializable_objects\u001b[0m\u001b[1;33m(\u001b[0m\u001b[1;33m)\u001b[0m\u001b[1;33m\u001b[0m\u001b[1;33m\u001b[0m\u001b[0m\n\u001b[1;32m--> 159\u001b[1;33m   return generic_utils.deserialize_keras_object(\n\u001b[0m\u001b[0;32m    160\u001b[0m       \u001b[0mconfig\u001b[0m\u001b[1;33m,\u001b[0m\u001b[1;33m\u001b[0m\u001b[1;33m\u001b[0m\u001b[0m\n\u001b[0;32m    161\u001b[0m       \u001b[0mmodule_objects\u001b[0m\u001b[1;33m=\u001b[0m\u001b[0mLOCAL\u001b[0m\u001b[1;33m.\u001b[0m\u001b[0mALL_OBJECTS\u001b[0m\u001b[1;33m,\u001b[0m\u001b[1;33m\u001b[0m\u001b[1;33m\u001b[0m\u001b[0m\n",
      "\u001b[1;32mD:\\software\\develop\\anaconda\\envs\\cs230\\lib\\site-packages\\tensorflow\\python\\keras\\utils\\generic_utils.py\u001b[0m in \u001b[0;36mdeserialize_keras_object\u001b[1;34m(identifier, module_objects, custom_objects, printable_module_name)\u001b[0m\n\u001b[0;32m    666\u001b[0m \u001b[1;33m\u001b[0m\u001b[0m\n\u001b[0;32m    667\u001b[0m       \u001b[1;32mif\u001b[0m \u001b[1;34m'custom_objects'\u001b[0m \u001b[1;32min\u001b[0m \u001b[0marg_spec\u001b[0m\u001b[1;33m.\u001b[0m\u001b[0margs\u001b[0m\u001b[1;33m:\u001b[0m\u001b[1;33m\u001b[0m\u001b[1;33m\u001b[0m\u001b[0m\n\u001b[1;32m--> 668\u001b[1;33m         deserialized_obj = cls.from_config(\n\u001b[0m\u001b[0;32m    669\u001b[0m             \u001b[0mcls_config\u001b[0m\u001b[1;33m,\u001b[0m\u001b[1;33m\u001b[0m\u001b[1;33m\u001b[0m\u001b[0m\n\u001b[0;32m    670\u001b[0m             custom_objects=dict(\n",
      "\u001b[1;32mD:\\software\\develop\\anaconda\\envs\\cs230\\lib\\site-packages\\tensorflow\\python\\keras\\engine\\training.py\u001b[0m in \u001b[0;36mfrom_config\u001b[1;34m(cls, config, custom_objects)\u001b[0m\n\u001b[0;32m   2355\u001b[0m     \u001b[1;32mwith\u001b[0m \u001b[0mgeneric_utils\u001b[0m\u001b[1;33m.\u001b[0m\u001b[0mSharedObjectLoadingScope\u001b[0m\u001b[1;33m(\u001b[0m\u001b[1;33m)\u001b[0m\u001b[1;33m:\u001b[0m\u001b[1;33m\u001b[0m\u001b[1;33m\u001b[0m\u001b[0m\n\u001b[0;32m   2356\u001b[0m       input_tensors, output_tensors, created_layers = (\n\u001b[1;32m-> 2357\u001b[1;33m           functional.reconstruct_from_config(config, custom_objects))\n\u001b[0m\u001b[0;32m   2358\u001b[0m       \u001b[1;31m# Initialize a model belonging to `cls`, which can be user-defined or\u001b[0m\u001b[1;33m\u001b[0m\u001b[1;33m\u001b[0m\u001b[1;33m\u001b[0m\u001b[0m\n\u001b[0;32m   2359\u001b[0m       \u001b[1;31m# `Functional`.\u001b[0m\u001b[1;33m\u001b[0m\u001b[1;33m\u001b[0m\u001b[1;33m\u001b[0m\u001b[0m\n",
      "\u001b[1;32mD:\\software\\develop\\anaconda\\envs\\cs230\\lib\\site-packages\\tensorflow\\python\\keras\\engine\\functional.py\u001b[0m in \u001b[0;36mreconstruct_from_config\u001b[1;34m(config, custom_objects, created_layers)\u001b[0m\n\u001b[0;32m   1277\u001b[0m   \u001b[1;31m# First, we create all layers and enqueue nodes to be processed\u001b[0m\u001b[1;33m\u001b[0m\u001b[1;33m\u001b[0m\u001b[1;33m\u001b[0m\u001b[0m\n\u001b[0;32m   1278\u001b[0m   \u001b[1;32mfor\u001b[0m \u001b[0mlayer_data\u001b[0m \u001b[1;32min\u001b[0m \u001b[0mconfig\u001b[0m\u001b[1;33m[\u001b[0m\u001b[1;34m'layers'\u001b[0m\u001b[1;33m]\u001b[0m\u001b[1;33m:\u001b[0m\u001b[1;33m\u001b[0m\u001b[1;33m\u001b[0m\u001b[0m\n\u001b[1;32m-> 1279\u001b[1;33m     \u001b[0mprocess_layer\u001b[0m\u001b[1;33m(\u001b[0m\u001b[0mlayer_data\u001b[0m\u001b[1;33m)\u001b[0m\u001b[1;33m\u001b[0m\u001b[1;33m\u001b[0m\u001b[0m\n\u001b[0m\u001b[0;32m   1280\u001b[0m   \u001b[1;31m# Then we process nodes in order of layer depth.\u001b[0m\u001b[1;33m\u001b[0m\u001b[1;33m\u001b[0m\u001b[1;33m\u001b[0m\u001b[0m\n\u001b[0;32m   1281\u001b[0m   \u001b[1;31m# Nodes that cannot yet be processed (if the inbound node\u001b[0m\u001b[1;33m\u001b[0m\u001b[1;33m\u001b[0m\u001b[1;33m\u001b[0m\u001b[0m\n",
      "\u001b[1;32mD:\\software\\develop\\anaconda\\envs\\cs230\\lib\\site-packages\\tensorflow\\python\\keras\\engine\\functional.py\u001b[0m in \u001b[0;36mprocess_layer\u001b[1;34m(layer_data)\u001b[0m\n\u001b[0;32m   1259\u001b[0m       \u001b[1;32mfrom\u001b[0m \u001b[0mtensorflow\u001b[0m\u001b[1;33m.\u001b[0m\u001b[0mpython\u001b[0m\u001b[1;33m.\u001b[0m\u001b[0mkeras\u001b[0m\u001b[1;33m.\u001b[0m\u001b[0mlayers\u001b[0m \u001b[1;32mimport\u001b[0m \u001b[0mdeserialize\u001b[0m \u001b[1;32mas\u001b[0m \u001b[0mdeserialize_layer\u001b[0m  \u001b[1;31m# pylint: disable=g-import-not-at-top\u001b[0m\u001b[1;33m\u001b[0m\u001b[1;33m\u001b[0m\u001b[0m\n\u001b[0;32m   1260\u001b[0m \u001b[1;33m\u001b[0m\u001b[0m\n\u001b[1;32m-> 1261\u001b[1;33m       \u001b[0mlayer\u001b[0m \u001b[1;33m=\u001b[0m \u001b[0mdeserialize_layer\u001b[0m\u001b[1;33m(\u001b[0m\u001b[0mlayer_data\u001b[0m\u001b[1;33m,\u001b[0m \u001b[0mcustom_objects\u001b[0m\u001b[1;33m=\u001b[0m\u001b[0mcustom_objects\u001b[0m\u001b[1;33m)\u001b[0m\u001b[1;33m\u001b[0m\u001b[1;33m\u001b[0m\u001b[0m\n\u001b[0m\u001b[0;32m   1262\u001b[0m       \u001b[0mcreated_layers\u001b[0m\u001b[1;33m[\u001b[0m\u001b[0mlayer_name\u001b[0m\u001b[1;33m]\u001b[0m \u001b[1;33m=\u001b[0m \u001b[0mlayer\u001b[0m\u001b[1;33m\u001b[0m\u001b[1;33m\u001b[0m\u001b[0m\n\u001b[0;32m   1263\u001b[0m \u001b[1;33m\u001b[0m\u001b[0m\n",
      "\u001b[1;32mD:\\software\\develop\\anaconda\\envs\\cs230\\lib\\site-packages\\tensorflow\\python\\keras\\layers\\serialization.py\u001b[0m in \u001b[0;36mdeserialize\u001b[1;34m(config, custom_objects)\u001b[0m\n\u001b[0;32m    157\u001b[0m   \"\"\"\n\u001b[0;32m    158\u001b[0m   \u001b[0mpopulate_deserializable_objects\u001b[0m\u001b[1;33m(\u001b[0m\u001b[1;33m)\u001b[0m\u001b[1;33m\u001b[0m\u001b[1;33m\u001b[0m\u001b[0m\n\u001b[1;32m--> 159\u001b[1;33m   return generic_utils.deserialize_keras_object(\n\u001b[0m\u001b[0;32m    160\u001b[0m       \u001b[0mconfig\u001b[0m\u001b[1;33m,\u001b[0m\u001b[1;33m\u001b[0m\u001b[1;33m\u001b[0m\u001b[0m\n\u001b[0;32m    161\u001b[0m       \u001b[0mmodule_objects\u001b[0m\u001b[1;33m=\u001b[0m\u001b[0mLOCAL\u001b[0m\u001b[1;33m.\u001b[0m\u001b[0mALL_OBJECTS\u001b[0m\u001b[1;33m,\u001b[0m\u001b[1;33m\u001b[0m\u001b[1;33m\u001b[0m\u001b[0m\n",
      "\u001b[1;32mD:\\software\\develop\\anaconda\\envs\\cs230\\lib\\site-packages\\tensorflow\\python\\keras\\utils\\generic_utils.py\u001b[0m in \u001b[0;36mdeserialize_keras_object\u001b[1;34m(identifier, module_objects, custom_objects, printable_module_name)\u001b[0m\n\u001b[0;32m    666\u001b[0m \u001b[1;33m\u001b[0m\u001b[0m\n\u001b[0;32m    667\u001b[0m       \u001b[1;32mif\u001b[0m \u001b[1;34m'custom_objects'\u001b[0m \u001b[1;32min\u001b[0m \u001b[0marg_spec\u001b[0m\u001b[1;33m.\u001b[0m\u001b[0margs\u001b[0m\u001b[1;33m:\u001b[0m\u001b[1;33m\u001b[0m\u001b[1;33m\u001b[0m\u001b[0m\n\u001b[1;32m--> 668\u001b[1;33m         deserialized_obj = cls.from_config(\n\u001b[0m\u001b[0;32m    669\u001b[0m             \u001b[0mcls_config\u001b[0m\u001b[1;33m,\u001b[0m\u001b[1;33m\u001b[0m\u001b[1;33m\u001b[0m\u001b[0m\n\u001b[0;32m    670\u001b[0m             custom_objects=dict(\n",
      "\u001b[1;32mD:\\software\\develop\\anaconda\\envs\\cs230\\lib\\site-packages\\tensorflow\\python\\keras\\layers\\core.py\u001b[0m in \u001b[0;36mfrom_config\u001b[1;34m(cls, config, custom_objects)\u001b[0m\n\u001b[0;32m   1019\u001b[0m   \u001b[1;32mdef\u001b[0m \u001b[0mfrom_config\u001b[0m\u001b[1;33m(\u001b[0m\u001b[0mcls\u001b[0m\u001b[1;33m,\u001b[0m \u001b[0mconfig\u001b[0m\u001b[1;33m,\u001b[0m \u001b[0mcustom_objects\u001b[0m\u001b[1;33m=\u001b[0m\u001b[1;32mNone\u001b[0m\u001b[1;33m)\u001b[0m\u001b[1;33m:\u001b[0m\u001b[1;33m\u001b[0m\u001b[1;33m\u001b[0m\u001b[0m\n\u001b[0;32m   1020\u001b[0m     \u001b[0mconfig\u001b[0m \u001b[1;33m=\u001b[0m \u001b[0mconfig\u001b[0m\u001b[1;33m.\u001b[0m\u001b[0mcopy\u001b[0m\u001b[1;33m(\u001b[0m\u001b[1;33m)\u001b[0m\u001b[1;33m\u001b[0m\u001b[1;33m\u001b[0m\u001b[0m\n\u001b[1;32m-> 1021\u001b[1;33m     function = cls._parse_function_from_config(\n\u001b[0m\u001b[0;32m   1022\u001b[0m         config, custom_objects, 'function', 'module', 'function_type')\n\u001b[0;32m   1023\u001b[0m \u001b[1;33m\u001b[0m\u001b[0m\n",
      "\u001b[1;32mD:\\software\\develop\\anaconda\\envs\\cs230\\lib\\site-packages\\tensorflow\\python\\keras\\layers\\core.py\u001b[0m in \u001b[0;36m_parse_function_from_config\u001b[1;34m(cls, config, custom_objects, func_attr_name, module_attr_name, func_type_attr_name)\u001b[0m\n\u001b[0;32m   1071\u001b[0m     \u001b[1;32melif\u001b[0m \u001b[0mfunction_type\u001b[0m \u001b[1;33m==\u001b[0m \u001b[1;34m'lambda'\u001b[0m\u001b[1;33m:\u001b[0m\u001b[1;33m\u001b[0m\u001b[1;33m\u001b[0m\u001b[0m\n\u001b[0;32m   1072\u001b[0m       \u001b[1;31m# Unsafe deserialization from bytecode\u001b[0m\u001b[1;33m\u001b[0m\u001b[1;33m\u001b[0m\u001b[1;33m\u001b[0m\u001b[0m\n\u001b[1;32m-> 1073\u001b[1;33m       function = generic_utils.func_load(\n\u001b[0m\u001b[0;32m   1074\u001b[0m           config[func_attr_name], globs=globs)\n\u001b[0;32m   1075\u001b[0m     \u001b[1;32melif\u001b[0m \u001b[0mfunction_type\u001b[0m \u001b[1;33m==\u001b[0m \u001b[1;34m'raw'\u001b[0m\u001b[1;33m:\u001b[0m\u001b[1;33m\u001b[0m\u001b[1;33m\u001b[0m\u001b[0m\n",
      "\u001b[1;32mD:\\software\\develop\\anaconda\\envs\\cs230\\lib\\site-packages\\tensorflow\\python\\keras\\utils\\generic_utils.py\u001b[0m in \u001b[0;36mfunc_load\u001b[1;34m(code, defaults, closure, globs)\u001b[0m\n\u001b[0;32m    781\u001b[0m   \u001b[1;32mexcept\u001b[0m \u001b[1;33m(\u001b[0m\u001b[0mUnicodeEncodeError\u001b[0m\u001b[1;33m,\u001b[0m \u001b[0mbinascii\u001b[0m\u001b[1;33m.\u001b[0m\u001b[0mError\u001b[0m\u001b[1;33m)\u001b[0m\u001b[1;33m:\u001b[0m\u001b[1;33m\u001b[0m\u001b[1;33m\u001b[0m\u001b[0m\n\u001b[0;32m    782\u001b[0m     \u001b[0mraw_code\u001b[0m \u001b[1;33m=\u001b[0m \u001b[0mcode\u001b[0m\u001b[1;33m.\u001b[0m\u001b[0mencode\u001b[0m\u001b[1;33m(\u001b[0m\u001b[1;34m'raw_unicode_escape'\u001b[0m\u001b[1;33m)\u001b[0m\u001b[1;33m\u001b[0m\u001b[1;33m\u001b[0m\u001b[0m\n\u001b[1;32m--> 783\u001b[1;33m   \u001b[0mcode\u001b[0m \u001b[1;33m=\u001b[0m \u001b[0mmarshal\u001b[0m\u001b[1;33m.\u001b[0m\u001b[0mloads\u001b[0m\u001b[1;33m(\u001b[0m\u001b[0mraw_code\u001b[0m\u001b[1;33m)\u001b[0m\u001b[1;33m\u001b[0m\u001b[1;33m\u001b[0m\u001b[0m\n\u001b[0m\u001b[0;32m    784\u001b[0m   \u001b[1;32mif\u001b[0m \u001b[0mglobs\u001b[0m \u001b[1;32mis\u001b[0m \u001b[1;32mNone\u001b[0m\u001b[1;33m:\u001b[0m\u001b[1;33m\u001b[0m\u001b[1;33m\u001b[0m\u001b[0m\n\u001b[0;32m    785\u001b[0m     \u001b[0mglobs\u001b[0m \u001b[1;33m=\u001b[0m \u001b[0mglobals\u001b[0m\u001b[1;33m(\u001b[0m\u001b[1;33m)\u001b[0m\u001b[1;33m\u001b[0m\u001b[1;33m\u001b[0m\u001b[0m\n",
      "\u001b[1;31mValueError\u001b[0m: bad marshal data (unknown type code)"
     ]
    }
   ],
   "metadata": {}
  },
  {
   "cell_type": "markdown",
   "source": [
    "This loads the weights of a trained YOLO model. Here's a summary of the layers your model contains."
   ],
   "metadata": {}
  },
  {
   "cell_type": "code",
   "execution_count": null,
   "source": [
    "yolo_model.summary()"
   ],
   "outputs": [],
   "metadata": {}
  },
  {
   "cell_type": "markdown",
   "source": [
    "**Note**: On some computers, you may see a warning message from Keras. Don't worry about it if you do--it is fine.\n",
    "\n",
    "**Reminder**: this model converts a preprocessed batch of input images (shape: (m, 608, 608, 3)) into a tensor of shape (m, 19, 19, 5, 85) as explained in Figure (2)."
   ],
   "metadata": {}
  },
  {
   "cell_type": "markdown",
   "source": [
    "### 3.3 - Convert output of the model to usable bounding box tensors\n",
    "\n",
    "The output of `yolo_model` is a (m, 19, 19, 5, 85) tensor that needs to pass through non-trivial processing and conversion. The following cell does that for you.\n",
    "\n",
    "If you are curious about how `yolo_head` is implemented, you can find the function definition in the file ['keras_yolo.py'](https://github.com/allanzelener/YAD2K/blob/master/yad2k/models/keras_yolo.py).  The file is located in your workspace in this path 'yad2k/models/keras_yolo.py'."
   ],
   "metadata": {}
  },
  {
   "cell_type": "code",
   "execution_count": null,
   "source": [
    "yolo_outputs = yolo_head(yolo_model.output, anchors, len(class_names))"
   ],
   "outputs": [],
   "metadata": {
    "collapsed": true
   }
  },
  {
   "cell_type": "markdown",
   "source": [
    "You added `yolo_outputs` to your graph. This set of 4 tensors is ready to be used as input by your `yolo_eval` function."
   ],
   "metadata": {}
  },
  {
   "cell_type": "markdown",
   "source": [
    "### 3.4 - Filtering boxes\n",
    "\n",
    "`yolo_outputs` gave you all the predicted boxes of `yolo_model` in the correct format. You're now ready to perform filtering and select only the best boxes. Let's now call `yolo_eval`, which you had previously implemented, to do this. "
   ],
   "metadata": {}
  },
  {
   "cell_type": "code",
   "execution_count": null,
   "source": [
    "scores, boxes, classes = yolo_eval(yolo_outputs, image_shape)"
   ],
   "outputs": [],
   "metadata": {
    "collapsed": true
   }
  },
  {
   "cell_type": "markdown",
   "source": [
    "### 3.5 - Run the graph on an image\n",
    "\n",
    "Let the fun begin. You have created a graph that can be summarized as follows:\n",
    "\n",
    "1. <font color='purple'> yolo_model.input </font> is given to `yolo_model`. The model is used to compute the output <font color='purple'> yolo_model.output </font>\n",
    "2. <font color='purple'> yolo_model.output </font> is processed by `yolo_head`. It gives you <font color='purple'> yolo_outputs </font>\n",
    "3. <font color='purple'> yolo_outputs </font> goes through a filtering function, `yolo_eval`. It outputs your predictions: <font color='purple'> scores, boxes, classes </font>\n",
    "\n",
    "**Exercise**: Implement predict() which runs the graph to test YOLO on an image.\n",
    "You will need to run a TensorFlow session, to have it compute `scores, boxes, classes`.\n",
    "\n",
    "The code below also uses the following function:\n",
    "```python\n",
    "image, image_data = preprocess_image(\"images/\" + image_file, model_image_size = (608, 608))\n",
    "```\n",
    "which outputs:\n",
    "- image: a python (PIL) representation of your image used for drawing boxes. You won't need to use it.\n",
    "- image_data: a numpy-array representing the image. This will be the input to the CNN.\n",
    "\n",
    "**Important note**: when a model uses BatchNorm (as is the case in YOLO), you will need to pass an additional placeholder in the feed_dict {K.learning_phase(): 0}.\n",
    "\n",
    "#### Hint: Using the TensorFlow Session object\n",
    "* Recall that above, we called `K.get_Session()` and saved the Session object in `sess`.\n",
    "* To evaluate a list of tensors, we call `sess.run()` like this:\n",
    "```\n",
    "sess.run(fetches=[tensor1,tensor2,tensor3],\n",
    "         feed_dict={yolo_model.input: the_input_variable,\n",
    "                    K.learning_phase():0\n",
    "         }\n",
    "```\n",
    "* Notice that the variables `scores, boxes, classes` are not passed into the `predict` function, but these are global variables that you will use within the `predict` function."
   ],
   "metadata": {}
  },
  {
   "cell_type": "code",
   "execution_count": null,
   "source": [
    "def predict(sess, image_file):\r\n",
    "    \"\"\"\r\n",
    "    Runs the graph stored in \"sess\" to predict boxes for \"image_file\". Prints and plots the predictions.\r\n",
    "    \r\n",
    "    Arguments:\r\n",
    "    sess -- your tensorflow/Keras session containing the YOLO graph\r\n",
    "    image_file -- name of an image stored in the \"images\" folder.\r\n",
    "    \r\n",
    "    Returns:\r\n",
    "    out_scores -- tensor of shape (None, ), scores of the predicted boxes\r\n",
    "    out_boxes -- tensor of shape (None, 4), coordinates of the predicted boxes\r\n",
    "    out_classes -- tensor of shape (None, ), class index of the predicted boxes\r\n",
    "    \r\n",
    "    Note: \"None\" actually represents the number of predicted boxes, it varies between 0 and max_boxes. \r\n",
    "    \"\"\"\r\n",
    "\r\n",
    "    # Preprocess your image\r\n",
    "    image, image_data = preprocess_image(\"images/\" + image_file, model_image_size = (608, 608))\r\n",
    "\r\n",
    "    # Run the session with the correct tensors and choose the correct placeholders in the feed_dict.\r\n",
    "    # You'll need to use feed_dict={yolo_model.input: ... , K.learning_phase(): 0})\r\n",
    "    ### START CODE HERE ### (≈ 1 line)\r\n",
    "    \r\n",
    "    ### END CODE HERE ###\r\n",
    "\r\n",
    "    # Print predictions info\r\n",
    "    print('Found {} boxes for {}'.format(len(out_boxes), image_file))\r\n",
    "    # Generate colors for drawing bounding boxes.\r\n",
    "    colors = generate_colors(class_names)\r\n",
    "    # Draw bounding boxes on the image file\r\n",
    "    draw_boxes(image, out_scores, out_boxes, out_classes, class_names, colors)\r\n",
    "    # Save the predicted bounding box on the image\r\n",
    "    image.save(os.path.join(\"out\", image_file), quality=90)\r\n",
    "    # Display the results in the notebook\r\n",
    "    output_image = scipy.misc.imread(os.path.join(\"out\", image_file))\r\n",
    "    imshow(output_image)\r\n",
    "    \r\n",
    "    return out_scores, out_boxes, out_classes"
   ],
   "outputs": [],
   "metadata": {
    "collapsed": true
   }
  },
  {
   "cell_type": "markdown",
   "source": [
    "Run the following cell on the \"test.jpg\" image to verify that your function is correct."
   ],
   "metadata": {}
  },
  {
   "cell_type": "code",
   "execution_count": null,
   "source": [
    "out_scores, out_boxes, out_classes = predict(sess, \"test.jpg\")"
   ],
   "outputs": [],
   "metadata": {
    "scrolled": false
   }
  },
  {
   "cell_type": "markdown",
   "source": [
    "**Expected Output**:\n",
    "\n",
    "<table>\n",
    "    <tr>\n",
    "        <td>\n",
    "            **Found 7 boxes for test.jpg**\n",
    "        </td>\n",
    "    </tr>\n",
    "    <tr>\n",
    "        <td>\n",
    "            **car**\n",
    "        </td>\n",
    "        <td>\n",
    "           0.60 (925, 285) (1045, 374)\n",
    "        </td>\n",
    "    </tr>\n",
    "    <tr>\n",
    "        <td>\n",
    "            **car**\n",
    "        </td>\n",
    "        <td>\n",
    "           0.66 (706, 279) (786, 350)\n",
    "        </td>\n",
    "    </tr>\n",
    "    <tr>\n",
    "        <td>\n",
    "            **bus**\n",
    "        </td>\n",
    "        <td>\n",
    "           0.67 (5, 266) (220, 407)\n",
    "        </td>\n",
    "    </tr>\n",
    "    <tr>\n",
    "        <td>\n",
    "            **car**\n",
    "        </td>\n",
    "        <td>\n",
    "           0.70 (947, 324) (1280, 705)\n",
    "        </td>\n",
    "    </tr>\n",
    "    <tr>\n",
    "        <td>\n",
    "            **car**\n",
    "        </td>\n",
    "        <td>\n",
    "           0.74 (159, 303) (346, 440)\n",
    "        </td>\n",
    "    </tr>\n",
    "    <tr>\n",
    "        <td>\n",
    "            **car**\n",
    "        </td>\n",
    "        <td>\n",
    "           0.80 (761, 282) (942, 412)\n",
    "        </td>\n",
    "    </tr>\n",
    "    <tr>\n",
    "        <td>\n",
    "            **car**\n",
    "        </td>\n",
    "        <td>\n",
    "           0.89 (367, 300) (745, 648)\n",
    "        </td>\n",
    "    </tr>\n",
    "</table>"
   ],
   "metadata": {}
  },
  {
   "cell_type": "markdown",
   "source": [
    "The model you've just run is actually able to detect 80 different classes listed in \"coco_classes.txt\". To test the model on your own images:\n",
    "    1. Click on \"File\" in the upper bar of this notebook, then click \"Open\" to go on your Coursera Hub.\n",
    "    2. Add your image to this Jupyter Notebook's directory, in the \"images\" folder\n",
    "    3. Write your image's name in the cell above code\n",
    "    4. Run the code and see the output of the algorithm!\n",
    "\n",
    "If you were to run your session in a for loop over all your images. Here's what you would get:\n",
    "\n",
    "<center>\n",
    "<video width=\"400\" height=\"200\" src=\"nb_images/pred_video_compressed2.mp4\" type=\"video/mp4\" controls>\n",
    "</video>\n",
    "</center>\n",
    "\n",
    "<caption><center> Predictions of the YOLO model on pictures taken from a camera while driving around the Silicon Valley <br> Thanks [drive.ai](https://www.drive.ai/) for providing this dataset! </center></caption>"
   ],
   "metadata": {}
  },
  {
   "cell_type": "markdown",
   "source": [
    "\r\n",
    "## <font color='darkblue'>What you should remember:</font>\r\n",
    "    \r\n",
    "- YOLO is a state-of-the-art object detection model that is fast and accurate\r\n",
    "- It runs an input image through a CNN which outputs a 19x19x5x85 dimensional volume. \r\n",
    "- The encoding can be seen as a grid where each of the 19x19 cells contains information about 5 boxes.\r\n",
    "- You filter through all the boxes using non-max suppression. Specifically: \r\n",
    "    - Score thresholding on the probability of detecting a class to keep only accurate (high probability) boxes\r\n",
    "    - Intersection over Union (IoU) thresholding to eliminate overlapping boxes\r\n",
    "- Because training a YOLO model from randomly initialized weights is non-trivial and requires a large dataset as well as lot of computation, we used previously trained model parameters in this exercise. If you wish, you can also try fine-tuning the YOLO model with your own dataset, though this would be a fairly non-trivial exercise. "
   ],
   "metadata": {}
  },
  {
   "cell_type": "markdown",
   "source": [
    "**References**: The ideas presented in this notebook came primarily from the two YOLO papers. The implementation here also took significant inspiration and used many components from Allan Zelener's GitHub repository. The pre-trained weights used in this exercise came from the official YOLO website. \n",
    "- Joseph Redmon, Santosh Divvala, Ross Girshick, Ali Farhadi - [You Only Look Once: Unified, Real-Time Object Detection](https://arxiv.org/abs/1506.02640) (2015)\n",
    "- Joseph Redmon, Ali Farhadi - [YOLO9000: Better, Faster, Stronger](https://arxiv.org/abs/1612.08242) (2016)\n",
    "- Allan Zelener - [YAD2K: Yet Another Darknet 2 Keras](https://github.com/allanzelener/YAD2K)\n",
    "- The official YOLO website (https://pjreddie.com/darknet/yolo/) "
   ],
   "metadata": {}
  },
  {
   "cell_type": "markdown",
   "source": [
    "**Car detection dataset**:\n",
    "<a rel=\"license\" href=\"http://creativecommons.org/licenses/by/4.0/\"><img alt=\"Creative Commons License\" style=\"border-width:0\" src=\"https://i.creativecommons.org/l/by/4.0/88x31.png\" /></a><br /><span xmlns:dct=\"http://purl.org/dc/terms/\" property=\"dct:title\">The Drive.ai Sample Dataset</span> (provided by drive.ai) is licensed under a <a rel=\"license\" href=\"http://creativecommons.org/licenses/by/4.0/\">Creative Commons Attribution 4.0 International License</a>. We are grateful to Brody Huval, Chih Hu and Rahul Patel for  providing this data. "
   ],
   "metadata": {}
  }
 ],
 "metadata": {
  "coursera": {
   "course_slug": "convolutional-neural-networks",
   "graded_item_id": "OMdut",
   "launcher_item_id": "bbBOL"
  },
  "kernelspec": {
   "name": "python3",
   "display_name": "Python 3.9.5 64-bit ('cs230': conda)"
  },
  "language_info": {
   "codemirror_mode": {
    "name": "ipython",
    "version": 3
   },
   "file_extension": ".py",
   "mimetype": "text/x-python",
   "name": "python",
   "nbconvert_exporter": "python",
   "pygments_lexer": "ipython3",
   "version": "3.9.5"
  },
  "interpreter": {
   "hash": "ef0f896fcbc72fed1d0ec1fa877386e7bdaaad96a6875f23ee80c219ddbbb0a9"
  }
 },
 "nbformat": 4,
 "nbformat_minor": 2
}
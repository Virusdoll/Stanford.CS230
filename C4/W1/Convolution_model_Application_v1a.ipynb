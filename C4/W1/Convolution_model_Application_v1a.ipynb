{
 "cells": [
  {
   "cell_type": "markdown",
   "metadata": {},
   "source": [
    "# Convolutional Neural Networks: Application\n",
    "\n",
    "Welcome to Course 4's second assignment! In this notebook, you will:\n",
    "\n",
    "- Implement helper functions that you will use when implementing a TensorFlow model\n",
    "- Implement a fully functioning ConvNet using TensorFlow \n",
    "\n",
    "**After this assignment you will be able to:**\n",
    "\n",
    "- Build and train a ConvNet in TensorFlow for a classification problem \n",
    "\n",
    "We assume here that you are already familiar with TensorFlow. If you are not, please refer the *TensorFlow Tutorial* of the third week of Course 2 (\"*Improving deep neural networks*\")."
   ]
  },
  {
   "cell_type": "markdown",
   "metadata": {},
   "source": [
    "### <font color='darkblue'> Updates to Assignment <font>\n",
    "\n",
    "#### If you were working on a previous version\n",
    "* The current notebook filename is version \"1a\". \n",
    "* You can find your work in the file directory as version \"1\".\n",
    "* To view the file directory, go to the menu \"File->Open\", and this will open a new tab that shows the file directory.\n",
    "\n",
    "#### List of Updates\n",
    "* `initialize_parameters`: added details about tf.get_variable, `eval`. Clarified test case.\n",
    "* Added explanations for the kernel (filter) stride values, max pooling, and flatten functions.\n",
    "* Added details about softmax cross entropy with logits.\n",
    "* Added instructions for creating the Adam Optimizer.\n",
    "* Added explanation of how to evaluate tensors (optimizer and cost).\n",
    "* `forward_propagation`: clarified instructions, use \"F\" to store \"flatten\" layer.\n",
    "* Updated print statements and 'expected output' for easier visual comparisons.\n",
    "* Many thanks to Kevin P. Brown (mentor for the deep learning specialization) for his suggestions on the assignments in this course!"
   ]
  },
  {
   "cell_type": "markdown",
   "metadata": {},
   "source": [
    "## 1.0 - TensorFlow model\n",
    "\n",
    "In the previous assignment, you built helper functions using numpy to understand the mechanics behind convolutional neural networks. Most practical applications of deep learning today are built using programming frameworks, which have many built-in functions you can simply call. \n",
    "\n",
    "As usual, we will start by loading in the packages. "
   ]
  },
  {
   "cell_type": "code",
   "execution_count": 1,
   "metadata": {
    "collapsed": true
   },
   "outputs": [],
   "source": [
    "import math\n",
    "import numpy as np\n",
    "import h5py\n",
    "import matplotlib.pyplot as plt\n",
    "import scipy\n",
    "from PIL import Image\n",
    "from scipy import ndimage\n",
    "import tensorflow as tf\n",
    "from tensorflow.python.framework import ops\n",
    "from cnn_utils import *\n",
    "\n",
    "%matplotlib inline\n",
    "np.random.seed(1)"
   ]
  },
  {
   "cell_type": "markdown",
   "metadata": {},
   "source": [
    "Run the next cell to load the \"SIGNS\" dataset you are going to use."
   ]
  },
  {
   "cell_type": "code",
   "execution_count": 2,
   "metadata": {
    "collapsed": true
   },
   "outputs": [],
   "source": [
    "# Loading the data (signs)\n",
    "X_train_orig, Y_train_orig, X_test_orig, Y_test_orig, classes = load_dataset()"
   ]
  },
  {
   "cell_type": "markdown",
   "metadata": {},
   "source": [
    "As a reminder, the SIGNS dataset is a collection of 6 signs representing numbers from 0 to 5.\n",
    "\n",
    "<img src=\"images/SIGNS.png\" style=\"width:800px;height:300px;\">\n",
    "\n",
    "The next cell will show you an example of a labelled image in the dataset. Feel free to change the value of `index` below and re-run to see different examples. "
   ]
  },
  {
   "cell_type": "code",
   "execution_count": 3,
   "metadata": {},
   "outputs": [
    {
     "name": "stdout",
     "output_type": "stream",
     "text": [
      "y = 2\n"
     ]
    },
    {
     "data": {
      "image/png": "[encoded data removed]",
      "image/svg+xml": "<?xml version=\"1.0\" encoding=\"utf-8\" standalone=\"no\"?>\r\n<!DOCTYPE svg PUBLIC \"-//W3C//DTD SVG 1.1//EN\"\r\n  \"http://www.w3.org/Graphics/SVG/1.1/DTD/svg11.dtd\">\r\n<svg height=\"250.618594pt\" version=\"1.1\" viewBox=\"0 0 251.565 250.618594\" width=\"251.565pt\" xmlns=\"http://www.w3.org/2000/svg\" xmlns:xlink=\"http://www.w3.org/1999/xlink\">\r\n <metadata>\r\n  <rdf:RDF xmlns:cc=\"http://creativecommons.org/ns#\" xmlns:dc=\"http://purl.org/dc/elements/1.1/\" xmlns:rdf=\"http://www.w3.org/1999/02/22-rdf-syntax-ns#\">\r\n   <cc:Work>\r\n    <dc:type rdf:resource=\"http://purl.org/dc/dcmitype/StillImage\"/>\r\n    <dc:date>2021-07-21T21:31:56.506297</dc:date>\r\n    <dc:format>image/svg+xml</dc:format>\r\n    <dc:creator>\r\n     <cc:Agent>\r\n      <dc:title>Matplotlib v3.4.2, https://matplotlib.org/</dc:title>\r\n     </cc:Agent>\r\n    </dc:creator>\r\n   </cc:Work>\r\n  </rdf:RDF>\r\n </metadata>\r\n <defs>\r\n  <style type=\"text/css\">*{stroke-linecap:butt;stroke-linejoin:round;}</style>\r\n </defs>\r\n <g id=\"figure_1\">\r\n  <g id=\"patch_1\">\r\n   <path d=\"M 0 250.618594 \r\nL 251.565 250.618594 \r\nL 251.565 0 \r\nL 0 0 \r\nz\r\n\" style=\"fill:none;\"/>\r\n  </g>\r\n  <g id=\"axes_1\">\r\n   <g id=\"patch_2\">\r\n    <path d=\"M 26.925 226.740469 \r\nL 244.365 226.740469 \r\nL 244.365 9.300469 \r\nL 26.925 9.300469 \r\nz\r\n\" style=\"fill:#ffffff;\"/>\r\n   </g>\r\n   <g clip-path=\"url(#pc8b17889d5)\">\r\n    <image height=\"218\" id=\"imagec9e9a9993b\" transform=\"scale(1 -1)translate(0 -218)\" width=\"218\" x=\"26.925\" xlink:href=\"data:image/png;base64,\r\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\" y=\"-8.740469\"/>\r\n   </g>\r\n   <g id=\"matplotlib.axis_1\">\r\n    <g id=\"xtick_1\">\r\n     <g id=\"line2d_1\">\r\n      <defs>\r\n       <path d=\"M 0 0 \r\nL 0 3.5 \r\n\" id=\"m23fe6c4f6b\" style=\"stroke:#000000;stroke-width:0.8;\"/>\r\n      </defs>\r\n      <g>\r\n       <use style=\"stroke:#000000;stroke-width:0.8;\" x=\"28.62375\" xlink:href=\"#m23fe6c4f6b\" y=\"226.740469\"/>\r\n      </g>\r\n     </g>\r\n     <g id=\"text_1\">\r\n      <!-- 0 -->\r\n      <g transform=\"translate(25.4425 241.338906)scale(0.1 -0.1)\">\r\n       <defs>\r\n        <path d=\"M 2034 4250 \r\nQ 1547 4250 1301 3770 \r\nQ 1056 3291 1056 2328 \r\nQ 1056 1369 1301 889 \r\nQ 1547 409 2034 409 \r\nQ 2525 409 2770 889 \r\nQ 3016 1369 3016 2328 \r\nQ 3016 3291 2770 3770 \r\nQ 2525 4250 2034 4250 \r\nz\r\nM 2034 4750 \r\nQ 2819 4750 3233 4129 \r\nQ 3647 3509 3647 2328 \r\nQ 3647 1150 3233 529 \r\nQ 2819 -91 2034 -91 \r\nQ 1250 -91 836 529 \r\nQ 422 1150 422 2328 \r\nQ 422 3509 836 4129 \r\nQ 1250 4750 2034 4750 \r\nz\r\n\" id=\"DejaVuSans-30\" transform=\"scale(0.015625)\"/>\r\n       </defs>\r\n       <use xlink:href=\"#DejaVuSans-30\"/>\r\n      </g>\r\n     </g>\r\n    </g>\r\n    <g id=\"xtick_2\">\r\n     <g id=\"line2d_2\">\r\n      <g>\r\n       <use style=\"stroke:#000000;stroke-width:0.8;\" x=\"62.59875\" xlink:href=\"#m23fe6c4f6b\" y=\"226.740469\"/>\r\n      </g>\r\n     </g>\r\n     <g id=\"text_2\">\r\n      <!-- 10 -->\r\n      <g transform=\"translate(56.23625 241.338906)scale(0.1 -0.1)\">\r\n       <defs>\r\n        <path d=\"M 794 531 \r\nL 1825 531 \r\nL 1825 4091 \r\nL 703 3866 \r\nL 703 4441 \r\nL 1819 4666 \r\nL 2450 4666 \r\nL 2450 531 \r\nL 3481 531 \r\nL 3481 0 \r\nL 794 0 \r\nL 794 531 \r\nz\r\n\" id=\"DejaVuSans-31\" transform=\"scale(0.015625)\"/>\r\n       </defs>\r\n       <use xlink:href=\"#DejaVuSans-31\"/>\r\n       <use x=\"63.623047\" xlink:href=\"#DejaVuSans-30\"/>\r\n      </g>\r\n     </g>\r\n    </g>\r\n    <g id=\"xtick_3\">\r\n     <g id=\"line2d_3\">\r\n      <g>\r\n       <use style=\"stroke:#000000;stroke-width:0.8;\" x=\"96.57375\" xlink:href=\"#m23fe6c4f6b\" y=\"226.740469\"/>\r\n      </g>\r\n     </g>\r\n     <g id=\"text_3\">\r\n      <!-- 20 -->\r\n      <g transform=\"translate(90.21125 241.338906)scale(0.1 -0.1)\">\r\n       <defs>\r\n        <path d=\"M 1228 531 \r\nL 3431 531 \r\nL 3431 0 \r\nL 469 0 \r\nL 469 531 \r\nQ 828 903 1448 1529 \r\nQ 2069 2156 2228 2338 \r\nQ 2531 2678 2651 2914 \r\nQ 2772 3150 2772 3378 \r\nQ 2772 3750 2511 3984 \r\nQ 2250 4219 1831 4219 \r\nQ 1534 4219 1204 4116 \r\nQ 875 4013 500 3803 \r\nL 500 4441 \r\nQ 881 4594 1212 4672 \r\nQ 1544 4750 1819 4750 \r\nQ 2544 4750 2975 4387 \r\nQ 3406 4025 3406 3419 \r\nQ 3406 3131 3298 2873 \r\nQ 3191 2616 2906 2266 \r\nQ 2828 2175 2409 1742 \r\nQ 1991 1309 1228 531 \r\nz\r\n\" id=\"DejaVuSans-32\" transform=\"scale(0.015625)\"/>\r\n       </defs>\r\n       <use xlink:href=\"#DejaVuSans-32\"/>\r\n       <use x=\"63.623047\" xlink:href=\"#DejaVuSans-30\"/>\r\n      </g>\r\n     </g>\r\n    </g>\r\n    <g id=\"xtick_4\">\r\n     <g id=\"line2d_4\">\r\n      <g>\r\n       <use style=\"stroke:#000000;stroke-width:0.8;\" x=\"130.54875\" xlink:href=\"#m23fe6c4f6b\" y=\"226.740469\"/>\r\n      </g>\r\n     </g>\r\n     <g id=\"text_4\">\r\n      <!-- 30 -->\r\n      <g transform=\"translate(124.18625 241.338906)scale(0.1 -0.1)\">\r\n       <defs>\r\n        <path d=\"M 2597 2516 \r\nQ 3050 2419 3304 2112 \r\nQ 3559 1806 3559 1356 \r\nQ 3559 666 3084 287 \r\nQ 2609 -91 1734 -91 \r\nQ 1441 -91 1130 -33 \r\nQ 819 25 488 141 \r\nL 488 750 \r\nQ 750 597 1062 519 \r\nQ 1375 441 1716 441 \r\nQ 2309 441 2620 675 \r\nQ 2931 909 2931 1356 \r\nQ 2931 1769 2642 2001 \r\nQ 2353 2234 1838 2234 \r\nL 1294 2234 \r\nL 1294 2753 \r\nL 1863 2753 \r\nQ 2328 2753 2575 2939 \r\nQ 2822 3125 2822 3475 \r\nQ 2822 3834 2567 4026 \r\nQ 2313 4219 1838 4219 \r\nQ 1578 4219 1281 4162 \r\nQ 984 4106 628 3988 \r\nL 628 4550 \r\nQ 988 4650 1302 4700 \r\nQ 1616 4750 1894 4750 \r\nQ 2613 4750 3031 4423 \r\nQ 3450 4097 3450 3541 \r\nQ 3450 3153 3228 2886 \r\nQ 3006 2619 2597 2516 \r\nz\r\n\" id=\"DejaVuSans-33\" transform=\"scale(0.015625)\"/>\r\n       </defs>\r\n       <use xlink:href=\"#DejaVuSans-33\"/>\r\n       <use x=\"63.623047\" xlink:href=\"#DejaVuSans-30\"/>\r\n      </g>\r\n     </g>\r\n    </g>\r\n    <g id=\"xtick_5\">\r\n     <g id=\"line2d_5\">\r\n      <g>\r\n       <use style=\"stroke:#000000;stroke-width:0.8;\" x=\"164.52375\" xlink:href=\"#m23fe6c4f6b\" y=\"226.740469\"/>\r\n      </g>\r\n     </g>\r\n     <g id=\"text_5\">\r\n      <!-- 40 -->\r\n      <g transform=\"translate(158.16125 241.338906)scale(0.1 -0.1)\">\r\n       <defs>\r\n        <path d=\"M 2419 4116 \r\nL 825 1625 \r\nL 2419 1625 \r\nL 2419 4116 \r\nz\r\nM 2253 4666 \r\nL 3047 4666 \r\nL 3047 1625 \r\nL 3713 1625 \r\nL 3713 1100 \r\nL 3047 1100 \r\nL 3047 0 \r\nL 2419 0 \r\nL 2419 1100 \r\nL 313 1100 \r\nL 313 1709 \r\nL 2253 4666 \r\nz\r\n\" id=\"DejaVuSans-34\" transform=\"scale(0.015625)\"/>\r\n       </defs>\r\n       <use xlink:href=\"#DejaVuSans-34\"/>\r\n       <use x=\"63.623047\" xlink:href=\"#DejaVuSans-30\"/>\r\n      </g>\r\n     </g>\r\n    </g>\r\n    <g id=\"xtick_6\">\r\n     <g id=\"line2d_6\">\r\n      <g>\r\n       <use style=\"stroke:#000000;stroke-width:0.8;\" x=\"198.49875\" xlink:href=\"#m23fe6c4f6b\" y=\"226.740469\"/>\r\n      </g>\r\n     </g>\r\n     <g id=\"text_6\">\r\n      <!-- 50 -->\r\n      <g transform=\"translate(192.13625 241.338906)scale(0.1 -0.1)\">\r\n       <defs>\r\n        <path d=\"M 691 4666 \r\nL 3169 4666 \r\nL 3169 4134 \r\nL 1269 4134 \r\nL 1269 2991 \r\nQ 1406 3038 1543 3061 \r\nQ 1681 3084 1819 3084 \r\nQ 2600 3084 3056 2656 \r\nQ 3513 2228 3513 1497 \r\nQ 3513 744 3044 326 \r\nQ 2575 -91 1722 -91 \r\nQ 1428 -91 1123 -41 \r\nQ 819 9 494 109 \r\nL 494 744 \r\nQ 775 591 1075 516 \r\nQ 1375 441 1709 441 \r\nQ 2250 441 2565 725 \r\nQ 2881 1009 2881 1497 \r\nQ 2881 1984 2565 2268 \r\nQ 2250 2553 1709 2553 \r\nQ 1456 2553 1204 2497 \r\nQ 953 2441 691 2322 \r\nL 691 4666 \r\nz\r\n\" id=\"DejaVuSans-35\" transform=\"scale(0.015625)\"/>\r\n       </defs>\r\n       <use xlink:href=\"#DejaVuSans-35\"/>\r\n       <use x=\"63.623047\" xlink:href=\"#DejaVuSans-30\"/>\r\n      </g>\r\n     </g>\r\n    </g>\r\n    <g id=\"xtick_7\">\r\n     <g id=\"line2d_7\">\r\n      <g>\r\n       <use style=\"stroke:#000000;stroke-width:0.8;\" x=\"232.47375\" xlink:href=\"#m23fe6c4f6b\" y=\"226.740469\"/>\r\n      </g>\r\n     </g>\r\n     <g id=\"text_7\">\r\n      <!-- 60 -->\r\n      <g transform=\"translate(226.11125 241.338906)scale(0.1 -0.1)\">\r\n       <defs>\r\n        <path d=\"M 2113 2584 \r\nQ 1688 2584 1439 2293 \r\nQ 1191 2003 1191 1497 \r\nQ 1191 994 1439 701 \r\nQ 1688 409 2113 409 \r\nQ 2538 409 2786 701 \r\nQ 3034 994 3034 1497 \r\nQ 3034 2003 2786 2293 \r\nQ 2538 2584 2113 2584 \r\nz\r\nM 3366 4563 \r\nL 3366 3988 \r\nQ 3128 4100 2886 4159 \r\nQ 2644 4219 2406 4219 \r\nQ 1781 4219 1451 3797 \r\nQ 1122 3375 1075 2522 \r\nQ 1259 2794 1537 2939 \r\nQ 1816 3084 2150 3084 \r\nQ 2853 3084 3261 2657 \r\nQ 3669 2231 3669 1497 \r\nQ 3669 778 3244 343 \r\nQ 2819 -91 2113 -91 \r\nQ 1303 -91 875 529 \r\nQ 447 1150 447 2328 \r\nQ 447 3434 972 4092 \r\nQ 1497 4750 2381 4750 \r\nQ 2619 4750 2861 4703 \r\nQ 3103 4656 3366 4563 \r\nz\r\n\" id=\"DejaVuSans-36\" transform=\"scale(0.015625)\"/>\r\n       </defs>\r\n       <use xlink:href=\"#DejaVuSans-36\"/>\r\n       <use x=\"63.623047\" xlink:href=\"#DejaVuSans-30\"/>\r\n      </g>\r\n     </g>\r\n    </g>\r\n   </g>\r\n   <g id=\"matplotlib.axis_2\">\r\n    <g id=\"ytick_1\">\r\n     <g id=\"line2d_8\">\r\n      <defs>\r\n       <path d=\"M 0 0 \r\nL -3.5 0 \r\n\" id=\"m3134c26777\" style=\"stroke:#000000;stroke-width:0.8;\"/>\r\n      </defs>\r\n      <g>\r\n       <use style=\"stroke:#000000;stroke-width:0.8;\" x=\"26.925\" xlink:href=\"#m3134c26777\" y=\"10.999219\"/>\r\n      </g>\r\n     </g>\r\n     <g id=\"text_8\">\r\n      <!-- 0 -->\r\n      <g transform=\"translate(13.5625 14.798437)scale(0.1 -0.1)\">\r\n       <use xlink:href=\"#DejaVuSans-30\"/>\r\n      </g>\r\n     </g>\r\n    </g>\r\n    <g id=\"ytick_2\">\r\n     <g id=\"line2d_9\">\r\n      <g>\r\n       <use style=\"stroke:#000000;stroke-width:0.8;\" x=\"26.925\" xlink:href=\"#m3134c26777\" y=\"44.974219\"/>\r\n      </g>\r\n     </g>\r\n     <g id=\"text_9\">\r\n      <!-- 10 -->\r\n      <g transform=\"translate(7.2 48.773437)scale(0.1 -0.1)\">\r\n       <use xlink:href=\"#DejaVuSans-31\"/>\r\n       <use x=\"63.623047\" xlink:href=\"#DejaVuSans-30\"/>\r\n      </g>\r\n     </g>\r\n    </g>\r\n    <g id=\"ytick_3\">\r\n     <g id=\"line2d_10\">\r\n      <g>\r\n       <use style=\"stroke:#000000;stroke-width:0.8;\" x=\"26.925\" xlink:href=\"#m3134c26777\" y=\"78.949219\"/>\r\n      </g>\r\n     </g>\r\n     <g id=\"text_10\">\r\n      <!-- 20 -->\r\n      <g transform=\"translate(7.2 82.748437)scale(0.1 -0.1)\">\r\n       <use xlink:href=\"#DejaVuSans-32\"/>\r\n       <use x=\"63.623047\" xlink:href=\"#DejaVuSans-30\"/>\r\n      </g>\r\n     </g>\r\n    </g>\r\n    <g id=\"ytick_4\">\r\n     <g id=\"line2d_11\">\r\n      <g>\r\n       <use style=\"stroke:#000000;stroke-width:0.8;\" x=\"26.925\" xlink:href=\"#m3134c26777\" y=\"112.924219\"/>\r\n      </g>\r\n     </g>\r\n     <g id=\"text_11\">\r\n      <!-- 30 -->\r\n      <g transform=\"translate(7.2 116.723437)scale(0.1 -0.1)\">\r\n       <use xlink:href=\"#DejaVuSans-33\"/>\r\n       <use x=\"63.623047\" xlink:href=\"#DejaVuSans-30\"/>\r\n      </g>\r\n     </g>\r\n    </g>\r\n    <g id=\"ytick_5\">\r\n     <g id=\"line2d_12\">\r\n      <g>\r\n       <use style=\"stroke:#000000;stroke-width:0.8;\" x=\"26.925\" xlink:href=\"#m3134c26777\" y=\"146.899219\"/>\r\n      </g>\r\n     </g>\r\n     <g id=\"text_12\">\r\n      <!-- 40 -->\r\n      <g transform=\"translate(7.2 150.698437)scale(0.1 -0.1)\">\r\n       <use xlink:href=\"#DejaVuSans-34\"/>\r\n       <use x=\"63.623047\" xlink:href=\"#DejaVuSans-30\"/>\r\n      </g>\r\n     </g>\r\n    </g>\r\n    <g id=\"ytick_6\">\r\n     <g id=\"line2d_13\">\r\n      <g>\r\n       <use style=\"stroke:#000000;stroke-width:0.8;\" x=\"26.925\" xlink:href=\"#m3134c26777\" y=\"180.874219\"/>\r\n      </g>\r\n     </g>\r\n     <g id=\"text_13\">\r\n      <!-- 50 -->\r\n      <g transform=\"translate(7.2 184.673437)scale(0.1 -0.1)\">\r\n       <use xlink:href=\"#DejaVuSans-35\"/>\r\n       <use x=\"63.623047\" xlink:href=\"#DejaVuSans-30\"/>\r\n      </g>\r\n     </g>\r\n    </g>\r\n    <g id=\"ytick_7\">\r\n     <g id=\"line2d_14\">\r\n      <g>\r\n       <use style=\"stroke:#000000;stroke-width:0.8;\" x=\"26.925\" xlink:href=\"#m3134c26777\" y=\"214.849219\"/>\r\n      </g>\r\n     </g>\r\n     <g id=\"text_14\">\r\n      <!-- 60 -->\r\n      <g transform=\"translate(7.2 218.648437)scale(0.1 -0.1)\">\r\n       <use xlink:href=\"#DejaVuSans-36\"/>\r\n       <use x=\"63.623047\" xlink:href=\"#DejaVuSans-30\"/>\r\n      </g>\r\n     </g>\r\n    </g>\r\n   </g>\r\n   <g id=\"patch_3\">\r\n    <path d=\"M 26.925 226.740469 \r\nL 26.925 9.300469 \r\n\" style=\"fill:none;stroke:#000000;stroke-linecap:square;stroke-linejoin:miter;stroke-width:0.8;\"/>\r\n   </g>\r\n   <g id=\"patch_4\">\r\n    <path d=\"M 244.365 226.740469 \r\nL 244.365 9.300469 \r\n\" style=\"fill:none;stroke:#000000;stroke-linecap:square;stroke-linejoin:miter;stroke-width:0.8;\"/>\r\n   </g>\r\n   <g id=\"patch_5\">\r\n    <path d=\"M 26.925 226.740469 \r\nL 244.365 226.740469 \r\n\" style=\"fill:none;stroke:#000000;stroke-linecap:square;stroke-linejoin:miter;stroke-width:0.8;\"/>\r\n   </g>\r\n   <g id=\"patch_6\">\r\n    <path d=\"M 26.925 9.300469 \r\nL 244.365 9.300469 \r\n\" style=\"fill:none;stroke:#000000;stroke-linecap:square;stroke-linejoin:miter;stroke-width:0.8;\"/>\r\n   </g>\r\n  </g>\r\n </g>\r\n <defs>\r\n  <clipPath id=\"pc8b17889d5\">\r\n   <rect height=\"217.44\" width=\"217.44\" x=\"26.925\" y=\"9.300469\"/>\r\n  </clipPath>\r\n </defs>\r\n</svg>\r\n",
      "text/plain": [
       "<Figure size 432x288 with 1 Axes>"
      ]
     },
     "metadata": {
      "needs_background": "light"
     },
     "output_type": "display_data"
    }
   ],
   "source": [
    "# Example of a picture\n",
    "index = 6\n",
    "plt.imshow(X_train_orig[index])\n",
    "print (\"y = \" + str(np.squeeze(Y_train_orig[:, index])))"
   ]
  },
  {
   "cell_type": "markdown",
   "metadata": {},
   "source": [
    "In Course 2, you had built a fully-connected network for this dataset. But since this is an image dataset, it is more natural to apply a ConvNet to it.\n",
    "\n",
    "To get started, let's examine the shapes of your data. "
   ]
  },
  {
   "cell_type": "code",
   "execution_count": 4,
   "metadata": {},
   "outputs": [
    {
     "name": "stdout",
     "output_type": "stream",
     "text": [
      "number of training examples = 1080\n",
      "number of test examples = 120\n",
      "X_train shape: (1080, 64, 64, 3)\n",
      "Y_train shape: (1080, 6)\n",
      "X_test shape: (120, 64, 64, 3)\n",
      "Y_test shape: (120, 6)\n"
     ]
    }
   ],
   "source": [
    "X_train = X_train_orig/255.\n",
    "X_test = X_test_orig/255.\n",
    "Y_train = convert_to_one_hot(Y_train_orig, 6).T\n",
    "Y_test = convert_to_one_hot(Y_test_orig, 6).T\n",
    "print (\"number of training examples = \" + str(X_train.shape[0]))\n",
    "print (\"number of test examples = \" + str(X_test.shape[0]))\n",
    "print (\"X_train shape: \" + str(X_train.shape))\n",
    "print (\"Y_train shape: \" + str(Y_train.shape))\n",
    "print (\"X_test shape: \" + str(X_test.shape))\n",
    "print (\"Y_test shape: \" + str(Y_test.shape))\n",
    "conv_layers = {}"
   ]
  },
  {
   "cell_type": "markdown",
   "metadata": {},
   "source": [
    "### 1.1 - Create placeholders\n",
    "\n",
    "TensorFlow requires that you create placeholders for the input data that will be fed into the model when running the session.\n",
    "\n",
    "**Exercise**: Implement the function below to create placeholders for the input image X and the output Y. You should not define the number of training examples for the moment. To do so, you could use \"None\" as the batch size, it will give you the flexibility to choose it later. Hence X should be of dimension **[None, n_H0, n_W0, n_C0]** and Y should be of dimension **[None, n_y]**.  [Hint: search for the tf.placeholder documentation\"](https://www.tensorflow.org/api_docs/python/tf/placeholder)."
   ]
  },
  {
   "cell_type": "code",
   "execution_count": null,
   "metadata": {
    "collapsed": true
   },
   "outputs": [],
   "source": [
    "# GRADED FUNCTION: create_placeholders\n",
    "\n",
    "def create_placeholders(n_H0, n_W0, n_C0, n_y):\n",
    "    \"\"\"\n",
    "    Creates the placeholders for the tensorflow session.\n",
    "    \n",
    "    Arguments:\n",
    "    n_H0 -- scalar, height of an input image\n",
    "    n_W0 -- scalar, width of an input image\n",
    "    n_C0 -- scalar, number of channels of the input\n",
    "    n_y -- scalar, number of classes\n",
    "        \n",
    "    Returns:\n",
    "    X -- placeholder for the data input, of shape [None, n_H0, n_W0, n_C0] and dtype \"float\"\n",
    "    Y -- placeholder for the input labels, of shape [None, n_y] and dtype \"float\"\n",
    "    \"\"\"\n",
    "\n",
    "    ### START CODE HERE ### (≈2 lines)\n",
    "    ### END CODE HERE ###\n",
    "    \n",
    "    return X, Y"
   ]
  },
  {
   "cell_type": "code",
   "execution_count": null,
   "metadata": {},
   "outputs": [],
   "source": [
    "X, Y = create_placeholders(64, 64, 3, 6)\n",
    "print (\"X = \" + str(X))\n",
    "print (\"Y = \" + str(Y))"
   ]
  },
  {
   "cell_type": "markdown",
   "metadata": {},
   "source": [
    "**Expected Output**\n",
    "\n",
    "<table> \n",
    "<tr>\n",
    "<td>\n",
    "    X = Tensor(\"Placeholder:0\", shape=(?, 64, 64, 3), dtype=float32)\n",
    "\n",
    "</td>\n",
    "</tr>\n",
    "<tr>\n",
    "<td>\n",
    "    Y = Tensor(\"Placeholder_1:0\", shape=(?, 6), dtype=float32)\n",
    "\n",
    "</td>\n",
    "</tr>\n",
    "</table>"
   ]
  },
  {
   "cell_type": "markdown",
   "metadata": {},
   "source": [
    "### 1.2 - Initialize parameters\n",
    "\n",
    "You will initialize weights/filters $W1$ and $W2$ using `tf.contrib.layers.xavier_initializer(seed = 0)`. You don't need to worry about bias variables as you will soon see that TensorFlow functions take care of the bias. Note also that you will only initialize the weights/filters for the conv2d functions. TensorFlow initializes the layers for the fully connected part automatically. We will talk more about that later in this assignment.\n",
    "\n",
    "**Exercise:** Implement initialize_parameters(). The dimensions for each group of filters are provided below. Reminder - to initialize a parameter $W$ of shape [1,2,3,4] in Tensorflow, use:\n",
    "```python\n",
    "W = tf.get_variable(\"W\", [1,2,3,4], initializer = ...)\n",
    "```\n",
    "#### tf.get_variable()\n",
    "[Search for the tf.get_variable documentation](https://www.tensorflow.org/api_docs/python/tf/get_variable).  Notice that the documentation says:\n",
    "```\n",
    "Gets an existing variable with these parameters or create a new one.\n",
    "```\n",
    "So we can use this function to create a tensorflow variable with the specified name, but if the variables already exist, it will get the existing variable with that same name.\n"
   ]
  },
  {
   "cell_type": "code",
   "execution_count": null,
   "metadata": {
    "collapsed": true
   },
   "outputs": [],
   "source": [
    "# GRADED FUNCTION: initialize_parameters\n",
    "\n",
    "def initialize_parameters():\n",
    "    \"\"\"\n",
    "    Initializes weight parameters to build a neural network with tensorflow. The shapes are:\n",
    "                        W1 : [4, 4, 3, 8]\n",
    "                        W2 : [2, 2, 8, 16]\n",
    "    Note that we will hard code the shape values in the function to make the grading simpler.\n",
    "    Normally, functions should take values as inputs rather than hard coding.\n",
    "    Returns:\n",
    "    parameters -- a dictionary of tensors containing W1, W2\n",
    "    \"\"\"\n",
    "    \n",
    "    tf.set_random_seed(1)                              # so that your \"random\" numbers match ours\n",
    "        \n",
    "    ### START CODE HERE ### (approx. 2 lines of code)\n",
    "    ### END CODE HERE ###\n",
    "\n",
    "    parameters = {\"W1\": W1,\n",
    "                  \"W2\": W2}\n",
    "    \n",
    "    return parameters"
   ]
  },
  {
   "cell_type": "code",
   "execution_count": null,
   "metadata": {},
   "outputs": [],
   "source": [
    "tf.reset_default_graph()\n",
    "with tf.Session() as sess_test:\n",
    "    parameters = initialize_parameters()\n",
    "    init = tf.global_variables_initializer()\n",
    "    sess_test.run(init)\n",
    "    print(\"W1[1,1,1] = \\n\" + str(parameters[\"W1\"].eval()[1,1,1]))\n",
    "    print(\"W1.shape: \" + str(parameters[\"W1\"].shape))\n",
    "    print(\"\\n\")\n",
    "    print(\"W2[1,1,1] = \\n\" + str(parameters[\"W2\"].eval()[1,1,1]))\n",
    "    print(\"W2.shape: \" + str(parameters[\"W2\"].shape))"
   ]
  },
  {
   "cell_type": "markdown",
   "metadata": {},
   "source": [
    "** Expected Output:**\n",
    "\n",
    "```\n",
    "W1[1,1,1] = \n",
    "[ 0.00131723  0.14176141 -0.04434952  0.09197326  0.14984085 -0.03514394\n",
    " -0.06847463  0.05245192]\n",
    "W1.shape: (4, 4, 3, 8)\n",
    "\n",
    "\n",
    "W2[1,1,1] = \n",
    "[-0.08566415  0.17750949  0.11974221  0.16773748 -0.0830943  -0.08058\n",
    " -0.00577033 -0.14643836  0.24162132 -0.05857408 -0.19055021  0.1345228\n",
    " -0.22779644 -0.1601823  -0.16117483 -0.10286498]\n",
    "W2.shape: (2, 2, 8, 16)\n",
    "```"
   ]
  },
  {
   "cell_type": "markdown",
   "metadata": {},
   "source": [
    "### 1.3 - Forward propagation\n",
    "\n",
    "In TensorFlow, there are built-in functions that implement the convolution steps for you.\n",
    "\n",
    "- **tf.nn.conv2d(X,W, strides = [1,s,s,1], padding = 'SAME'):** given an input $X$ and a group of filters $W$, this function convolves $W$'s filters on X. The third parameter ([1,s,s,1]) represents the strides for each dimension of the input (m, n_H_prev, n_W_prev, n_C_prev). Normally, you'll choose a stride of 1 for the number of examples (the first value) and for the channels (the fourth value), which is why we wrote the value as `[1,s,s,1]`. You can read the full documentation on [conv2d](https://www.tensorflow.org/api_docs/python/tf/nn/conv2d).\n",
    "\n",
    "- **tf.nn.max_pool(A, ksize = [1,f,f,1], strides = [1,s,s,1], padding = 'SAME'):** given an input A, this function uses a window of size (f, f) and strides of size (s, s) to carry out max pooling over each window.  For max pooling, we usually operate on a single example at a time and a single channel at a time.  So the first and fourth value in `[1,f,f,1]` are both 1.  You can read the full documentation on [max_pool](https://www.tensorflow.org/api_docs/python/tf/nn/max_pool).\n",
    "\n",
    "- **tf.nn.relu(Z):** computes the elementwise ReLU of Z (which can be any shape). You can read the full documentation on [relu](https://www.tensorflow.org/api_docs/python/tf/nn/relu).\n",
    "\n",
    "- **tf.contrib.layers.flatten(P)**: given a tensor \"P\", this function takes each training (or test) example in the batch and flattens it into a 1D vector.  \n",
    "    * If a tensor P has the shape (m,h,w,c), where m is the number of examples (the batch size), it returns a flattened tensor with shape (batch_size, k), where $k=h \\times w \\times c$.  \"k\" equals the product of all the dimension sizes other than the first dimension.\n",
    "    * For example, given a tensor with dimensions [100,2,3,4], it flattens the tensor to be of shape [100, 24], where 24 = 2 * 3 * 4.  You can read the full documentation on [flatten](https://www.tensorflow.org/api_docs/python/tf/contrib/layers/flatten).\n",
    "\n",
    "- **tf.contrib.layers.fully_connected(F, num_outputs):** given the flattened input F, it returns the output computed using a fully connected layer. You can read the full documentation on [full_connected](https://www.tensorflow.org/api_docs/python/tf/contrib/layers/fully_connected).\n",
    "\n",
    "In the last function above (`tf.contrib.layers.fully_connected`), the fully connected layer automatically initializes weights in the graph and keeps on training them as you train the model. Hence, you did not need to initialize those weights when initializing the parameters.\n",
    "\n",
    "\n",
    "#### Window, kernel, filter\n",
    "The words \"window\", \"kernel\", and \"filter\" are used to refer to the same thing.  This is why the parameter `ksize` refers to \"kernel size\", and we use `(f,f)` to refer to the filter size.  Both \"kernel\" and \"filter\" refer to the \"window.\""
   ]
  },
  {
   "cell_type": "markdown",
   "metadata": {},
   "source": [
    "**Exercise**\n",
    "\n",
    "Implement the `forward_propagation` function below to build the following model: `CONV2D -> RELU -> MAXPOOL -> CONV2D -> RELU -> MAXPOOL -> FLATTEN -> FULLYCONNECTED`. You should use the functions above. \n",
    "\n",
    "In detail, we will use the following parameters for all the steps:\n",
    " - Conv2D: stride 1, padding is \"SAME\"\n",
    " - ReLU\n",
    " - Max pool: Use an 8 by 8 filter size and an 8 by 8 stride, padding is \"SAME\"\n",
    " - Conv2D: stride 1, padding is \"SAME\"\n",
    " - ReLU\n",
    " - Max pool: Use a 4 by 4 filter size and a 4 by 4 stride, padding is \"SAME\"\n",
    " - Flatten the previous output.\n",
    " - FULLYCONNECTED (FC) layer: Apply a fully connected layer without an non-linear activation function. Do not call the softmax here. This will result in 6 neurons in the output layer, which then get passed later to a softmax. In TensorFlow, the softmax and cost function are lumped together into a single function, which you'll call in a different function when computing the cost. "
   ]
  },
  {
   "cell_type": "code",
   "execution_count": null,
   "metadata": {
    "collapsed": true
   },
   "outputs": [],
   "source": [
    "# GRADED FUNCTION: forward_propagation\n",
    "\n",
    "def forward_propagation(X, parameters):\n",
    "    \"\"\"\n",
    "    Implements the forward propagation for the model:\n",
    "    CONV2D -> RELU -> MAXPOOL -> CONV2D -> RELU -> MAXPOOL -> FLATTEN -> FULLYCONNECTED\n",
    "    \n",
    "    Note that for simplicity and grading purposes, we'll hard-code some values\n",
    "    such as the stride and kernel (filter) sizes. \n",
    "    Normally, functions should take these values as function parameters.\n",
    "    \n",
    "    Arguments:\n",
    "    X -- input dataset placeholder, of shape (input size, number of examples)\n",
    "    parameters -- python dictionary containing your parameters \"W1\", \"W2\"\n",
    "                  the shapes are given in initialize_parameters\n",
    "\n",
    "    Returns:\n",
    "    Z3 -- the output of the last LINEAR unit\n",
    "    \"\"\"\n",
    "    \n",
    "    # Retrieve the parameters from the dictionary \"parameters\" \n",
    "    W1 = parameters['W1']\n",
    "    W2 = parameters['W2']\n",
    "    \n",
    "    ### START CODE HERE ###\n",
    "    # CONV2D: stride of 1, padding 'SAME'\n",
    "    # RELU\n",
    "    # MAXPOOL: window 8x8, stride 8, padding 'SAME'\n",
    "    # CONV2D: filters W2, stride 1, padding 'SAME'\n",
    "    # RELU\n",
    "    # MAXPOOL: window 4x4, stride 4, padding 'SAME'\n",
    "    # FLATTEN\n",
    "    # FULLY-CONNECTED without non-linear activation function (not not call softmax).\n",
    "    # 6 neurons in output layer. Hint: one of the arguments should be \"activation_fn=None\"\n",
    "    ### END CODE HERE ###\n",
    "\n",
    "    return Z3"
   ]
  },
  {
   "cell_type": "code",
   "execution_count": null,
   "metadata": {},
   "outputs": [],
   "source": [
    "tf.reset_default_graph()\n",
    "\n",
    "with tf.Session() as sess:\n",
    "    np.random.seed(1)\n",
    "    X, Y = create_placeholders(64, 64, 3, 6)\n",
    "    parameters = initialize_parameters()\n",
    "    Z3 = forward_propagation(X, parameters)\n",
    "    init = tf.global_variables_initializer()\n",
    "    sess.run(init)\n",
    "    a = sess.run(Z3, {X: np.random.randn(2,64,64,3), Y: np.random.randn(2,6)})\n",
    "    print(\"Z3 = \\n\" + str(a))"
   ]
  },
  {
   "cell_type": "markdown",
   "metadata": {},
   "source": [
    "**Expected Output**:\n",
    "\n",
    "```\n",
    "Z3 = \n",
    "[[-0.44670227 -1.57208765 -1.53049231 -2.31013036 -1.29104376  0.46852064]\n",
    " [-0.17601591 -1.57972014 -1.4737016  -2.61672091 -1.00810647  0.5747785 ]]\n",
    "```"
   ]
  },
  {
   "cell_type": "markdown",
   "metadata": {},
   "source": [
    "### 1.4 - Compute cost\n",
    "\n",
    "Implement the compute cost function below. Remember that the cost function helps the neural network see how much the model's predictions differ from the correct labels.  By adjusting the weights of the network to reduce the cost, the neural network can improve its predictions.\n",
    "\n",
    "You might find these two functions helpful: \n",
    "\n",
    "- **tf.nn.softmax_cross_entropy_with_logits(logits = Z, labels = Y):** computes the softmax entropy loss. This function both computes the softmax activation function as well as the resulting loss. You can check the full documentation  [softmax_cross_entropy_with_logits](https://www.tensorflow.org/api_docs/python/tf/nn/softmax_cross_entropy_with_logits).\n",
    "- **tf.reduce_mean:** computes the mean of elements across dimensions of a tensor. Use this to calculate the sum of the losses over all the examples to get the overall cost. You can check the full documentation [reduce_mean](https://www.tensorflow.org/api_docs/python/tf/reduce_mean).\n",
    "\n",
    "#### Details on softmax_cross_entropy_with_logits (optional reading)\n",
    "* Softmax is used to format outputs so that they can be used for classification.  It assigns a value between 0 and 1 for each category, where the sum of all prediction values (across all possible categories) equals 1.\n",
    "* Cross Entropy is compares the model's predicted classifications with the actual labels and results in a numerical value representing the \"loss\" of the model's predictions.\n",
    "* \"Logits\" are the result of multiplying the weights and adding the biases.  Logits are passed through an activation function (such as a relu), and the result is called the \"activation.\"\n",
    "* The function is named `softmax_cross_entropy_with_logits` takes logits as input (and not activations); then uses the model to predict using softmax, and then compares the predictions with the true labels using cross entropy.  These are done with a single function to optimize the calculations.\n",
    "\n",
    "** Exercise**: Compute the cost below using the function above."
   ]
  },
  {
   "cell_type": "code",
   "execution_count": null,
   "metadata": {
    "collapsed": true
   },
   "outputs": [],
   "source": [
    "# GRADED FUNCTION: compute_cost \n",
    "\n",
    "def compute_cost(Z3, Y):\n",
    "    \"\"\"\n",
    "    Computes the cost\n",
    "    \n",
    "    Arguments:\n",
    "    Z3 -- output of forward propagation (output of the last LINEAR unit), of shape (number of examples, 6)\n",
    "    Y -- \"true\" labels vector placeholder, same shape as Z3\n",
    "    \n",
    "    Returns:\n",
    "    cost - Tensor of the cost function\n",
    "    \"\"\"\n",
    "    \n",
    "    ### START CODE HERE ### (1 line of code)\n",
    "    ### END CODE HERE ###\n",
    "    \n",
    "    return cost"
   ]
  },
  {
   "cell_type": "code",
   "execution_count": null,
   "metadata": {},
   "outputs": [],
   "source": [
    "tf.reset_default_graph()\n",
    "\n",
    "with tf.Session() as sess:\n",
    "    np.random.seed(1)\n",
    "    X, Y = create_placeholders(64, 64, 3, 6)\n",
    "    parameters = initialize_parameters()\n",
    "    Z3 = forward_propagation(X, parameters)\n",
    "    cost = compute_cost(Z3, Y)\n",
    "    init = tf.global_variables_initializer()\n",
    "    sess.run(init)\n",
    "    a = sess.run(cost, {X: np.random.randn(4,64,64,3), Y: np.random.randn(4,6)})\n",
    "    print(\"cost = \" + str(a))"
   ]
  },
  {
   "cell_type": "markdown",
   "metadata": {},
   "source": [
    "**Expected Output**: \n",
    "```\n",
    "cost = 2.91034\n",
    "```"
   ]
  },
  {
   "cell_type": "markdown",
   "metadata": {},
   "source": [
    "## 1.5 Model \n",
    "\n",
    "Finally you will merge the helper functions you implemented above to build a model. You will train it on the SIGNS dataset. \n",
    "\n",
    "**Exercise**: Complete the function below. \n",
    "\n",
    "The model below should:\n",
    "\n",
    "- create placeholders\n",
    "- initialize parameters\n",
    "- forward propagate\n",
    "- compute the cost\n",
    "- create an optimizer\n",
    "\n",
    "Finally you will create a session and run a for loop  for num_epochs, get the mini-batches, and then for each mini-batch you will optimize the function. [Hint for initializing the variables](https://www.tensorflow.org/api_docs/python/tf/global_variables_initializer)"
   ]
  },
  {
   "cell_type": "markdown",
   "metadata": {},
   "source": [
    "#### Adam Optimizer\n",
    "You can use `tf.train.AdamOptimizer(learning_rate = ...)` to create the optimizer.  The optimizer has a `minimize(loss=...)` function that you'll call to set the cost function that the optimizer will minimize.\n",
    "\n",
    "For details, check out the documentation for [Adam Optimizer](https://www.tensorflow.org/api_docs/python/tf/train/AdamOptimizer)"
   ]
  },
  {
   "cell_type": "markdown",
   "metadata": {},
   "source": [
    "#### Random mini batches\n",
    "If you took course 2 of the deep learning specialization, you implemented `random_mini_batches()` in the \"Optimization\" programming assignment. This function returns a list of mini-batches. It is already implemented in the `cnn_utils.py` file and imported here, so you can call it like this:\n",
    "```Python\n",
    "minibatches = random_mini_batches(X, Y, mini_batch_size = 64, seed = 0)\n",
    "```\n",
    "(You will want to choose the correct variable names when you use it in your code)."
   ]
  },
  {
   "cell_type": "markdown",
   "metadata": {},
   "source": [
    "#### Evaluating the optimizer and cost\n",
    "\n",
    "Within a loop, for each mini-batch, you'll use the `tf.Session` object (named `sess`) to feed a mini-batch of inputs and labels into the neural network and evaluate the tensors for the optimizer as well as the cost.  Remember that we built a graph data structure and need to feed it inputs and labels and use `sess.run()` in order to get values for the optimizer and cost.\n",
    "\n",
    "You'll use this kind of syntax:\n",
    "```\n",
    "output_for_var1, output_for_var2 = sess.run(\n",
    "                                                fetches=[var1, var2],\n",
    "                                                feed_dict={var_inputs: the_batch_of_inputs,\n",
    "                                                           var_labels: the_batch_of_labels}\n",
    "                                                )\n",
    "```\n",
    "* Notice that `sess.run` takes its first argument `fetches` as a list of objects that you want it to evaluate (in this case, we want to evaluate the optimizer and the cost).  \n",
    "* It also takes a dictionary for the `feed_dict` parameter.  \n",
    "* The keys are the `tf.placeholder` variables that we created in the `create_placeholders` function above.  \n",
    "* The values are the variables holding the actual numpy arrays for each mini-batch.  \n",
    "* The sess.run outputs a tuple of the evaluated tensors, in the same order as the list given to `fetches`. \n",
    "\n",
    "For more information on how to use sess.run, see the documentation [tf.Sesssion#run](https://www.tensorflow.org/api_docs/python/tf/Session#run) documentation."
   ]
  },
  {
   "cell_type": "code",
   "execution_count": null,
   "metadata": {
    "collapsed": true
   },
   "outputs": [],
   "source": [
    "# GRADED FUNCTION: model\n",
    "\n",
    "def model(X_train, Y_train, X_test, Y_test, learning_rate = 0.009,\n",
    "          num_epochs = 100, minibatch_size = 64, print_cost = True):\n",
    "    \"\"\"\n",
    "    Implements a three-layer ConvNet in Tensorflow:\n",
    "    CONV2D -> RELU -> MAXPOOL -> CONV2D -> RELU -> MAXPOOL -> FLATTEN -> FULLYCONNECTED\n",
    "    \n",
    "    Arguments:\n",
    "    X_train -- training set, of shape (None, 64, 64, 3)\n",
    "    Y_train -- test set, of shape (None, n_y = 6)\n",
    "    X_test -- training set, of shape (None, 64, 64, 3)\n",
    "    Y_test -- test set, of shape (None, n_y = 6)\n",
    "    learning_rate -- learning rate of the optimization\n",
    "    num_epochs -- number of epochs of the optimization loop\n",
    "    minibatch_size -- size of a minibatch\n",
    "    print_cost -- True to print the cost every 100 epochs\n",
    "    \n",
    "    Returns:\n",
    "    train_accuracy -- real number, accuracy on the train set (X_train)\n",
    "    test_accuracy -- real number, testing accuracy on the test set (X_test)\n",
    "    parameters -- parameters learnt by the model. They can then be used to predict.\n",
    "    \"\"\"\n",
    "    \n",
    "    ops.reset_default_graph()                         # to be able to rerun the model without overwriting tf variables\n",
    "    tf.set_random_seed(1)                             # to keep results consistent (tensorflow seed)\n",
    "    seed = 3                                          # to keep results consistent (numpy seed)\n",
    "    (m, n_H0, n_W0, n_C0) = X_train.shape             \n",
    "    n_y = Y_train.shape[1]                            \n",
    "    costs = []                                        # To keep track of the cost\n",
    "    \n",
    "    # Create Placeholders of the correct shape\n",
    "    ### START CODE HERE ### (1 line)\n",
    "    ### END CODE HERE ###\n",
    "\n",
    "    # Initialize parameters\n",
    "    ### START CODE HERE ### (1 line)\n",
    "    ### END CODE HERE ###\n",
    "    \n",
    "    # Forward propagation: Build the forward propagation in the tensorflow graph\n",
    "    ### START CODE HERE ### (1 line)\n",
    "    ### END CODE HERE ###\n",
    "    \n",
    "    # Cost function: Add cost function to tensorflow graph\n",
    "    ### START CODE HERE ### (1 line)\n",
    "    ### END CODE HERE ###\n",
    "    \n",
    "    # Backpropagation: Define the tensorflow optimizer. Use an AdamOptimizer that minimizes the cost.\n",
    "    ### START CODE HERE ### (1 line)\n",
    "    ### END CODE HERE ###\n",
    "    \n",
    "    # Initialize all the variables globally\n",
    "    init = tf.global_variables_initializer()\n",
    "     \n",
    "    # Start the session to compute the tensorflow graph\n",
    "    with tf.Session() as sess:\n",
    "        \n",
    "        # Run the initialization\n",
    "        sess.run(init)\n",
    "        \n",
    "        # Do the training loop\n",
    "        for epoch in range(num_epochs):\n",
    "\n",
    "            minibatch_cost = 0.\n",
    "            num_minibatches = int(m / minibatch_size) # number of minibatches of size minibatch_size in the train set\n",
    "            seed = seed + 1\n",
    "            minibatches = random_mini_batches(X_train, Y_train, minibatch_size, seed)\n",
    "\n",
    "            for minibatch in minibatches:\n",
    "\n",
    "                # Select a minibatch\n",
    "                (minibatch_X, minibatch_Y) = minibatch\n",
    "                \"\"\"\n",
    "                # IMPORTANT: The line that runs the graph on a minibatch.\n",
    "                # Run the session to execute the optimizer and the cost.\n",
    "                # The feedict should contain a minibatch for (X,Y).\n",
    "                \"\"\"\n",
    "                ### START CODE HERE ### (1 line)\n",
    "                ### END CODE HERE ###\n",
    "                \n",
    "                minibatch_cost += temp_cost / num_minibatches\n",
    "                \n",
    "\n",
    "            # Print the cost every epoch\n",
    "            if print_cost == True and epoch % 5 == 0:\n",
    "                print (\"Cost after epoch %i: %f\" % (epoch, minibatch_cost))\n",
    "            if print_cost == True and epoch % 1 == 0:\n",
    "                costs.append(minibatch_cost)\n",
    "        \n",
    "        \n",
    "        # plot the cost\n",
    "        plt.plot(np.squeeze(costs))\n",
    "        plt.ylabel('cost')\n",
    "        plt.xlabel('iterations (per tens)')\n",
    "        plt.title(\"Learning rate =\" + str(learning_rate))\n",
    "        plt.show()\n",
    "\n",
    "        # Calculate the correct predictions\n",
    "        predict_op = tf.argmax(Z3, 1)\n",
    "        correct_prediction = tf.equal(predict_op, tf.argmax(Y, 1))\n",
    "        \n",
    "        # Calculate accuracy on the test set\n",
    "        accuracy = tf.reduce_mean(tf.cast(correct_prediction, \"float\"))\n",
    "        print(accuracy)\n",
    "        train_accuracy = accuracy.eval({X: X_train, Y: Y_train})\n",
    "        test_accuracy = accuracy.eval({X: X_test, Y: Y_test})\n",
    "        print(\"Train Accuracy:\", train_accuracy)\n",
    "        print(\"Test Accuracy:\", test_accuracy)\n",
    "                \n",
    "        return train_accuracy, test_accuracy, parameters"
   ]
  },
  {
   "cell_type": "markdown",
   "metadata": {},
   "source": [
    "Run the following cell to train your model for 100 epochs. Check if your cost after epoch 0 and 5 matches our output. If not, stop the cell and go back to your code!"
   ]
  },
  {
   "cell_type": "code",
   "execution_count": null,
   "metadata": {},
   "outputs": [],
   "source": [
    "_, _, parameters = model(X_train, Y_train, X_test, Y_test)"
   ]
  },
  {
   "cell_type": "markdown",
   "metadata": {},
   "source": [
    "## Use Tensorflow 2.x"
   ]
  },
  {
   "cell_type": "code",
   "execution_count": 43,
   "metadata": {},
   "outputs": [],
   "source": [
    "def initialize_parameters():\n",
    "    \"\"\"\n",
    "    Initializes weight parameters to build a neural network with tensorflow. The shapes are:\n",
    "                        W1 : [4, 4, 3, 8]\n",
    "                        W2 : [2, 2, 8, 16]\n",
    "    Note that we will hard code the shape values in the function to make the grading simpler.\n",
    "    Normally, functions should take values as inputs rather than hard coding.\n",
    "    Returns:\n",
    "    parameters -- a dictionary of tensors containing W1, W2\n",
    "    \"\"\"\n",
    "    initializer = tf.initializers.GlorotUniform(0)\n",
    "    W1 = tf.Variable(initializer([4, 4, 3, 8]))  # CONV2D 1\n",
    "    W2 = tf.Variable(initializer([2, 2, 8, 16])) # CONV2D 2\n",
    "    W3 = tf.Variable(initializer([2*2*16, 6]))   # FC\n",
    "    b1 = tf.Variable(tf.zeros([8]))  # CONV2D 1\n",
    "    b2 = tf.Variable(tf.zeros([16])) # CONV2D 2\n",
    "    b3 = tf.Variable(tf.zeros([6]))  # FC \n",
    "\n",
    "    return {\n",
    "        'W1': W1,\n",
    "        'W2': W2,\n",
    "        'W3': W3,\n",
    "        'b1': b1,\n",
    "        'b2': b2,\n",
    "        'b3': b3\n",
    "    }"
   ]
  },
  {
   "cell_type": "code",
   "execution_count": 35,
   "metadata": {},
   "outputs": [],
   "source": [
    "def forward_propagation(X, parameters):\n",
    "    \"\"\"\n",
    "    Implements the forward propagation for the model:\n",
    "    CONV2D -> RELU -> MAXPOOL -> CONV2D -> RELU -> MAXPOOL -> FLATTEN -> FULLYCONNECTED\n",
    "    \n",
    "    Note that for simplicity and grading purposes, we'll hard-code some values\n",
    "    such as the stride and kernel (filter) sizes. \n",
    "    Normally, functions should take these values as function parameters.\n",
    "    \n",
    "    Arguments:\n",
    "    X -- input dataset placeholder, of shape (input size, number of examples)\n",
    "    parameters -- python dictionary containing your parameters \"W1\", \"W2\"\n",
    "                  the shapes are given in initialize_parameters\n",
    "\n",
    "    Returns:\n",
    "    Z3 -- the output of the last LINEAR unit\n",
    "    \"\"\"\n",
    "    W1 = parameters['W1']\n",
    "    W2 = parameters['W2']\n",
    "    W3 = parameters['W3']\n",
    "    b1 = parameters['b1']\n",
    "    b2 = parameters['b2']\n",
    "    b3 = parameters['b3']\n",
    "\n",
    "    # CONV2D. Output shape: (n, 61, 61, 8)\n",
    "    X = tf.nn.conv2d(X, W1, strides=[1,1,1,1], padding='SAME')\n",
    "    X = tf.nn.bias_add(X, b1)\n",
    "    # RELU\n",
    "    X = tf.nn.relu(X)\n",
    "    # MAXPOOL. Output shape: (n, 8, 8, 8)\n",
    "    X = tf.nn.max_pool(X, ksize=[1,8,8,1], strides=[1,8,8,1], padding='SAME')\n",
    "    \n",
    "    # CONV2D. Output shape: (n, 7, 7, 16)\n",
    "    X = tf.nn.conv2d(X, W2, strides=[1,1,1,1], padding='SAME')\n",
    "    X = tf.nn.bias_add(X, b2)\n",
    "    # RELU\n",
    "    X = tf.nn.relu(X)\n",
    "    # MAXPOOL. Output shape: (n, 2, 2, 16)\n",
    "    X = tf.nn.max_pool(X, ksize=[1,4,4,1], strides=[1,4,4,1], padding='SAME')\n",
    "    \n",
    "    # FLATTEN Output shape: (n, 64)\n",
    "    X = tf.reshape(X, [-1, W3.get_shape().as_list()[0]])\n",
    "    # FULLYCONNECTED. Output shape: (n, 6)\n",
    "    X = tf.add(tf.matmul(X, W3), b3)\n",
    "\n",
    "    return X"
   ]
  },
  {
   "cell_type": "code",
   "execution_count": 40,
   "metadata": {},
   "outputs": [],
   "source": [
    "def compute_cost(Y_hat, Y):\n",
    "    \"\"\"\n",
    "    Computes the cost\n",
    "    \n",
    "    Arguments:\n",
    "    Z3 -- output of forward propagation (output of the last LINEAR unit), of shape (number of examples, 6)\n",
    "    Y -- \"true\" labels vector placeholder, same shape as Z3\n",
    "    \n",
    "    Returns:\n",
    "    cost - Tensor of the cost function\n",
    "    \"\"\"\n",
    "    cost = tf.reduce_mean(tf.nn.softmax_cross_entropy_with_logits(Y, Y_hat))\n",
    "    return cost"
   ]
  },
  {
   "cell_type": "code",
   "execution_count": 37,
   "metadata": {},
   "outputs": [],
   "source": [
    "def run_optimization(X, Y, parameters, optimizer):\n",
    "    with tf.GradientTape() as tape:\n",
    "        Y_hat = forward_propagation(X, parameters)\n",
    "        cost = compute_cost(Y_hat, Y)\n",
    "    \n",
    "    trainable_var = list(parameters.values())\n",
    "    gradients = tape.gradient(cost, trainable_var)\n",
    "    optimizer.apply_gradients(zip(gradients, trainable_var))\n",
    "    \n",
    "    return cost"
   ]
  },
  {
   "cell_type": "code",
   "execution_count": 38,
   "metadata": {},
   "outputs": [],
   "source": [
    "def model(X_train, Y_train, X_test, Y_test, learning_rate = 0.009,\n",
    "          num_epochs = 100, minibatch_size = 64, print_cost = True):\n",
    "    \"\"\"\n",
    "    Implements a three-layer ConvNet in Tensorflow:\n",
    "    CONV2D -> RELU -> MAXPOOL -> CONV2D -> RELU -> MAXPOOL -> FLATTEN -> FULLYCONNECTED\n",
    "    \n",
    "    Arguments:\n",
    "    X_train -- training set, of shape (None, 64, 64, 3)\n",
    "    Y_train -- test set, of shape (None, n_y = 6)\n",
    "    X_test -- training set, of shape (None, 64, 64, 3)\n",
    "    Y_test -- test set, of shape (None, n_y = 6)\n",
    "    learning_rate -- learning rate of the optimization\n",
    "    num_epochs -- number of epochs of the optimization loop\n",
    "    minibatch_size -- size of a minibatch\n",
    "    print_cost -- True to print the cost every 100 epochs\n",
    "    \n",
    "    Returns:\n",
    "    train_accuracy -- real number, accuracy on the train set (X_train)\n",
    "    test_accuracy -- real number, testing accuracy on the test set (X_test)\n",
    "    parameters -- parameters learnt by the model. They can then be used to predict.\n",
    "    \"\"\"\n",
    "    \n",
    "    tf.random.set_seed(1)                             # to keep results consistent (tensorflow seed)\n",
    "    seed = 3                                          # to keep results consistent (numpy seed)\n",
    "    (m, n_H0, n_W0, n_C0) = X_train.shape             \n",
    "    costs = []                                        # To keep track of the cost\n",
    "\n",
    "    # Initialize parameters\n",
    "    parameters = initialize_parameters()\n",
    "    \n",
    "    # Initialize optimizer\n",
    "    optimizer = tf.optimizers.Adam(learning_rate)\n",
    "        \n",
    "    # Do the training loop\n",
    "    for epoch in range(num_epochs):\n",
    "\n",
    "        minibatch_cost = 0.\n",
    "        # number of minibatches of size minibatch_size in the train set\n",
    "        num_minibatches = int(m / minibatch_size) \n",
    "        seed = seed + 1\n",
    "        minibatches = random_mini_batches(X_train, Y_train, minibatch_size, seed)\n",
    "\n",
    "        for minibatch in minibatches:\n",
    "\n",
    "            # Select a minibatch\n",
    "            (minibatch_X, minibatch_Y) = minibatch\n",
    "            \"\"\"\n",
    "            # IMPORTANT: The line that runs the graph on a minibatch.\n",
    "            # Run the session to execute the optimizer and the cost.\n",
    "            # The feedict should contain a minibatch for (X,Y).\n",
    "            \"\"\"\n",
    "            ### START CODE HERE ### (1 line)\n",
    "            temp_cost = run_optimization(minibatch_X, minibatch_Y, parameters, optimizer)\n",
    "            ### END CODE HERE ###\n",
    "            \n",
    "            minibatch_cost += temp_cost / num_minibatches\n",
    "\n",
    "        # Print the cost every epoch\n",
    "        if print_cost == True and epoch % 5 == 0:\n",
    "            print (\"Cost after epoch %i: %f\" % (epoch, minibatch_cost))\n",
    "        if print_cost == True and epoch % 1 == 0:\n",
    "            costs.append(minibatch_cost)\n",
    "    \n",
    "    # plot the cost\n",
    "    plt.plot(np.squeeze(costs))\n",
    "    plt.ylabel('cost')\n",
    "    plt.xlabel('iterations (per tens)')\n",
    "    plt.title(\"Learning rate =\" + str(learning_rate))\n",
    "    plt.show()\n",
    "\n",
    "\n",
    "    Y_train_pred = forward_propagation(X_train, parameters)\n",
    "    train_accuracy = tf.reduce_mean(tf.cast(tf.equal(tf.argmax(Y_train_pred, 1), \n",
    "                                                     tf.argmax(Y_train, 1)), 'float'))\n",
    "    Y_test_pred = forward_propagation(X_test, parameters)\n",
    "    test_accuracy = tf.reduce_mean(tf.cast(tf.equal(tf.argmax(Y_test_pred, 1), \n",
    "                                                     tf.argmax(Y_test, 1)), 'float'))\n",
    "    print(\"Train Accuracy:\", train_accuracy)\n",
    "    print(\"Test Accuracy:\", test_accuracy)\n",
    "            \n",
    "    return train_accuracy, test_accuracy, parameters"
   ]
  },
  {
   "cell_type": "code",
   "execution_count": 45,
   "metadata": {
    "tags": []
   },
   "outputs": [
    {
     "name": "stdout",
     "output_type": "stream",
     "text": [
      "Cost after epoch 0: 1.909348\n",
      "Cost after epoch 5: 1.320736\n",
      "Cost after epoch 10: 0.793967\n",
      "Cost after epoch 15: 0.595387\n",
      "Cost after epoch 20: 0.501267\n",
      "Cost after epoch 25: 0.439724\n",
      "Cost after epoch 30: 0.357318\n",
      "Cost after epoch 35: 0.315645\n",
      "Cost after epoch 40: 0.263761\n",
      "Cost after epoch 45: 0.267765\n",
      "Cost after epoch 50: 0.208038\n",
      "Cost after epoch 55: 0.229289\n",
      "Cost after epoch 60: 0.190274\n",
      "Cost after epoch 65: 0.160939\n",
      "Cost after epoch 70: 0.149231\n",
      "Cost after epoch 75: 0.160406\n",
      "Cost after epoch 80: 0.184071\n",
      "Cost after epoch 85: 0.127878\n",
      "Cost after epoch 90: 0.125728\n",
      "Cost after epoch 95: 0.122499\n"
     ]
    },
    {
     "data": {
      "image/png": "[encoded data removed]",
      "image/svg+xml": "<?xml version=\"1.0\" encoding=\"utf-8\" standalone=\"no\"?>\r\n<!DOCTYPE svg PUBLIC \"-//W3C//DTD SVG 1.1//EN\"\r\n  \"http://www.w3.org/Graphics/SVG/1.1/DTD/svg11.dtd\">\r\n<svg height=\"277.314375pt\" version=\"1.1\" viewBox=\"0 0 392.14375 277.314375\" width=\"392.14375pt\" xmlns=\"http://www.w3.org/2000/svg\" xmlns:xlink=\"http://www.w3.org/1999/xlink\">\r\n <metadata>\r\n  <rdf:RDF xmlns:cc=\"http://creativecommons.org/ns#\" xmlns:dc=\"http://purl.org/dc/elements/1.1/\" xmlns:rdf=\"http://www.w3.org/1999/02/22-rdf-syntax-ns#\">\r\n   <cc:Work>\r\n    <dc:type rdf:resource=\"http://purl.org/dc/dcmitype/StillImage\"/>\r\n    <dc:date>2021-07-21T23:48:49.812009</dc:date>\r\n    <dc:format>image/svg+xml</dc:format>\r\n    <dc:creator>\r\n     <cc:Agent>\r\n      <dc:title>Matplotlib v3.4.2, https://matplotlib.org/</dc:title>\r\n     </cc:Agent>\r\n    </dc:creator>\r\n   </cc:Work>\r\n  </rdf:RDF>\r\n </metadata>\r\n <defs>\r\n  <style type=\"text/css\">*{stroke-linecap:butt;stroke-linejoin:round;}</style>\r\n </defs>\r\n <g id=\"figure_1\">\r\n  <g id=\"patch_1\">\r\n   <path d=\"M 0 277.314375 \r\nL 392.14375 277.314375 \r\nL 392.14375 0 \r\nL 0 0 \r\nz\r\n\" style=\"fill:none;\"/>\r\n  </g>\r\n  <g id=\"axes_1\">\r\n   <g id=\"patch_2\">\r\n    <path d=\"M 50.14375 239.758125 \r\nL 384.94375 239.758125 \r\nL 384.94375 22.318125 \r\nL 50.14375 22.318125 \r\nz\r\n\" style=\"fill:#ffffff;\"/>\r\n   </g>\r\n   <g id=\"matplotlib.axis_1\">\r\n    <g id=\"xtick_1\">\r\n     <g id=\"line2d_1\">\r\n      <defs>\r\n       <path d=\"M 0 0 \r\nL 0 3.5 \r\n\" id=\"m880e875902\" style=\"stroke:#000000;stroke-width:0.8;\"/>\r\n      </defs>\r\n      <g>\r\n       <use style=\"stroke:#000000;stroke-width:0.8;\" x=\"65.361932\" xlink:href=\"#m880e875902\" y=\"239.758125\"/>\r\n      </g>\r\n     </g>\r\n     <g id=\"text_1\">\r\n      <!-- 0 -->\r\n      <g transform=\"translate(62.180682 254.356562)scale(0.1 -0.1)\">\r\n       <defs>\r\n        <path d=\"M 2034 4250 \r\nQ 1547 4250 1301 3770 \r\nQ 1056 3291 1056 2328 \r\nQ 1056 1369 1301 889 \r\nQ 1547 409 2034 409 \r\nQ 2525 409 2770 889 \r\nQ 3016 1369 3016 2328 \r\nQ 3016 3291 2770 3770 \r\nQ 2525 4250 2034 4250 \r\nz\r\nM 2034 4750 \r\nQ 2819 4750 3233 4129 \r\nQ 3647 3509 3647 2328 \r\nQ 3647 1150 3233 529 \r\nQ 2819 -91 2034 -91 \r\nQ 1250 -91 836 529 \r\nQ 422 1150 422 2328 \r\nQ 422 3509 836 4129 \r\nQ 1250 4750 2034 4750 \r\nz\r\n\" id=\"DejaVuSans-30\" transform=\"scale(0.015625)\"/>\r\n       </defs>\r\n       <use xlink:href=\"#DejaVuSans-30\"/>\r\n      </g>\r\n     </g>\r\n    </g>\r\n    <g id=\"xtick_2\">\r\n     <g id=\"line2d_2\">\r\n      <g>\r\n       <use style=\"stroke:#000000;stroke-width:0.8;\" x=\"126.849535\" xlink:href=\"#m880e875902\" y=\"239.758125\"/>\r\n      </g>\r\n     </g>\r\n     <g id=\"text_2\">\r\n      <!-- 20 -->\r\n      <g transform=\"translate(120.487035 254.356562)scale(0.1 -0.1)\">\r\n       <defs>\r\n        <path d=\"M 1228 531 \r\nL 3431 531 \r\nL 3431 0 \r\nL 469 0 \r\nL 469 531 \r\nQ 828 903 1448 1529 \r\nQ 2069 2156 2228 2338 \r\nQ 2531 2678 2651 2914 \r\nQ 2772 3150 2772 3378 \r\nQ 2772 3750 2511 3984 \r\nQ 2250 4219 1831 4219 \r\nQ 1534 4219 1204 4116 \r\nQ 875 4013 500 3803 \r\nL 500 4441 \r\nQ 881 4594 1212 4672 \r\nQ 1544 4750 1819 4750 \r\nQ 2544 4750 2975 4387 \r\nQ 3406 4025 3406 3419 \r\nQ 3406 3131 3298 2873 \r\nQ 3191 2616 2906 2266 \r\nQ 2828 2175 2409 1742 \r\nQ 1991 1309 1228 531 \r\nz\r\n\" id=\"DejaVuSans-32\" transform=\"scale(0.015625)\"/>\r\n       </defs>\r\n       <use xlink:href=\"#DejaVuSans-32\"/>\r\n       <use x=\"63.623047\" xlink:href=\"#DejaVuSans-30\"/>\r\n      </g>\r\n     </g>\r\n    </g>\r\n    <g id=\"xtick_3\">\r\n     <g id=\"line2d_3\">\r\n      <g>\r\n       <use style=\"stroke:#000000;stroke-width:0.8;\" x=\"188.337138\" xlink:href=\"#m880e875902\" y=\"239.758125\"/>\r\n      </g>\r\n     </g>\r\n     <g id=\"text_3\">\r\n      <!-- 40 -->\r\n      <g transform=\"translate(181.974638 254.356562)scale(0.1 -0.1)\">\r\n       <defs>\r\n        <path d=\"M 2419 4116 \r\nL 825 1625 \r\nL 2419 1625 \r\nL 2419 4116 \r\nz\r\nM 2253 4666 \r\nL 3047 4666 \r\nL 3047 1625 \r\nL 3713 1625 \r\nL 3713 1100 \r\nL 3047 1100 \r\nL 3047 0 \r\nL 2419 0 \r\nL 2419 1100 \r\nL 313 1100 \r\nL 313 1709 \r\nL 2253 4666 \r\nz\r\n\" id=\"DejaVuSans-34\" transform=\"scale(0.015625)\"/>\r\n       </defs>\r\n       <use xlink:href=\"#DejaVuSans-34\"/>\r\n       <use x=\"63.623047\" xlink:href=\"#DejaVuSans-30\"/>\r\n      </g>\r\n     </g>\r\n    </g>\r\n    <g id=\"xtick_4\">\r\n     <g id=\"line2d_4\">\r\n      <g>\r\n       <use style=\"stroke:#000000;stroke-width:0.8;\" x=\"249.824742\" xlink:href=\"#m880e875902\" y=\"239.758125\"/>\r\n      </g>\r\n     </g>\r\n     <g id=\"text_4\">\r\n      <!-- 60 -->\r\n      <g transform=\"translate(243.462242 254.356562)scale(0.1 -0.1)\">\r\n       <defs>\r\n        <path d=\"M 2113 2584 \r\nQ 1688 2584 1439 2293 \r\nQ 1191 2003 1191 1497 \r\nQ 1191 994 1439 701 \r\nQ 1688 409 2113 409 \r\nQ 2538 409 2786 701 \r\nQ 3034 994 3034 1497 \r\nQ 3034 2003 2786 2293 \r\nQ 2538 2584 2113 2584 \r\nz\r\nM 3366 4563 \r\nL 3366 3988 \r\nQ 3128 4100 2886 4159 \r\nQ 2644 4219 2406 4219 \r\nQ 1781 4219 1451 3797 \r\nQ 1122 3375 1075 2522 \r\nQ 1259 2794 1537 2939 \r\nQ 1816 3084 2150 3084 \r\nQ 2853 3084 3261 2657 \r\nQ 3669 2231 3669 1497 \r\nQ 3669 778 3244 343 \r\nQ 2819 -91 2113 -91 \r\nQ 1303 -91 875 529 \r\nQ 447 1150 447 2328 \r\nQ 447 3434 972 4092 \r\nQ 1497 4750 2381 4750 \r\nQ 2619 4750 2861 4703 \r\nQ 3103 4656 3366 4563 \r\nz\r\n\" id=\"DejaVuSans-36\" transform=\"scale(0.015625)\"/>\r\n       </defs>\r\n       <use xlink:href=\"#DejaVuSans-36\"/>\r\n       <use x=\"63.623047\" xlink:href=\"#DejaVuSans-30\"/>\r\n      </g>\r\n     </g>\r\n    </g>\r\n    <g id=\"xtick_5\">\r\n     <g id=\"line2d_5\">\r\n      <g>\r\n       <use style=\"stroke:#000000;stroke-width:0.8;\" x=\"311.312345\" xlink:href=\"#m880e875902\" y=\"239.758125\"/>\r\n      </g>\r\n     </g>\r\n     <g id=\"text_5\">\r\n      <!-- 80 -->\r\n      <g transform=\"translate(304.949845 254.356562)scale(0.1 -0.1)\">\r\n       <defs>\r\n        <path d=\"M 2034 2216 \r\nQ 1584 2216 1326 1975 \r\nQ 1069 1734 1069 1313 \r\nQ 1069 891 1326 650 \r\nQ 1584 409 2034 409 \r\nQ 2484 409 2743 651 \r\nQ 3003 894 3003 1313 \r\nQ 3003 1734 2745 1975 \r\nQ 2488 2216 2034 2216 \r\nz\r\nM 1403 2484 \r\nQ 997 2584 770 2862 \r\nQ 544 3141 544 3541 \r\nQ 544 4100 942 4425 \r\nQ 1341 4750 2034 4750 \r\nQ 2731 4750 3128 4425 \r\nQ 3525 4100 3525 3541 \r\nQ 3525 3141 3298 2862 \r\nQ 3072 2584 2669 2484 \r\nQ 3125 2378 3379 2068 \r\nQ 3634 1759 3634 1313 \r\nQ 3634 634 3220 271 \r\nQ 2806 -91 2034 -91 \r\nQ 1263 -91 848 271 \r\nQ 434 634 434 1313 \r\nQ 434 1759 690 2068 \r\nQ 947 2378 1403 2484 \r\nz\r\nM 1172 3481 \r\nQ 1172 3119 1398 2916 \r\nQ 1625 2713 2034 2713 \r\nQ 2441 2713 2670 2916 \r\nQ 2900 3119 2900 3481 \r\nQ 2900 3844 2670 4047 \r\nQ 2441 4250 2034 4250 \r\nQ 1625 4250 1398 4047 \r\nQ 1172 3844 1172 3481 \r\nz\r\n\" id=\"DejaVuSans-38\" transform=\"scale(0.015625)\"/>\r\n       </defs>\r\n       <use xlink:href=\"#DejaVuSans-38\"/>\r\n       <use x=\"63.623047\" xlink:href=\"#DejaVuSans-30\"/>\r\n      </g>\r\n     </g>\r\n    </g>\r\n    <g id=\"xtick_6\">\r\n     <g id=\"line2d_6\">\r\n      <g>\r\n       <use style=\"stroke:#000000;stroke-width:0.8;\" x=\"372.799948\" xlink:href=\"#m880e875902\" y=\"239.758125\"/>\r\n      </g>\r\n     </g>\r\n     <g id=\"text_6\">\r\n      <!-- 100 -->\r\n      <g transform=\"translate(363.256198 254.356562)scale(0.1 -0.1)\">\r\n       <defs>\r\n        <path d=\"M 794 531 \r\nL 1825 531 \r\nL 1825 4091 \r\nL 703 3866 \r\nL 703 4441 \r\nL 1819 4666 \r\nL 2450 4666 \r\nL 2450 531 \r\nL 3481 531 \r\nL 3481 0 \r\nL 794 0 \r\nL 794 531 \r\nz\r\n\" id=\"DejaVuSans-31\" transform=\"scale(0.015625)\"/>\r\n       </defs>\r\n       <use xlink:href=\"#DejaVuSans-31\"/>\r\n       <use x=\"63.623047\" xlink:href=\"#DejaVuSans-30\"/>\r\n       <use x=\"127.246094\" xlink:href=\"#DejaVuSans-30\"/>\r\n      </g>\r\n     </g>\r\n    </g>\r\n    <g id=\"text_7\">\r\n     <!-- iterations (per tens) -->\r\n     <g transform=\"translate(167.620313 268.034687)scale(0.1 -0.1)\">\r\n      <defs>\r\n       <path d=\"M 603 3500 \r\nL 1178 3500 \r\nL 1178 0 \r\nL 603 0 \r\nL 603 3500 \r\nz\r\nM 603 4863 \r\nL 1178 4863 \r\nL 1178 4134 \r\nL 603 4134 \r\nL 603 4863 \r\nz\r\n\" id=\"DejaVuSans-69\" transform=\"scale(0.015625)\"/>\r\n       <path d=\"M 1172 4494 \r\nL 1172 3500 \r\nL 2356 3500 \r\nL 2356 3053 \r\nL 1172 3053 \r\nL 1172 1153 \r\nQ 1172 725 1289 603 \r\nQ 1406 481 1766 481 \r\nL 2356 481 \r\nL 2356 0 \r\nL 1766 0 \r\nQ 1100 0 847 248 \r\nQ 594 497 594 1153 \r\nL 594 3053 \r\nL 172 3053 \r\nL 172 3500 \r\nL 594 3500 \r\nL 594 4494 \r\nL 1172 4494 \r\nz\r\n\" id=\"DejaVuSans-74\" transform=\"scale(0.015625)\"/>\r\n       <path d=\"M 3597 1894 \r\nL 3597 1613 \r\nL 953 1613 \r\nQ 991 1019 1311 708 \r\nQ 1631 397 2203 397 \r\nQ 2534 397 2845 478 \r\nQ 3156 559 3463 722 \r\nL 3463 178 \r\nQ 3153 47 2828 -22 \r\nQ 2503 -91 2169 -91 \r\nQ 1331 -91 842 396 \r\nQ 353 884 353 1716 \r\nQ 353 2575 817 3079 \r\nQ 1281 3584 2069 3584 \r\nQ 2775 3584 3186 3129 \r\nQ 3597 2675 3597 1894 \r\nz\r\nM 3022 2063 \r\nQ 3016 2534 2758 2815 \r\nQ 2500 3097 2075 3097 \r\nQ 1594 3097 1305 2825 \r\nQ 1016 2553 972 2059 \r\nL 3022 2063 \r\nz\r\n\" id=\"DejaVuSans-65\" transform=\"scale(0.015625)\"/>\r\n       <path d=\"M 2631 2963 \r\nQ 2534 3019 2420 3045 \r\nQ 2306 3072 2169 3072 \r\nQ 1681 3072 1420 2755 \r\nQ 1159 2438 1159 1844 \r\nL 1159 0 \r\nL 581 0 \r\nL 581 3500 \r\nL 1159 3500 \r\nL 1159 2956 \r\nQ 1341 3275 1631 3429 \r\nQ 1922 3584 2338 3584 \r\nQ 2397 3584 2469 3576 \r\nQ 2541 3569 2628 3553 \r\nL 2631 2963 \r\nz\r\n\" id=\"DejaVuSans-72\" transform=\"scale(0.015625)\"/>\r\n       <path d=\"M 2194 1759 \r\nQ 1497 1759 1228 1600 \r\nQ 959 1441 959 1056 \r\nQ 959 750 1161 570 \r\nQ 1363 391 1709 391 \r\nQ 2188 391 2477 730 \r\nQ 2766 1069 2766 1631 \r\nL 2766 1759 \r\nL 2194 1759 \r\nz\r\nM 3341 1997 \r\nL 3341 0 \r\nL 2766 0 \r\nL 2766 531 \r\nQ 2569 213 2275 61 \r\nQ 1981 -91 1556 -91 \r\nQ 1019 -91 701 211 \r\nQ 384 513 384 1019 \r\nQ 384 1609 779 1909 \r\nQ 1175 2209 1959 2209 \r\nL 2766 2209 \r\nL 2766 2266 \r\nQ 2766 2663 2505 2880 \r\nQ 2244 3097 1772 3097 \r\nQ 1472 3097 1187 3025 \r\nQ 903 2953 641 2809 \r\nL 641 3341 \r\nQ 956 3463 1253 3523 \r\nQ 1550 3584 1831 3584 \r\nQ 2591 3584 2966 3190 \r\nQ 3341 2797 3341 1997 \r\nz\r\n\" id=\"DejaVuSans-61\" transform=\"scale(0.015625)\"/>\r\n       <path d=\"M 1959 3097 \r\nQ 1497 3097 1228 2736 \r\nQ 959 2375 959 1747 \r\nQ 959 1119 1226 758 \r\nQ 1494 397 1959 397 \r\nQ 2419 397 2687 759 \r\nQ 2956 1122 2956 1747 \r\nQ 2956 2369 2687 2733 \r\nQ 2419 3097 1959 3097 \r\nz\r\nM 1959 3584 \r\nQ 2709 3584 3137 3096 \r\nQ 3566 2609 3566 1747 \r\nQ 3566 888 3137 398 \r\nQ 2709 -91 1959 -91 \r\nQ 1206 -91 779 398 \r\nQ 353 888 353 1747 \r\nQ 353 2609 779 3096 \r\nQ 1206 3584 1959 3584 \r\nz\r\n\" id=\"DejaVuSans-6f\" transform=\"scale(0.015625)\"/>\r\n       <path d=\"M 3513 2113 \r\nL 3513 0 \r\nL 2938 0 \r\nL 2938 2094 \r\nQ 2938 2591 2744 2837 \r\nQ 2550 3084 2163 3084 \r\nQ 1697 3084 1428 2787 \r\nQ 1159 2491 1159 1978 \r\nL 1159 0 \r\nL 581 0 \r\nL 581 3500 \r\nL 1159 3500 \r\nL 1159 2956 \r\nQ 1366 3272 1645 3428 \r\nQ 1925 3584 2291 3584 \r\nQ 2894 3584 3203 3211 \r\nQ 3513 2838 3513 2113 \r\nz\r\n\" id=\"DejaVuSans-6e\" transform=\"scale(0.015625)\"/>\r\n       <path d=\"M 2834 3397 \r\nL 2834 2853 \r\nQ 2591 2978 2328 3040 \r\nQ 2066 3103 1784 3103 \r\nQ 1356 3103 1142 2972 \r\nQ 928 2841 928 2578 \r\nQ 928 2378 1081 2264 \r\nQ 1234 2150 1697 2047 \r\nL 1894 2003 \r\nQ 2506 1872 2764 1633 \r\nQ 3022 1394 3022 966 \r\nQ 3022 478 2636 193 \r\nQ 2250 -91 1575 -91 \r\nQ 1294 -91 989 -36 \r\nQ 684 19 347 128 \r\nL 347 722 \r\nQ 666 556 975 473 \r\nQ 1284 391 1588 391 \r\nQ 1994 391 2212 530 \r\nQ 2431 669 2431 922 \r\nQ 2431 1156 2273 1281 \r\nQ 2116 1406 1581 1522 \r\nL 1381 1569 \r\nQ 847 1681 609 1914 \r\nQ 372 2147 372 2553 \r\nQ 372 3047 722 3315 \r\nQ 1072 3584 1716 3584 \r\nQ 2034 3584 2315 3537 \r\nQ 2597 3491 2834 3397 \r\nz\r\n\" id=\"DejaVuSans-73\" transform=\"scale(0.015625)\"/>\r\n       <path id=\"DejaVuSans-20\" transform=\"scale(0.015625)\"/>\r\n       <path d=\"M 1984 4856 \r\nQ 1566 4138 1362 3434 \r\nQ 1159 2731 1159 2009 \r\nQ 1159 1288 1364 580 \r\nQ 1569 -128 1984 -844 \r\nL 1484 -844 \r\nQ 1016 -109 783 600 \r\nQ 550 1309 550 2009 \r\nQ 550 2706 781 3412 \r\nQ 1013 4119 1484 4856 \r\nL 1984 4856 \r\nz\r\n\" id=\"DejaVuSans-28\" transform=\"scale(0.015625)\"/>\r\n       <path d=\"M 1159 525 \r\nL 1159 -1331 \r\nL 581 -1331 \r\nL 581 3500 \r\nL 1159 3500 \r\nL 1159 2969 \r\nQ 1341 3281 1617 3432 \r\nQ 1894 3584 2278 3584 \r\nQ 2916 3584 3314 3078 \r\nQ 3713 2572 3713 1747 \r\nQ 3713 922 3314 415 \r\nQ 2916 -91 2278 -91 \r\nQ 1894 -91 1617 61 \r\nQ 1341 213 1159 525 \r\nz\r\nM 3116 1747 \r\nQ 3116 2381 2855 2742 \r\nQ 2594 3103 2138 3103 \r\nQ 1681 3103 1420 2742 \r\nQ 1159 2381 1159 1747 \r\nQ 1159 1113 1420 752 \r\nQ 1681 391 2138 391 \r\nQ 2594 391 2855 752 \r\nQ 3116 1113 3116 1747 \r\nz\r\n\" id=\"DejaVuSans-70\" transform=\"scale(0.015625)\"/>\r\n       <path d=\"M 513 4856 \r\nL 1013 4856 \r\nQ 1481 4119 1714 3412 \r\nQ 1947 2706 1947 2009 \r\nQ 1947 1309 1714 600 \r\nQ 1481 -109 1013 -844 \r\nL 513 -844 \r\nQ 928 -128 1133 580 \r\nQ 1338 1288 1338 2009 \r\nQ 1338 2731 1133 3434 \r\nQ 928 4138 513 4856 \r\nz\r\n\" id=\"DejaVuSans-29\" transform=\"scale(0.015625)\"/>\r\n      </defs>\r\n      <use xlink:href=\"#DejaVuSans-69\"/>\r\n      <use x=\"27.783203\" xlink:href=\"#DejaVuSans-74\"/>\r\n      <use x=\"66.992188\" xlink:href=\"#DejaVuSans-65\"/>\r\n      <use x=\"128.515625\" xlink:href=\"#DejaVuSans-72\"/>\r\n      <use x=\"169.628906\" xlink:href=\"#DejaVuSans-61\"/>\r\n      <use x=\"230.908203\" xlink:href=\"#DejaVuSans-74\"/>\r\n      <use x=\"270.117188\" xlink:href=\"#DejaVuSans-69\"/>\r\n      <use x=\"297.900391\" xlink:href=\"#DejaVuSans-6f\"/>\r\n      <use x=\"359.082031\" xlink:href=\"#DejaVuSans-6e\"/>\r\n      <use x=\"422.460938\" xlink:href=\"#DejaVuSans-73\"/>\r\n      <use x=\"474.560547\" xlink:href=\"#DejaVuSans-20\"/>\r\n      <use x=\"506.347656\" xlink:href=\"#DejaVuSans-28\"/>\r\n      <use x=\"545.361328\" xlink:href=\"#DejaVuSans-70\"/>\r\n      <use x=\"608.837891\" xlink:href=\"#DejaVuSans-65\"/>\r\n      <use x=\"670.361328\" xlink:href=\"#DejaVuSans-72\"/>\r\n      <use x=\"711.474609\" xlink:href=\"#DejaVuSans-20\"/>\r\n      <use x=\"743.261719\" xlink:href=\"#DejaVuSans-74\"/>\r\n      <use x=\"782.470703\" xlink:href=\"#DejaVuSans-65\"/>\r\n      <use x=\"843.994141\" xlink:href=\"#DejaVuSans-6e\"/>\r\n      <use x=\"907.373047\" xlink:href=\"#DejaVuSans-73\"/>\r\n      <use x=\"959.472656\" xlink:href=\"#DejaVuSans-29\"/>\r\n     </g>\r\n    </g>\r\n   </g>\r\n   <g id=\"matplotlib.axis_2\">\r\n    <g id=\"ytick_1\">\r\n     <g id=\"line2d_7\">\r\n      <defs>\r\n       <path d=\"M 0 0 \r\nL -3.5 0 \r\n\" id=\"ma66af80ed7\" style=\"stroke:#000000;stroke-width:0.8;\"/>\r\n      </defs>\r\n      <g>\r\n       <use style=\"stroke:#000000;stroke-width:0.8;\" x=\"50.14375\" xlink:href=\"#ma66af80ed7\" y=\"213.001119\"/>\r\n      </g>\r\n     </g>\r\n     <g id=\"text_8\">\r\n      <!-- 0.25 -->\r\n      <g transform=\"translate(20.878125 216.800338)scale(0.1 -0.1)\">\r\n       <defs>\r\n        <path d=\"M 684 794 \r\nL 1344 794 \r\nL 1344 0 \r\nL 684 0 \r\nL 684 794 \r\nz\r\n\" id=\"DejaVuSans-2e\" transform=\"scale(0.015625)\"/>\r\n        <path d=\"M 691 4666 \r\nL 3169 4666 \r\nL 3169 4134 \r\nL 1269 4134 \r\nL 1269 2991 \r\nQ 1406 3038 1543 3061 \r\nQ 1681 3084 1819 3084 \r\nQ 2600 3084 3056 2656 \r\nQ 3513 2228 3513 1497 \r\nQ 3513 744 3044 326 \r\nQ 2575 -91 1722 -91 \r\nQ 1428 -91 1123 -41 \r\nQ 819 9 494 109 \r\nL 494 744 \r\nQ 775 591 1075 516 \r\nQ 1375 441 1709 441 \r\nQ 2250 441 2565 725 \r\nQ 2881 1009 2881 1497 \r\nQ 2881 1984 2565 2268 \r\nQ 2250 2553 1709 2553 \r\nQ 1456 2553 1204 2497 \r\nQ 953 2441 691 2322 \r\nL 691 4666 \r\nz\r\n\" id=\"DejaVuSans-35\" transform=\"scale(0.015625)\"/>\r\n       </defs>\r\n       <use xlink:href=\"#DejaVuSans-30\"/>\r\n       <use x=\"63.623047\" xlink:href=\"#DejaVuSans-2e\"/>\r\n       <use x=\"95.410156\" xlink:href=\"#DejaVuSans-32\"/>\r\n       <use x=\"159.033203\" xlink:href=\"#DejaVuSans-35\"/>\r\n      </g>\r\n     </g>\r\n    </g>\r\n    <g id=\"ytick_2\">\r\n     <g id=\"line2d_8\">\r\n      <g>\r\n       <use style=\"stroke:#000000;stroke-width:0.8;\" x=\"50.14375\" xlink:href=\"#ma66af80ed7\" y=\"185.761602\"/>\r\n      </g>\r\n     </g>\r\n     <g id=\"text_9\">\r\n      <!-- 0.50 -->\r\n      <g transform=\"translate(20.878125 189.560821)scale(0.1 -0.1)\">\r\n       <use xlink:href=\"#DejaVuSans-30\"/>\r\n       <use x=\"63.623047\" xlink:href=\"#DejaVuSans-2e\"/>\r\n       <use x=\"95.410156\" xlink:href=\"#DejaVuSans-35\"/>\r\n       <use x=\"159.033203\" xlink:href=\"#DejaVuSans-30\"/>\r\n      </g>\r\n     </g>\r\n    </g>\r\n    <g id=\"ytick_3\">\r\n     <g id=\"line2d_9\">\r\n      <g>\r\n       <use style=\"stroke:#000000;stroke-width:0.8;\" x=\"50.14375\" xlink:href=\"#ma66af80ed7\" y=\"158.522084\"/>\r\n      </g>\r\n     </g>\r\n     <g id=\"text_10\">\r\n      <!-- 0.75 -->\r\n      <g transform=\"translate(20.878125 162.321303)scale(0.1 -0.1)\">\r\n       <defs>\r\n        <path d=\"M 525 4666 \r\nL 3525 4666 \r\nL 3525 4397 \r\nL 1831 0 \r\nL 1172 0 \r\nL 2766 4134 \r\nL 525 4134 \r\nL 525 4666 \r\nz\r\n\" id=\"DejaVuSans-37\" transform=\"scale(0.015625)\"/>\r\n       </defs>\r\n       <use xlink:href=\"#DejaVuSans-30\"/>\r\n       <use x=\"63.623047\" xlink:href=\"#DejaVuSans-2e\"/>\r\n       <use x=\"95.410156\" xlink:href=\"#DejaVuSans-37\"/>\r\n       <use x=\"159.033203\" xlink:href=\"#DejaVuSans-35\"/>\r\n      </g>\r\n     </g>\r\n    </g>\r\n    <g id=\"ytick_4\">\r\n     <g id=\"line2d_10\">\r\n      <g>\r\n       <use style=\"stroke:#000000;stroke-width:0.8;\" x=\"50.14375\" xlink:href=\"#ma66af80ed7\" y=\"131.282566\"/>\r\n      </g>\r\n     </g>\r\n     <g id=\"text_11\">\r\n      <!-- 1.00 -->\r\n      <g transform=\"translate(20.878125 135.081785)scale(0.1 -0.1)\">\r\n       <use xlink:href=\"#DejaVuSans-31\"/>\r\n       <use x=\"63.623047\" xlink:href=\"#DejaVuSans-2e\"/>\r\n       <use x=\"95.410156\" xlink:href=\"#DejaVuSans-30\"/>\r\n       <use x=\"159.033203\" xlink:href=\"#DejaVuSans-30\"/>\r\n      </g>\r\n     </g>\r\n    </g>\r\n    <g id=\"ytick_5\">\r\n     <g id=\"line2d_11\">\r\n      <g>\r\n       <use style=\"stroke:#000000;stroke-width:0.8;\" x=\"50.14375\" xlink:href=\"#ma66af80ed7\" y=\"104.043049\"/>\r\n      </g>\r\n     </g>\r\n     <g id=\"text_12\">\r\n      <!-- 1.25 -->\r\n      <g transform=\"translate(20.878125 107.842267)scale(0.1 -0.1)\">\r\n       <use xlink:href=\"#DejaVuSans-31\"/>\r\n       <use x=\"63.623047\" xlink:href=\"#DejaVuSans-2e\"/>\r\n       <use x=\"95.410156\" xlink:href=\"#DejaVuSans-32\"/>\r\n       <use x=\"159.033203\" xlink:href=\"#DejaVuSans-35\"/>\r\n      </g>\r\n     </g>\r\n    </g>\r\n    <g id=\"ytick_6\">\r\n     <g id=\"line2d_12\">\r\n      <g>\r\n       <use style=\"stroke:#000000;stroke-width:0.8;\" x=\"50.14375\" xlink:href=\"#ma66af80ed7\" y=\"76.803531\"/>\r\n      </g>\r\n     </g>\r\n     <g id=\"text_13\">\r\n      <!-- 1.50 -->\r\n      <g transform=\"translate(20.878125 80.60275)scale(0.1 -0.1)\">\r\n       <use xlink:href=\"#DejaVuSans-31\"/>\r\n       <use x=\"63.623047\" xlink:href=\"#DejaVuSans-2e\"/>\r\n       <use x=\"95.410156\" xlink:href=\"#DejaVuSans-35\"/>\r\n       <use x=\"159.033203\" xlink:href=\"#DejaVuSans-30\"/>\r\n      </g>\r\n     </g>\r\n    </g>\r\n    <g id=\"ytick_7\">\r\n     <g id=\"line2d_13\">\r\n      <g>\r\n       <use style=\"stroke:#000000;stroke-width:0.8;\" x=\"50.14375\" xlink:href=\"#ma66af80ed7\" y=\"49.564013\"/>\r\n      </g>\r\n     </g>\r\n     <g id=\"text_14\">\r\n      <!-- 1.75 -->\r\n      <g transform=\"translate(20.878125 53.363232)scale(0.1 -0.1)\">\r\n       <use xlink:href=\"#DejaVuSans-31\"/>\r\n       <use x=\"63.623047\" xlink:href=\"#DejaVuSans-2e\"/>\r\n       <use x=\"95.410156\" xlink:href=\"#DejaVuSans-37\"/>\r\n       <use x=\"159.033203\" xlink:href=\"#DejaVuSans-35\"/>\r\n      </g>\r\n     </g>\r\n    </g>\r\n    <g id=\"ytick_8\">\r\n     <g id=\"line2d_14\">\r\n      <g>\r\n       <use style=\"stroke:#000000;stroke-width:0.8;\" x=\"50.14375\" xlink:href=\"#ma66af80ed7\" y=\"22.324496\"/>\r\n      </g>\r\n     </g>\r\n     <g id=\"text_15\">\r\n      <!-- 2.00 -->\r\n      <g transform=\"translate(20.878125 26.123714)scale(0.1 -0.1)\">\r\n       <use xlink:href=\"#DejaVuSans-32\"/>\r\n       <use x=\"63.623047\" xlink:href=\"#DejaVuSans-2e\"/>\r\n       <use x=\"95.410156\" xlink:href=\"#DejaVuSans-30\"/>\r\n       <use x=\"159.033203\" xlink:href=\"#DejaVuSans-30\"/>\r\n      </g>\r\n     </g>\r\n    </g>\r\n    <g id=\"text_16\">\r\n     <!-- cost -->\r\n     <g transform=\"translate(14.798438 141.411562)rotate(-90)scale(0.1 -0.1)\">\r\n      <defs>\r\n       <path d=\"M 3122 3366 \r\nL 3122 2828 \r\nQ 2878 2963 2633 3030 \r\nQ 2388 3097 2138 3097 \r\nQ 1578 3097 1268 2742 \r\nQ 959 2388 959 1747 \r\nQ 959 1106 1268 751 \r\nQ 1578 397 2138 397 \r\nQ 2388 397 2633 464 \r\nQ 2878 531 3122 666 \r\nL 3122 134 \r\nQ 2881 22 2623 -34 \r\nQ 2366 -91 2075 -91 \r\nQ 1284 -91 818 406 \r\nQ 353 903 353 1747 \r\nQ 353 2603 823 3093 \r\nQ 1294 3584 2113 3584 \r\nQ 2378 3584 2631 3529 \r\nQ 2884 3475 3122 3366 \r\nz\r\n\" id=\"DejaVuSans-63\" transform=\"scale(0.015625)\"/>\r\n      </defs>\r\n      <use xlink:href=\"#DejaVuSans-63\"/>\r\n      <use x=\"54.980469\" xlink:href=\"#DejaVuSans-6f\"/>\r\n      <use x=\"116.162109\" xlink:href=\"#DejaVuSans-73\"/>\r\n      <use x=\"168.261719\" xlink:href=\"#DejaVuSans-74\"/>\r\n     </g>\r\n    </g>\r\n   </g>\r\n   <g id=\"line2d_15\">\r\n    <path clip-path=\"url(#p457283ef97)\" d=\"M 65.361932 32.201761 \r\nL 68.436312 33.931508 \r\nL 71.510692 36.234489 \r\nL 74.585072 48.051258 \r\nL 77.659452 71.405042 \r\nL 80.733833 96.335746 \r\nL 83.808213 110.876918 \r\nL 86.882593 123.13102 \r\nL 89.956973 133.166841 \r\nL 93.031353 145.599876 \r\nL 96.105733 153.731543 \r\nL 99.180114 160.587461 \r\nL 102.254494 163.081021 \r\nL 105.328874 163.699399 \r\nL 108.403254 167.690005 \r\nL 111.477634 175.368453 \r\nL 114.552014 180.996188 \r\nL 117.626395 182.436543 \r\nL 120.700775 185.283854 \r\nL 123.775155 183.328044 \r\nL 126.849535 185.623531 \r\nL 129.923915 189.390735 \r\nL 132.998295 191.516936 \r\nL 136.072676 192.359026 \r\nL 139.147056 191.236682 \r\nL 142.221436 192.329116 \r\nL 145.295816 196.294981 \r\nL 148.370196 199.325535 \r\nL 151.444576 199.117103 \r\nL 154.518957 201.643392 \r\nL 157.593337 201.307978 \r\nL 160.667717 198.404228 \r\nL 163.742097 202.977229 \r\nL 166.816477 202.429878 \r\nL 169.890857 203.591243 \r\nL 172.965238 205.848605 \r\nL 176.039618 207.398612 \r\nL 179.113998 208.128791 \r\nL 182.188378 209.589091 \r\nL 185.262758 211.967249 \r\nL 188.337138 211.501791 \r\nL 191.411519 211.417276 \r\nL 194.485899 208.705891 \r\nL 197.560279 209.463392 \r\nL 200.634659 208.501898 \r\nL 203.709039 211.065429 \r\nL 206.783419 214.180609 \r\nL 209.8578 212.065431 \r\nL 212.93218 212.013086 \r\nL 216.00656 216.427923 \r\nL 219.08094 217.573197 \r\nL 222.15532 219.365317 \r\nL 225.2297 217.859522 \r\nL 228.304081 216.162602 \r\nL 231.378461 215.158099 \r\nL 234.452841 215.257778 \r\nL 237.527221 214.02871 \r\nL 240.601601 219.488683 \r\nL 243.675981 218.3036 \r\nL 246.750362 219.272663 \r\nL 249.824742 219.508748 \r\nL 252.899122 217.107087 \r\nL 255.973502 215.696074 \r\nL 259.047882 221.291464 \r\nL 262.122262 219.643172 \r\nL 265.196643 222.704981 \r\nL 268.271023 217.785377 \r\nL 271.345403 217.91224 \r\nL 274.419783 223.365057 \r\nL 277.494163 224.7066 \r\nL 280.568543 223.980738 \r\nL 283.642924 224.648835 \r\nL 286.717304 224.09852 \r\nL 289.791684 222.699222 \r\nL 292.866064 224.780992 \r\nL 295.940444 222.763113 \r\nL 299.014824 224.3429 \r\nL 302.089205 226.297541 \r\nL 305.163585 225.025792 \r\nL 308.237965 223.102741 \r\nL 311.312345 220.184608 \r\nL 314.386725 225.591158 \r\nL 317.461105 228.960701 \r\nL 320.535486 226.587042 \r\nL 323.609866 227.220606 \r\nL 326.684246 226.307293 \r\nL 329.758626 225.89782 \r\nL 332.833006 228.779756 \r\nL 335.907386 225.409769 \r\nL 338.981767 225.11344 \r\nL 342.056147 226.541559 \r\nL 345.130527 226.372276 \r\nL 348.204907 227.126061 \r\nL 351.279287 227.416623 \r\nL 354.353667 227.704375 \r\nL 357.428048 226.893371 \r\nL 360.502428 227.740597 \r\nL 363.576808 229.874489 \r\nL 366.651188 228.968775 \r\nL 369.725568 224.33544 \r\n\" style=\"fill:none;stroke:#1f77b4;stroke-linecap:square;stroke-width:1.5;\"/>\r\n   </g>\r\n   <g id=\"patch_3\">\r\n    <path d=\"M 50.14375 239.758125 \r\nL 50.14375 22.318125 \r\n\" style=\"fill:none;stroke:#000000;stroke-linecap:square;stroke-linejoin:miter;stroke-width:0.8;\"/>\r\n   </g>\r\n   <g id=\"patch_4\">\r\n    <path d=\"M 384.94375 239.758125 \r\nL 384.94375 22.318125 \r\n\" style=\"fill:none;stroke:#000000;stroke-linecap:square;stroke-linejoin:miter;stroke-width:0.8;\"/>\r\n   </g>\r\n   <g id=\"patch_5\">\r\n    <path d=\"M 50.14375 239.758125 \r\nL 384.94375 239.758125 \r\n\" style=\"fill:none;stroke:#000000;stroke-linecap:square;stroke-linejoin:miter;stroke-width:0.8;\"/>\r\n   </g>\r\n   <g id=\"patch_6\">\r\n    <path d=\"M 50.14375 22.318125 \r\nL 384.94375 22.318125 \r\n\" style=\"fill:none;stroke:#000000;stroke-linecap:square;stroke-linejoin:miter;stroke-width:0.8;\"/>\r\n   </g>\r\n   <g id=\"text_17\">\r\n    <!-- Learning rate =0.009 -->\r\n    <g transform=\"translate(153.288438 16.318125)scale(0.12 -0.12)\">\r\n     <defs>\r\n      <path d=\"M 628 4666 \r\nL 1259 4666 \r\nL 1259 531 \r\nL 3531 531 \r\nL 3531 0 \r\nL 628 0 \r\nL 628 4666 \r\nz\r\n\" id=\"DejaVuSans-4c\" transform=\"scale(0.015625)\"/>\r\n      <path d=\"M 2906 1791 \r\nQ 2906 2416 2648 2759 \r\nQ 2391 3103 1925 3103 \r\nQ 1463 3103 1205 2759 \r\nQ 947 2416 947 1791 \r\nQ 947 1169 1205 825 \r\nQ 1463 481 1925 481 \r\nQ 2391 481 2648 825 \r\nQ 2906 1169 2906 1791 \r\nz\r\nM 3481 434 \r\nQ 3481 -459 3084 -895 \r\nQ 2688 -1331 1869 -1331 \r\nQ 1566 -1331 1297 -1286 \r\nQ 1028 -1241 775 -1147 \r\nL 775 -588 \r\nQ 1028 -725 1275 -790 \r\nQ 1522 -856 1778 -856 \r\nQ 2344 -856 2625 -561 \r\nQ 2906 -266 2906 331 \r\nL 2906 616 \r\nQ 2728 306 2450 153 \r\nQ 2172 0 1784 0 \r\nQ 1141 0 747 490 \r\nQ 353 981 353 1791 \r\nQ 353 2603 747 3093 \r\nQ 1141 3584 1784 3584 \r\nQ 2172 3584 2450 3431 \r\nQ 2728 3278 2906 2969 \r\nL 2906 3500 \r\nL 3481 3500 \r\nL 3481 434 \r\nz\r\n\" id=\"DejaVuSans-67\" transform=\"scale(0.015625)\"/>\r\n      <path d=\"M 678 2906 \r\nL 4684 2906 \r\nL 4684 2381 \r\nL 678 2381 \r\nL 678 2906 \r\nz\r\nM 678 1631 \r\nL 4684 1631 \r\nL 4684 1100 \r\nL 678 1100 \r\nL 678 1631 \r\nz\r\n\" id=\"DejaVuSans-3d\" transform=\"scale(0.015625)\"/>\r\n      <path d=\"M 703 97 \r\nL 703 672 \r\nQ 941 559 1184 500 \r\nQ 1428 441 1663 441 \r\nQ 2288 441 2617 861 \r\nQ 2947 1281 2994 2138 \r\nQ 2813 1869 2534 1725 \r\nQ 2256 1581 1919 1581 \r\nQ 1219 1581 811 2004 \r\nQ 403 2428 403 3163 \r\nQ 403 3881 828 4315 \r\nQ 1253 4750 1959 4750 \r\nQ 2769 4750 3195 4129 \r\nQ 3622 3509 3622 2328 \r\nQ 3622 1225 3098 567 \r\nQ 2575 -91 1691 -91 \r\nQ 1453 -91 1209 -44 \r\nQ 966 3 703 97 \r\nz\r\nM 1959 2075 \r\nQ 2384 2075 2632 2365 \r\nQ 2881 2656 2881 3163 \r\nQ 2881 3666 2632 3958 \r\nQ 2384 4250 1959 4250 \r\nQ 1534 4250 1286 3958 \r\nQ 1038 3666 1038 3163 \r\nQ 1038 2656 1286 2365 \r\nQ 1534 2075 1959 2075 \r\nz\r\n\" id=\"DejaVuSans-39\" transform=\"scale(0.015625)\"/>\r\n     </defs>\r\n     <use xlink:href=\"#DejaVuSans-4c\"/>\r\n     <use x=\"53.962891\" xlink:href=\"#DejaVuSans-65\"/>\r\n     <use x=\"115.486328\" xlink:href=\"#DejaVuSans-61\"/>\r\n     <use x=\"176.765625\" xlink:href=\"#DejaVuSans-72\"/>\r\n     <use x=\"216.128906\" xlink:href=\"#DejaVuSans-6e\"/>\r\n     <use x=\"279.507812\" xlink:href=\"#DejaVuSans-69\"/>\r\n     <use x=\"307.291016\" xlink:href=\"#DejaVuSans-6e\"/>\r\n     <use x=\"370.669922\" xlink:href=\"#DejaVuSans-67\"/>\r\n     <use x=\"434.146484\" xlink:href=\"#DejaVuSans-20\"/>\r\n     <use x=\"465.933594\" xlink:href=\"#DejaVuSans-72\"/>\r\n     <use x=\"507.046875\" xlink:href=\"#DejaVuSans-61\"/>\r\n     <use x=\"568.326172\" xlink:href=\"#DejaVuSans-74\"/>\r\n     <use x=\"607.535156\" xlink:href=\"#DejaVuSans-65\"/>\r\n     <use x=\"669.058594\" xlink:href=\"#DejaVuSans-20\"/>\r\n     <use x=\"700.845703\" xlink:href=\"#DejaVuSans-3d\"/>\r\n     <use x=\"784.634766\" xlink:href=\"#DejaVuSans-30\"/>\r\n     <use x=\"848.257812\" xlink:href=\"#DejaVuSans-2e\"/>\r\n     <use x=\"880.044922\" xlink:href=\"#DejaVuSans-30\"/>\r\n     <use x=\"943.667969\" xlink:href=\"#DejaVuSans-30\"/>\r\n     <use x=\"1007.291016\" xlink:href=\"#DejaVuSans-39\"/>\r\n    </g>\r\n   </g>\r\n  </g>\r\n </g>\r\n <defs>\r\n  <clipPath id=\"p457283ef97\">\r\n   <rect height=\"217.44\" width=\"334.8\" x=\"50.14375\" y=\"22.318125\"/>\r\n  </clipPath>\r\n </defs>\r\n</svg>\r\n",
      "text/plain": [
       "<Figure size 432x288 with 1 Axes>"
      ]
     },
     "metadata": {
      "needs_background": "light"
     },
     "output_type": "display_data"
    },
    {
     "name": "stdout",
     "output_type": "stream",
     "text": [
      "Train Accuracy: tf.Tensor(0.96944445, shape=(), dtype=float32)\n",
      "Test Accuracy: tf.Tensor(0.825, shape=(), dtype=float32)\n"
     ]
    }
   ],
   "source": [
    "_, _, parameters = model(X_train, Y_train, X_test, Y_test)"
   ]
  },
  {
   "cell_type": "markdown",
   "metadata": {},
   "source": [
    "**Expected output**: although it may not match perfectly, your expected output should be close to ours and your cost value should decrease.\n",
    "\n",
    "<table> \n",
    "<tr>\n",
    "    <td> \n",
    "    **Cost after epoch 0 =**\n",
    "    </td>\n",
    "    <td> \n",
    "      1.917929\n",
    "    </td> \n",
    "</tr>\n",
    "<tr>\n",
    "    <td> \n",
    "    **Cost after epoch 5 =**\n",
    "    </td>\n",
    "    <td> \n",
    "      1.506757\n",
    "    </td> \n",
    "</tr>\n",
    "<tr>\n",
    "    <td> \n",
    "    **Train Accuracy   =**\n",
    "    </td>\n",
    "    <td> \n",
    "      0.940741\n",
    "    </td> \n",
    "</tr> \n",
    "\n",
    "<tr>\n",
    "    <td> \n",
    "    **Test Accuracy   =**\n",
    "    </td>\n",
    "    <td> \n",
    "      0.783333\n",
    "    </td> \n",
    "</tr> \n",
    "</table>"
   ]
  },
  {
   "cell_type": "markdown",
   "metadata": {},
   "source": [
    "Congratulations! You have finished the assignment and built a model that recognizes SIGN language with almost 80% accuracy on the test set. If you wish, feel free to play around with this dataset further. You can actually improve its accuracy by spending more time tuning the hyperparameters, or using regularization (as this model clearly has a high variance). \n",
    "\n",
    "Once again, here's a thumbs up for your work! "
   ]
  },
  {
   "cell_type": "code",
   "execution_count": 57,
   "metadata": {},
   "outputs": [
    {
     "name": "stdout",
     "output_type": "stream",
     "text": [
      "Your algorithm predicts: y = 3\n"
     ]
    },
    {
     "data": {
      "image/png": "[encoded data removed]",
      "image/svg+xml": "<?xml version=\"1.0\" encoding=\"utf-8\" standalone=\"no\"?>\r\n<!DOCTYPE svg PUBLIC \"-//W3C//DTD SVG 1.1//EN\"\r\n  \"http://www.w3.org/Graphics/SVG/1.1/DTD/svg11.dtd\">\r\n<svg height=\"250.618594pt\" version=\"1.1\" viewBox=\"0 0 251.565 250.618594\" width=\"251.565pt\" xmlns=\"http://www.w3.org/2000/svg\" xmlns:xlink=\"http://www.w3.org/1999/xlink\">\r\n <metadata>\r\n  <rdf:RDF xmlns:cc=\"http://creativecommons.org/ns#\" xmlns:dc=\"http://purl.org/dc/elements/1.1/\" xmlns:rdf=\"http://www.w3.org/1999/02/22-rdf-syntax-ns#\">\r\n   <cc:Work>\r\n    <dc:type rdf:resource=\"http://purl.org/dc/dcmitype/StillImage\"/>\r\n    <dc:date>2021-07-21T23:58:50.447941</dc:date>\r\n    <dc:format>image/svg+xml</dc:format>\r\n    <dc:creator>\r\n     <cc:Agent>\r\n      <dc:title>Matplotlib v3.4.2, https://matplotlib.org/</dc:title>\r\n     </cc:Agent>\r\n    </dc:creator>\r\n   </cc:Work>\r\n  </rdf:RDF>\r\n </metadata>\r\n <defs>\r\n  <style type=\"text/css\">*{stroke-linecap:butt;stroke-linejoin:round;}</style>\r\n </defs>\r\n <g id=\"figure_1\">\r\n  <g id=\"patch_1\">\r\n   <path d=\"M 0 250.618594 \r\nL 251.565 250.618594 \r\nL 251.565 0 \r\nL 0 0 \r\nz\r\n\" style=\"fill:none;\"/>\r\n  </g>\r\n  <g id=\"axes_1\">\r\n   <g id=\"patch_2\">\r\n    <path d=\"M 26.925 226.740469 \r\nL 244.365 226.740469 \r\nL 244.365 9.300469 \r\nL 26.925 9.300469 \r\nz\r\n\" style=\"fill:#ffffff;\"/>\r\n   </g>\r\n   <g clip-path=\"url(#pd7eb4eac04)\">\r\n    <image height=\"218\" id=\"image2e6c45801e\" transform=\"scale(1 -1)translate(0 -218)\" width=\"218\" x=\"26.925\" xlink:href=\"data:image/png;base64,\r\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\" y=\"-8.740469\"/>\r\n   </g>\r\n   <g id=\"matplotlib.axis_1\">\r\n    <g id=\"xtick_1\">\r\n     <g id=\"line2d_1\">\r\n      <defs>\r\n       <path d=\"M 0 0 \r\nL 0 3.5 \r\n\" id=\"m84b0b2a527\" style=\"stroke:#000000;stroke-width:0.8;\"/>\r\n      </defs>\r\n      <g>\r\n       <use style=\"stroke:#000000;stroke-width:0.8;\" x=\"28.62375\" xlink:href=\"#m84b0b2a527\" y=\"226.740469\"/>\r\n      </g>\r\n     </g>\r\n     <g id=\"text_1\">\r\n      <!-- 0 -->\r\n      <g transform=\"translate(25.4425 241.338906)scale(0.1 -0.1)\">\r\n       <defs>\r\n        <path d=\"M 2034 4250 \r\nQ 1547 4250 1301 3770 \r\nQ 1056 3291 1056 2328 \r\nQ 1056 1369 1301 889 \r\nQ 1547 409 2034 409 \r\nQ 2525 409 2770 889 \r\nQ 3016 1369 3016 2328 \r\nQ 3016 3291 2770 3770 \r\nQ 2525 4250 2034 4250 \r\nz\r\nM 2034 4750 \r\nQ 2819 4750 3233 4129 \r\nQ 3647 3509 3647 2328 \r\nQ 3647 1150 3233 529 \r\nQ 2819 -91 2034 -91 \r\nQ 1250 -91 836 529 \r\nQ 422 1150 422 2328 \r\nQ 422 3509 836 4129 \r\nQ 1250 4750 2034 4750 \r\nz\r\n\" id=\"DejaVuSans-30\" transform=\"scale(0.015625)\"/>\r\n       </defs>\r\n       <use xlink:href=\"#DejaVuSans-30\"/>\r\n      </g>\r\n     </g>\r\n    </g>\r\n    <g id=\"xtick_2\">\r\n     <g id=\"line2d_2\">\r\n      <g>\r\n       <use style=\"stroke:#000000;stroke-width:0.8;\" x=\"62.59875\" xlink:href=\"#m84b0b2a527\" y=\"226.740469\"/>\r\n      </g>\r\n     </g>\r\n     <g id=\"text_2\">\r\n      <!-- 10 -->\r\n      <g transform=\"translate(56.23625 241.338906)scale(0.1 -0.1)\">\r\n       <defs>\r\n        <path d=\"M 794 531 \r\nL 1825 531 \r\nL 1825 4091 \r\nL 703 3866 \r\nL 703 4441 \r\nL 1819 4666 \r\nL 2450 4666 \r\nL 2450 531 \r\nL 3481 531 \r\nL 3481 0 \r\nL 794 0 \r\nL 794 531 \r\nz\r\n\" id=\"DejaVuSans-31\" transform=\"scale(0.015625)\"/>\r\n       </defs>\r\n       <use xlink:href=\"#DejaVuSans-31\"/>\r\n       <use x=\"63.623047\" xlink:href=\"#DejaVuSans-30\"/>\r\n      </g>\r\n     </g>\r\n    </g>\r\n    <g id=\"xtick_3\">\r\n     <g id=\"line2d_3\">\r\n      <g>\r\n       <use style=\"stroke:#000000;stroke-width:0.8;\" x=\"96.57375\" xlink:href=\"#m84b0b2a527\" y=\"226.740469\"/>\r\n      </g>\r\n     </g>\r\n     <g id=\"text_3\">\r\n      <!-- 20 -->\r\n      <g transform=\"translate(90.21125 241.338906)scale(0.1 -0.1)\">\r\n       <defs>\r\n        <path d=\"M 1228 531 \r\nL 3431 531 \r\nL 3431 0 \r\nL 469 0 \r\nL 469 531 \r\nQ 828 903 1448 1529 \r\nQ 2069 2156 2228 2338 \r\nQ 2531 2678 2651 2914 \r\nQ 2772 3150 2772 3378 \r\nQ 2772 3750 2511 3984 \r\nQ 2250 4219 1831 4219 \r\nQ 1534 4219 1204 4116 \r\nQ 875 4013 500 3803 \r\nL 500 4441 \r\nQ 881 4594 1212 4672 \r\nQ 1544 4750 1819 4750 \r\nQ 2544 4750 2975 4387 \r\nQ 3406 4025 3406 3419 \r\nQ 3406 3131 3298 2873 \r\nQ 3191 2616 2906 2266 \r\nQ 2828 2175 2409 1742 \r\nQ 1991 1309 1228 531 \r\nz\r\n\" id=\"DejaVuSans-32\" transform=\"scale(0.015625)\"/>\r\n       </defs>\r\n       <use xlink:href=\"#DejaVuSans-32\"/>\r\n       <use x=\"63.623047\" xlink:href=\"#DejaVuSans-30\"/>\r\n      </g>\r\n     </g>\r\n    </g>\r\n    <g id=\"xtick_4\">\r\n     <g id=\"line2d_4\">\r\n      <g>\r\n       <use style=\"stroke:#000000;stroke-width:0.8;\" x=\"130.54875\" xlink:href=\"#m84b0b2a527\" y=\"226.740469\"/>\r\n      </g>\r\n     </g>\r\n     <g id=\"text_4\">\r\n      <!-- 30 -->\r\n      <g transform=\"translate(124.18625 241.338906)scale(0.1 -0.1)\">\r\n       <defs>\r\n        <path d=\"M 2597 2516 \r\nQ 3050 2419 3304 2112 \r\nQ 3559 1806 3559 1356 \r\nQ 3559 666 3084 287 \r\nQ 2609 -91 1734 -91 \r\nQ 1441 -91 1130 -33 \r\nQ 819 25 488 141 \r\nL 488 750 \r\nQ 750 597 1062 519 \r\nQ 1375 441 1716 441 \r\nQ 2309 441 2620 675 \r\nQ 2931 909 2931 1356 \r\nQ 2931 1769 2642 2001 \r\nQ 2353 2234 1838 2234 \r\nL 1294 2234 \r\nL 1294 2753 \r\nL 1863 2753 \r\nQ 2328 2753 2575 2939 \r\nQ 2822 3125 2822 3475 \r\nQ 2822 3834 2567 4026 \r\nQ 2313 4219 1838 4219 \r\nQ 1578 4219 1281 4162 \r\nQ 984 4106 628 3988 \r\nL 628 4550 \r\nQ 988 4650 1302 4700 \r\nQ 1616 4750 1894 4750 \r\nQ 2613 4750 3031 4423 \r\nQ 3450 4097 3450 3541 \r\nQ 3450 3153 3228 2886 \r\nQ 3006 2619 2597 2516 \r\nz\r\n\" id=\"DejaVuSans-33\" transform=\"scale(0.015625)\"/>\r\n       </defs>\r\n       <use xlink:href=\"#DejaVuSans-33\"/>\r\n       <use x=\"63.623047\" xlink:href=\"#DejaVuSans-30\"/>\r\n      </g>\r\n     </g>\r\n    </g>\r\n    <g id=\"xtick_5\">\r\n     <g id=\"line2d_5\">\r\n      <g>\r\n       <use style=\"stroke:#000000;stroke-width:0.8;\" x=\"164.52375\" xlink:href=\"#m84b0b2a527\" y=\"226.740469\"/>\r\n      </g>\r\n     </g>\r\n     <g id=\"text_5\">\r\n      <!-- 40 -->\r\n      <g transform=\"translate(158.16125 241.338906)scale(0.1 -0.1)\">\r\n       <defs>\r\n        <path d=\"M 2419 4116 \r\nL 825 1625 \r\nL 2419 1625 \r\nL 2419 4116 \r\nz\r\nM 2253 4666 \r\nL 3047 4666 \r\nL 3047 1625 \r\nL 3713 1625 \r\nL 3713 1100 \r\nL 3047 1100 \r\nL 3047 0 \r\nL 2419 0 \r\nL 2419 1100 \r\nL 313 1100 \r\nL 313 1709 \r\nL 2253 4666 \r\nz\r\n\" id=\"DejaVuSans-34\" transform=\"scale(0.015625)\"/>\r\n       </defs>\r\n       <use xlink:href=\"#DejaVuSans-34\"/>\r\n       <use x=\"63.623047\" xlink:href=\"#DejaVuSans-30\"/>\r\n      </g>\r\n     </g>\r\n    </g>\r\n    <g id=\"xtick_6\">\r\n     <g id=\"line2d_6\">\r\n      <g>\r\n       <use style=\"stroke:#000000;stroke-width:0.8;\" x=\"198.49875\" xlink:href=\"#m84b0b2a527\" y=\"226.740469\"/>\r\n      </g>\r\n     </g>\r\n     <g id=\"text_6\">\r\n      <!-- 50 -->\r\n      <g transform=\"translate(192.13625 241.338906)scale(0.1 -0.1)\">\r\n       <defs>\r\n        <path d=\"M 691 4666 \r\nL 3169 4666 \r\nL 3169 4134 \r\nL 1269 4134 \r\nL 1269 2991 \r\nQ 1406 3038 1543 3061 \r\nQ 1681 3084 1819 3084 \r\nQ 2600 3084 3056 2656 \r\nQ 3513 2228 3513 1497 \r\nQ 3513 744 3044 326 \r\nQ 2575 -91 1722 -91 \r\nQ 1428 -91 1123 -41 \r\nQ 819 9 494 109 \r\nL 494 744 \r\nQ 775 591 1075 516 \r\nQ 1375 441 1709 441 \r\nQ 2250 441 2565 725 \r\nQ 2881 1009 2881 1497 \r\nQ 2881 1984 2565 2268 \r\nQ 2250 2553 1709 2553 \r\nQ 1456 2553 1204 2497 \r\nQ 953 2441 691 2322 \r\nL 691 4666 \r\nz\r\n\" id=\"DejaVuSans-35\" transform=\"scale(0.015625)\"/>\r\n       </defs>\r\n       <use xlink:href=\"#DejaVuSans-35\"/>\r\n       <use x=\"63.623047\" xlink:href=\"#DejaVuSans-30\"/>\r\n      </g>\r\n     </g>\r\n    </g>\r\n    <g id=\"xtick_7\">\r\n     <g id=\"line2d_7\">\r\n      <g>\r\n       <use style=\"stroke:#000000;stroke-width:0.8;\" x=\"232.47375\" xlink:href=\"#m84b0b2a527\" y=\"226.740469\"/>\r\n      </g>\r\n     </g>\r\n     <g id=\"text_7\">\r\n      <!-- 60 -->\r\n      <g transform=\"translate(226.11125 241.338906)scale(0.1 -0.1)\">\r\n       <defs>\r\n        <path d=\"M 2113 2584 \r\nQ 1688 2584 1439 2293 \r\nQ 1191 2003 1191 1497 \r\nQ 1191 994 1439 701 \r\nQ 1688 409 2113 409 \r\nQ 2538 409 2786 701 \r\nQ 3034 994 3034 1497 \r\nQ 3034 2003 2786 2293 \r\nQ 2538 2584 2113 2584 \r\nz\r\nM 3366 4563 \r\nL 3366 3988 \r\nQ 3128 4100 2886 4159 \r\nQ 2644 4219 2406 4219 \r\nQ 1781 4219 1451 3797 \r\nQ 1122 3375 1075 2522 \r\nQ 1259 2794 1537 2939 \r\nQ 1816 3084 2150 3084 \r\nQ 2853 3084 3261 2657 \r\nQ 3669 2231 3669 1497 \r\nQ 3669 778 3244 343 \r\nQ 2819 -91 2113 -91 \r\nQ 1303 -91 875 529 \r\nQ 447 1150 447 2328 \r\nQ 447 3434 972 4092 \r\nQ 1497 4750 2381 4750 \r\nQ 2619 4750 2861 4703 \r\nQ 3103 4656 3366 4563 \r\nz\r\n\" id=\"DejaVuSans-36\" transform=\"scale(0.015625)\"/>\r\n       </defs>\r\n       <use xlink:href=\"#DejaVuSans-36\"/>\r\n       <use x=\"63.623047\" xlink:href=\"#DejaVuSans-30\"/>\r\n      </g>\r\n     </g>\r\n    </g>\r\n   </g>\r\n   <g id=\"matplotlib.axis_2\">\r\n    <g id=\"ytick_1\">\r\n     <g id=\"line2d_8\">\r\n      <defs>\r\n       <path d=\"M 0 0 \r\nL -3.5 0 \r\n\" id=\"m4975563954\" style=\"stroke:#000000;stroke-width:0.8;\"/>\r\n      </defs>\r\n      <g>\r\n       <use style=\"stroke:#000000;stroke-width:0.8;\" x=\"26.925\" xlink:href=\"#m4975563954\" y=\"10.999219\"/>\r\n      </g>\r\n     </g>\r\n     <g id=\"text_8\">\r\n      <!-- 0 -->\r\n      <g transform=\"translate(13.5625 14.798437)scale(0.1 -0.1)\">\r\n       <use xlink:href=\"#DejaVuSans-30\"/>\r\n      </g>\r\n     </g>\r\n    </g>\r\n    <g id=\"ytick_2\">\r\n     <g id=\"line2d_9\">\r\n      <g>\r\n       <use style=\"stroke:#000000;stroke-width:0.8;\" x=\"26.925\" xlink:href=\"#m4975563954\" y=\"44.974219\"/>\r\n      </g>\r\n     </g>\r\n     <g id=\"text_9\">\r\n      <!-- 10 -->\r\n      <g transform=\"translate(7.2 48.773437)scale(0.1 -0.1)\">\r\n       <use xlink:href=\"#DejaVuSans-31\"/>\r\n       <use x=\"63.623047\" xlink:href=\"#DejaVuSans-30\"/>\r\n      </g>\r\n     </g>\r\n    </g>\r\n    <g id=\"ytick_3\">\r\n     <g id=\"line2d_10\">\r\n      <g>\r\n       <use style=\"stroke:#000000;stroke-width:0.8;\" x=\"26.925\" xlink:href=\"#m4975563954\" y=\"78.949219\"/>\r\n      </g>\r\n     </g>\r\n     <g id=\"text_10\">\r\n      <!-- 20 -->\r\n      <g transform=\"translate(7.2 82.748437)scale(0.1 -0.1)\">\r\n       <use xlink:href=\"#DejaVuSans-32\"/>\r\n       <use x=\"63.623047\" xlink:href=\"#DejaVuSans-30\"/>\r\n      </g>\r\n     </g>\r\n    </g>\r\n    <g id=\"ytick_4\">\r\n     <g id=\"line2d_11\">\r\n      <g>\r\n       <use style=\"stroke:#000000;stroke-width:0.8;\" x=\"26.925\" xlink:href=\"#m4975563954\" y=\"112.924219\"/>\r\n      </g>\r\n     </g>\r\n     <g id=\"text_11\">\r\n      <!-- 30 -->\r\n      <g transform=\"translate(7.2 116.723437)scale(0.1 -0.1)\">\r\n       <use xlink:href=\"#DejaVuSans-33\"/>\r\n       <use x=\"63.623047\" xlink:href=\"#DejaVuSans-30\"/>\r\n      </g>\r\n     </g>\r\n    </g>\r\n    <g id=\"ytick_5\">\r\n     <g id=\"line2d_12\">\r\n      <g>\r\n       <use style=\"stroke:#000000;stroke-width:0.8;\" x=\"26.925\" xlink:href=\"#m4975563954\" y=\"146.899219\"/>\r\n      </g>\r\n     </g>\r\n     <g id=\"text_12\">\r\n      <!-- 40 -->\r\n      <g transform=\"translate(7.2 150.698437)scale(0.1 -0.1)\">\r\n       <use xlink:href=\"#DejaVuSans-34\"/>\r\n       <use x=\"63.623047\" xlink:href=\"#DejaVuSans-30\"/>\r\n      </g>\r\n     </g>\r\n    </g>\r\n    <g id=\"ytick_6\">\r\n     <g id=\"line2d_13\">\r\n      <g>\r\n       <use style=\"stroke:#000000;stroke-width:0.8;\" x=\"26.925\" xlink:href=\"#m4975563954\" y=\"180.874219\"/>\r\n      </g>\r\n     </g>\r\n     <g id=\"text_13\">\r\n      <!-- 50 -->\r\n      <g transform=\"translate(7.2 184.673437)scale(0.1 -0.1)\">\r\n       <use xlink:href=\"#DejaVuSans-35\"/>\r\n       <use x=\"63.623047\" xlink:href=\"#DejaVuSans-30\"/>\r\n      </g>\r\n     </g>\r\n    </g>\r\n    <g id=\"ytick_7\">\r\n     <g id=\"line2d_14\">\r\n      <g>\r\n       <use style=\"stroke:#000000;stroke-width:0.8;\" x=\"26.925\" xlink:href=\"#m4975563954\" y=\"214.849219\"/>\r\n      </g>\r\n     </g>\r\n     <g id=\"text_14\">\r\n      <!-- 60 -->\r\n      <g transform=\"translate(7.2 218.648437)scale(0.1 -0.1)\">\r\n       <use xlink:href=\"#DejaVuSans-36\"/>\r\n       <use x=\"63.623047\" xlink:href=\"#DejaVuSans-30\"/>\r\n      </g>\r\n     </g>\r\n    </g>\r\n   </g>\r\n   <g id=\"patch_3\">\r\n    <path d=\"M 26.925 226.740469 \r\nL 26.925 9.300469 \r\n\" style=\"fill:none;stroke:#000000;stroke-linecap:square;stroke-linejoin:miter;stroke-width:0.8;\"/>\r\n   </g>\r\n   <g id=\"patch_4\">\r\n    <path d=\"M 244.365 226.740469 \r\nL 244.365 9.300469 \r\n\" style=\"fill:none;stroke:#000000;stroke-linecap:square;stroke-linejoin:miter;stroke-width:0.8;\"/>\r\n   </g>\r\n   <g id=\"patch_5\">\r\n    <path d=\"M 26.925 226.740469 \r\nL 244.365 226.740469 \r\n\" style=\"fill:none;stroke:#000000;stroke-linecap:square;stroke-linejoin:miter;stroke-width:0.8;\"/>\r\n   </g>\r\n   <g id=\"patch_6\">\r\n    <path d=\"M 26.925 9.300469 \r\nL 244.365 9.300469 \r\n\" style=\"fill:none;stroke:#000000;stroke-linecap:square;stroke-linejoin:miter;stroke-width:0.8;\"/>\r\n   </g>\r\n  </g>\r\n </g>\r\n <defs>\r\n  <clipPath id=\"pd7eb4eac04\">\r\n   <rect height=\"217.44\" width=\"217.44\" x=\"26.925\" y=\"9.300469\"/>\r\n  </clipPath>\r\n </defs>\r\n</svg>\r\n",
      "text/plain": [
       "<Figure size 432x288 with 1 Axes>"
      ]
     },
     "metadata": {
      "needs_background": "light"
     },
     "output_type": "display_data"
    }
   ],
   "source": [
    "fname = \"images/thumbs_up.jpg\"\n",
    "image = Image.open(fname).resize((64, 64))\n",
    "my_image = np.expand_dims(np.array(image), 0) / 255.\n",
    "my_image_prediction = np.argmax(forward_propagation(my_image, parameters), axis=1)[0]\n",
    "\n",
    "plt.imshow(image)\n",
    "print(\"Your algorithm predicts: y = \" + str(my_image_prediction))"
   ]
  },
  {
   "cell_type": "code",
   "execution_count": null,
   "metadata": {},
   "outputs": [],
   "source": []
  }
 ],
 "metadata": {
  "coursera": {
   "course_slug": "convolutional-neural-networks",
   "graded_item_id": "bwbJV",
   "launcher_item_id": "0TkXB"
  },
  "interpreter": {
   "hash": "13bfeb23969d9b84cb241a6afc96a83338ccbd61985706a9fa8a82492cf87dbd"
  },
  "kernelspec": {
   "display_name": "Python 3.9.5 64-bit ('cs230': conda)",
   "name": "python3"
  },
  "language_info": {
   "name": "python",
   "version": ""
  }
 },
 "nbformat": 4,
 "nbformat_minor": 2
}
{
 "cells": [
  {
   "cell_type": "markdown",
   "source": [
    "# Face Recognition\n",
    "\n",
    "In this assignment, you will build a face recognition system. Many of the ideas presented here are from [FaceNet](https://arxiv.org/pdf/1503.03832.pdf). In lecture, we also talked about [DeepFace](https://research.fb.com/wp-content/uploads/2016/11/deepface-closing-the-gap-to-human-level-performance-in-face-verification.pdf). \n",
    "\n",
    "Face recognition problems commonly fall into two categories: \n",
    "\n",
    "- **Face Verification** - \"is this the claimed person?\". For example, at some airports, you can pass through customs by letting a system scan your passport and then verifying that you (the person carrying the passport) are the correct person. A mobile phone that unlocks using your face is also using face verification. This is a 1:1 matching problem. \n",
    "- **Face Recognition** - \"who is this person?\". For example, the video lecture showed a [face recognition video](https://www.youtube.com/watch?v=wr4rx0Spihs) of Baidu employees entering the office without needing to otherwise identify themselves. This is a 1:K matching problem. \n",
    "\n",
    "FaceNet learns a neural network that encodes a face image into a vector of 128 numbers. By comparing two such vectors, you can then determine if two pictures are of the same person.\n",
    "    \n",
    "**In this assignment, you will:**\n",
    "- Implement the triplet loss function\n",
    "- Use a pretrained model to map face images into 128-dimensional encodings\n",
    "- Use these encodings to perform face verification and face recognition\n",
    "\n",
    "#### Channels-first notation\n",
    "\n",
    "* In this exercise, we will be using a pre-trained model which represents ConvNet activations using a **\"channels first\"** convention, as opposed to the \"channels last\" convention used in lecture and previous programming assignments. \n",
    "* In other words, a batch of images will be of shape $(m, n_C, n_H, n_W)$ instead of $(m, n_H, n_W, n_C)$. \n",
    "* Both of these conventions have a reasonable amount of traction among open-source implementations; there isn't a uniform standard yet within the deep learning community. "
   ],
   "metadata": {}
  },
  {
   "cell_type": "markdown",
   "source": [
    "## <font color='darkblue'>Updates</font>\n",
    "\n",
    "#### If you were working on the notebook before this update...\n",
    "* The current notebook is version \"3a\".\n",
    "* You can find your original work saved in the notebook with the previous version name (\"v3\") \n",
    "* To view the file directory, go to the menu \"File->Open\", and this will open a new tab that shows the file directory.\n",
    "\n",
    "#### List of updates\n",
    "* `triplet_loss`: Additional Hints added.\n",
    "* `verify`: Hints added.\n",
    "* `who_is_it`: corrected hints given in the comments.\n",
    "* Spelling and formatting updates for easier reading.\n"
   ],
   "metadata": {}
  },
  {
   "cell_type": "markdown",
   "source": [
    "#### Load packages\n",
    "Let's load the required packages. "
   ],
   "metadata": {}
  },
  {
   "cell_type": "code",
   "execution_count": 1,
   "source": [
    "from tensorflow.keras.models import Sequential\r\n",
    "from tensorflow.keras.layers import Conv2D, ZeroPadding2D, Activation, Input, concatenate\r\n",
    "from tensorflow.keras.models import Model\r\n",
    "from tensorflow.keras.layers import BatchNormalization\r\n",
    "from tensorflow.keras.layers import MaxPooling2D, AveragePooling2D\r\n",
    "from tensorflow.keras.layers import Concatenate\r\n",
    "from tensorflow.keras.layers import Lambda, Flatten, Dense\r\n",
    "from tensorflow.keras.initializers import glorot_uniform\r\n",
    "from tensorflow.keras.layers import Layer\r\n",
    "from tensorflow.keras import backend as K\r\n",
    "K.set_image_data_format('channels_first')\r\n",
    "import cv2\r\n",
    "import os\r\n",
    "import numpy as np\r\n",
    "from numpy import genfromtxt\r\n",
    "import pandas as pd\r\n",
    "import tensorflow as tf\r\n",
    "from fr_utils import *\r\n",
    "from inception_blocks_v2 import *\r\n",
    "\r\n",
    "%matplotlib inline\r\n",
    "%load_ext autoreload\r\n",
    "%autoreload 2\r\n",
    "\r\n",
    "np.set_printoptions(threshold=sys.maxsize)"
   ],
   "outputs": [],
   "metadata": {}
  },
  {
   "cell_type": "markdown",
   "source": [
    "## 0 - Naive Face Verification\n",
    "\n",
    "In Face Verification, you're given two images and you have to determine if they are of the same person. The simplest way to do this is to compare the two images pixel-by-pixel. If the distance between the raw images are less than a chosen threshold, it may be the same person! \n",
    "\n",
    "<img src=\"images/pixel_comparison.png\" style=\"width:380px;height:150px;\">\n",
    "<caption><center> <u> <font color='purple'> **Figure 1** </u></center></caption>"
   ],
   "metadata": {}
  },
  {
   "cell_type": "markdown",
   "source": [
    "* Of course, this algorithm performs really poorly, since the pixel values change dramatically due to variations in lighting, orientation of the person's face, even minor changes in head position, and so on. \n",
    "* You'll see that rather than using the raw image, you can learn an encoding, $f(img)$.  \n",
    "* By using an encoding for each image, an element-wise comparison produces a more accurate judgement as to whether two pictures are of the same person."
   ],
   "metadata": {}
  },
  {
   "cell_type": "markdown",
   "source": [
    "## 1 - Encoding face images into a 128-dimensional vector \n",
    "\n",
    "### 1.1 - Using a ConvNet  to compute encodings\n",
    "\n",
    "The FaceNet model takes a lot of data and a long time to train. So following common practice in applied deep learning, let's  load weights that someone else has already trained. The network architecture follows the Inception model from [Szegedy *et al.*](https://arxiv.org/abs/1409.4842). We have provided an inception network implementation. You can look in the file `inception_blocks_v2.py` to see how it is implemented (do so by going to \"File->Open...\" at the top of the Jupyter notebook.  This opens the file directory that contains the '.py' file). "
   ],
   "metadata": {}
  },
  {
   "cell_type": "markdown",
   "source": [
    "The key things you need to know are:\n",
    "\n",
    "- This network uses 96x96 dimensional RGB images as its input. Specifically, inputs a face image (or batch of $m$ face images) as a tensor of shape $(m, n_C, n_H, n_W) = (m, 3, 96, 96)$ \n",
    "- It outputs a matrix of shape $(m, 128)$ that encodes each input face image into a 128-dimensional vector\n",
    "\n",
    "Run the cell below to create the model for face images."
   ],
   "metadata": {}
  },
  {
   "cell_type": "code",
   "execution_count": 2,
   "source": [
    "FRmodel = faceRecoModel(input_shape=(3, 96, 96))"
   ],
   "outputs": [],
   "metadata": {
    "collapsed": true
   }
  },
  {
   "cell_type": "code",
   "execution_count": 3,
   "source": [
    "print(\"Total Params:\", FRmodel.count_params())"
   ],
   "outputs": [
    {
     "output_type": "stream",
     "name": "stdout",
     "text": [
      "Total Params: 3743280\n"
     ]
    }
   ],
   "metadata": {}
  },
  {
   "cell_type": "markdown",
   "source": [
    "** Expected Output **\n",
    "<table>\n",
    "<center>\n",
    "Total Params: 3743280\n",
    "</center>\n",
    "</table>\n"
   ],
   "metadata": {}
  },
  {
   "cell_type": "markdown",
   "source": [
    "By using a 128-neuron fully connected layer as its last layer, the model ensures that the output is an encoding vector of size 128. You then use the encodings to compare two face images as follows:\r\n",
    "\r\n",
    "<img src=\"images/distance_kiank.png\" style=\"width:680px;height:250px;\">\r\n",
    "<caption><center> <u> <font color='purple'> **Figure 2**: <br> </u> </font color='purple'> By computing the distance between two encodings and thresholding, you can determine if the two pictures represent the same person</center></caption>\r\n",
    "\r\n",
    "So, an encoding is a good one if: \r\n",
    "- The encodings of two images of the same person are quite similar to each other. \r\n",
    "- The encodings of two images of different persons are very different.\r\n",
    "\r\n",
    "The triplet loss function formalizes this, and tries to \"push\" the encodings of two images of the same person (Anchor and Positive) closer together, while \"pulling\" the encodings of two images of different persons (Anchor, Negative) further apart. \r\n",
    "\r\n",
    "<img src=\"images/triplet_comparison.png\" style=\"width:280px;height:150px;\">\r\n",
    "<br>\r\n",
    "<caption><center> <u> <font color='purple'> **Figure 3**: <br> </u> </font color='purple'> In the next part, we will call the pictures from left to right: Anchor (A), Positive (P), Negative (N)  </center></caption>"
   ],
   "metadata": {}
  },
  {
   "cell_type": "markdown",
   "source": [
    "\r\n",
    "\r\n",
    "### 1.2 - The Triplet Loss\r\n",
    "\r\n",
    "For an image $x$, we denote its encoding $f(x)$, where $f$ is the function computed by the neural network.\r\n",
    "\r\n",
    "<img src=\"images/f_x.png\" style=\"width:380px;height:150px;\">\r\n",
    "\r\n",
    "<!--\r\n",
    "We will also add a normalization step at the end of our model so that $\\mid \\mid f(x) \\mid \\mid_2 = 1$ (means the vector of encoding should be of norm 1).\r\n",
    "!-->\r\n",
    "\r\n",
    "Training will use triplets of images $(A, P, N)$:  \r\n",
    "\r\n",
    "- A is an \"Anchor\" image--a picture of a person. \r\n",
    "- P is a \"Positive\" image--a picture of the same person as the Anchor image.\r\n",
    "- N is a \"Negative\" image--a picture of a different person than the Anchor image.\r\n",
    "\r\n",
    "These triplets are picked from our training dataset. We will write $(A^{(i)}, P^{(i)}, N^{(i)})$ to denote the $i$-th training example. \r\n",
    "\r\n",
    "You'd like to make sure that an image $A^{(i)}$ of an individual is closer to the Positive $P^{(i)}$ than to the Negative image $N^{(i)}$) by at least a margin $\\alpha$:\r\n",
    "\r\n",
    "$$\\| f(A^{(i)}) - f(P^{(i)}) \\|_2^2 + \\alpha < \\| f(A^{(i)}) - f(N^{(i)}) \\|_2^2$$\r\n",
    "\r\n",
    "You would thus like to minimize the following \"triplet cost\":\r\n",
    "\r\n",
    "$$\\mathcal{J} = \\sum^{m}_{i=1} \\large[ \\small \\underbrace{\\mid \\mid f(A^{(i)}) - f(P^{(i)}) \\mid \\mid_2^2}_\\text{(1)} - \\underbrace{\\mid \\mid f(A^{(i)}) - f(N^{(i)}) \\mid \\mid_2^2}_\\text{(2)} + \\alpha \\large ] \\small_+ \\tag{3}$$\r\n",
    "\r\n",
    "Here, we are using the notation \"$[z]_+$\" to denote $max(z,0)$.  \r\n",
    "\r\n",
    "Notes:\r\n",
    "- The term (1) is the squared distance between the anchor \"A\" and the positive \"P\" for a given triplet; you want this to be small. \r\n",
    "- The term (2) is the squared distance between the anchor \"A\" and the negative \"N\" for a given triplet, you want this to be relatively large. It has a minus sign preceding it because minimizing the negative of the term is the same as maximizing that term.\r\n",
    "- $\\alpha$ is called the margin. It is a hyperparameter that you pick manually. We will use $\\alpha = 0.2$. \r\n",
    "\r\n",
    "Most implementations also rescale the encoding vectors to haven L2 norm equal to one (i.e., $\\mid \\mid f(img)\\mid \\mid_2$=1); you won't have to worry about that in this assignment.\r\n",
    "\r\n",
    "**Exercise**: Implement the triplet loss as defined by formula (3). Here are the 4 steps:\r\n",
    "1. Compute the distance between the encodings of \"anchor\" and \"positive\": $\\mid \\mid f(A^{(i)}) - f(P^{(i)}) \\mid \\mid_2^2$\r\n",
    "2. Compute the distance between the encodings of \"anchor\" and \"negative\": $\\mid \\mid f(A^{(i)}) - f(N^{(i)}) \\mid \\mid_2^2$\r\n",
    "3. Compute the formula per training example: $ \\mid \\mid f(A^{(i)}) - f(P^{(i)}) \\mid \\mid_2^2 - \\mid \\mid f(A^{(i)}) - f(N^{(i)}) \\mid \\mid_2^2 + \\alpha$\r\n",
    "3. Compute the full formula by taking the max with zero and summing over the training examples:\r\n",
    "$$\\mathcal{J} = \\sum^{m}_{i=1} \\large[ \\small \\mid \\mid f(A^{(i)}) - f(P^{(i)}) \\mid \\mid_2^2 - \\mid \\mid f(A^{(i)}) - f(N^{(i)}) \\mid \\mid_2^2+ \\alpha \\large ] \\small_+ \\tag{3}$$\r\n",
    "\r\n",
    "#### Hints\r\n",
    "* Useful functions: `tf.reduce_sum()`, `tf.square()`, `tf.subtract()`, `tf.add()`, `tf.maximum()`.\r\n",
    "* For steps 1 and 2, you will sum over the entries of $\\mid \\mid f(A^{(i)}) - f(P^{(i)}) \\mid \\mid_2^2$ and $\\mid \\mid f(A^{(i)}) - f(N^{(i)}) \\mid \\mid_2^2$.  \r\n",
    "* For step 4 you will sum over the training examples.\r\n",
    "\r\n",
    "#### Additional Hints\r\n",
    "* Recall that the square of the L2 norm is the sum of the squared differences: $||x - y||_{2}^{2} = \\sum_{i=1}^{N}(x_{i} - y_{i})^{2}$\r\n",
    "* Note that the `anchor`, `positive` and `negative` encodings are of shape `(m,128)`, where m is the number of training examples and 128 is the number of elements used to encode a single example.\r\n",
    "* For steps 1 and 2, you will maintain the number of `m` training examples and sum along the 128 values of each encoding. \r\n",
    "[tf.reduce_sum](https://www.tensorflow.org/api_docs/python/tf/math/reduce_sum) has an `axis` parameter.  This chooses along which axis the sums are applied.  \r\n",
    "* Note that one way to choose the last axis in a tensor is to use negative indexing (`axis=-1`).\r\n",
    "* In step 4, when summing over training examples, the result will be a single scalar value.\r\n",
    "* For `tf.reduce_sum` to sum across all axes, keep the default value `axis=None`."
   ],
   "metadata": {}
  },
  {
   "cell_type": "code",
   "execution_count": 4,
   "source": [
    "# GRADED FUNCTION: triplet_loss\r\n",
    "\r\n",
    "def triplet_loss(y_true, y_pred, alpha = 0.2):\r\n",
    "    \"\"\"\r\n",
    "    Implementation of the triplet loss as defined by formula (3)\r\n",
    "    \r\n",
    "    Arguments:\r\n",
    "    y_true -- true labels, required when you define a loss in Keras, you don't need it in this function.\r\n",
    "    y_pred -- python list containing three objects:\r\n",
    "            anchor -- the encodings for the anchor images, of shape (None, 128)\r\n",
    "            positive -- the encodings for the positive images, of shape (None, 128)\r\n",
    "            negative -- the encodings for the negative images, of shape (None, 128)\r\n",
    "    \r\n",
    "    Returns:\r\n",
    "    loss -- real number, value of the loss\r\n",
    "    \"\"\"\r\n",
    "    \r\n",
    "    anchor, positive, negative = y_pred[0], y_pred[1], y_pred[2]\r\n",
    "    \r\n",
    "    ### START CODE HERE ### (≈ 4 lines)\r\n",
    "    # Step 1: Compute the (encoding) distance between the anchor and the positive, you will need to sum over axis=-1\r\n",
    "    distance_AP = tf.reduce_sum((anchor - positive)**2, axis=-1)\r\n",
    "    # Step 2: Compute the (encoding) distance between the anchor and the negative, you will need to sum over axis=-1\r\n",
    "    distance_AN = tf.reduce_sum((anchor - negative)**2, axis=-1)\r\n",
    "    # Step 3: subtract the two previous distances and add alpha.\r\n",
    "    basic_loss = distance_AP - distance_AN + alpha\r\n",
    "    # Step 4: Take the maximum of basic_loss and 0.0. Sum over the training examples.\r\n",
    "    loss = tf.reduce_sum(tf.maximum(basic_loss, tf.constant([0.]*basic_loss.shape[0])))\r\n",
    "    ### END CODE HERE ###\r\n",
    "    \r\n",
    "    return loss"
   ],
   "outputs": [],
   "metadata": {
    "collapsed": true
   }
  },
  {
   "cell_type": "code",
   "execution_count": 9,
   "source": [
    "# with tf.Session() as test:\r\n",
    "    # tf.set_random_seed(1)\r\n",
    "tf.random.set_seed(1)\r\n",
    "y_true = (None, None, None)\r\n",
    "y_pred = (tf.random.normal([3, 128], mean=6, stddev=0.1, seed = 1),\r\n",
    "            tf.random.normal([3, 128], mean=1, stddev=1, seed = 1),\r\n",
    "            tf.random.normal([3, 128], mean=3, stddev=4, seed = 1))\r\n",
    "loss = triplet_loss(y_true, y_pred)\r\n",
    "\r\n",
    "print(\"loss = \" + str(loss))"
   ],
   "outputs": [
    {
     "output_type": "stream",
     "name": "stdout",
     "text": [
      "loss = tf.Tensor(527.2598, shape=(), dtype=float32)\n"
     ]
    }
   ],
   "metadata": {}
  },
  {
   "cell_type": "markdown",
   "source": [
    "**Expected Output**:\n",
    "\n",
    "<table>\n",
    "    <tr>\n",
    "        <td>\n",
    "            **loss**\n",
    "        </td>\n",
    "        <td>\n",
    "           528.143\n",
    "        </td>\n",
    "    </tr>\n",
    "\n",
    "</table>"
   ],
   "metadata": {}
  },
  {
   "cell_type": "markdown",
   "source": [
    "## 2 - Loading the pre-trained model\n",
    "\n",
    "FaceNet is trained by minimizing the triplet loss. But since training requires a lot of data and a lot of computation, we won't train it from scratch here. Instead, we load a previously trained model. Load a model using the following cell; this might take a couple of minutes to run. "
   ],
   "metadata": {}
  },
  {
   "cell_type": "code",
   "execution_count": 10,
   "source": [
    "FRmodel.compile(optimizer = 'adam', loss = triplet_loss, metrics = ['accuracy'])\r\n",
    "load_weights_from_FaceNet(FRmodel)"
   ],
   "outputs": [],
   "metadata": {
    "collapsed": true
   }
  },
  {
   "cell_type": "markdown",
   "source": [
    "Here are some examples of distances between the encodings between three individuals:\r\n",
    "\r\n",
    "<img src=\"images/distance_matrix.png\" style=\"width:380px;height:200px;\">\r\n",
    "<br>\r\n",
    "<caption><center> <u> <font color='purple'> **Figure 4**:</u> <br>  </font color='purple'> Example of distance outputs between three individuals' encodings</center></caption>\r\n",
    "\r\n",
    "Let's now use this model to perform face verification and face recognition! "
   ],
   "metadata": {}
  },
  {
   "cell_type": "markdown",
   "source": [
    "## 3 - Applying the model"
   ],
   "metadata": {}
  },
  {
   "cell_type": "markdown",
   "source": [
    "You are building a system for an office building where the building manager  would like to offer facial recognition to allow the employees to enter the building.\n",
    "\n",
    "You'd like to build a **Face verification** system that gives access to the list of people who live or work there. To get admitted, each person has to swipe an ID card (identification card) to identify themselves at the entrance. The face recognition system then checks that they are who they claim to be."
   ],
   "metadata": {}
  },
  {
   "cell_type": "markdown",
   "source": [
    "### 3.1 - Face Verification\n",
    "\n",
    "Let's build a database containing one encoding vector for each person who is allowed to enter the office. To generate the encoding we use `img_to_encoding(image_path, model)`, which runs the forward propagation of the model on the specified image. \n",
    "\n",
    "Run the following code to build the database (represented as a python dictionary). This database maps each person's name to a 128-dimensional encoding of their face."
   ],
   "metadata": {}
  },
  {
   "cell_type": "code",
   "execution_count": 11,
   "source": [
    "database = {}\r\n",
    "database[\"danielle\"] = img_to_encoding(\"images/danielle.png\", FRmodel)\r\n",
    "database[\"younes\"] = img_to_encoding(\"images/younes.jpg\", FRmodel)\r\n",
    "database[\"tian\"] = img_to_encoding(\"images/tian.jpg\", FRmodel)\r\n",
    "database[\"andrew\"] = img_to_encoding(\"images/andrew.jpg\", FRmodel)\r\n",
    "database[\"kian\"] = img_to_encoding(\"images/kian.jpg\", FRmodel)\r\n",
    "database[\"dan\"] = img_to_encoding(\"images/dan.jpg\", FRmodel)\r\n",
    "database[\"sebastiano\"] = img_to_encoding(\"images/sebastiano.jpg\", FRmodel)\r\n",
    "database[\"bertrand\"] = img_to_encoding(\"images/bertrand.jpg\", FRmodel)\r\n",
    "database[\"kevin\"] = img_to_encoding(\"images/kevin.jpg\", FRmodel)\r\n",
    "database[\"felix\"] = img_to_encoding(\"images/felix.jpg\", FRmodel)\r\n",
    "database[\"benoit\"] = img_to_encoding(\"images/benoit.jpg\", FRmodel)\r\n",
    "database[\"arnaud\"] = img_to_encoding(\"images/arnaud.jpg\", FRmodel)"
   ],
   "outputs": [],
   "metadata": {
    "collapsed": true
   }
  },
  {
   "cell_type": "markdown",
   "source": [
    "Now, when someone shows up at your front door and swipes their ID card (thus giving you their name), you can look up their encoding in the database, and use it to check if the person standing at the front door matches the name on the ID.\n",
    "\n",
    "**Exercise**: Implement the verify() function which checks if the front-door camera picture (`image_path`) is actually the person called \"identity\". You will have to go through the following steps:\n",
    "1. Compute the encoding of the image from `image_path`.\n",
    "2. Compute the distance between this encoding and the encoding of the identity image stored in the database.\n",
    "3. Open the door if the distance is less than 0.7, else do not open it.\n",
    "\n",
    "\n",
    "* As presented above, you should use the L2 distance [np.linalg.norm](https://docs.scipy.org/doc/numpy/reference/generated/numpy.linalg.norm.html). \n",
    "* (Note: In this implementation, compare the L2 distance, not the square of the L2 distance, to the threshold 0.7.) \n",
    "\n",
    "#### Hints\n",
    "* `identity` is a string that is also a key in the `database` dictionary.\n",
    "* `img_to_encoding` has two parameters: the `image_path` and `model`."
   ],
   "metadata": {}
  },
  {
   "cell_type": "code",
   "execution_count": 12,
   "source": [
    "# GRADED FUNCTION: verify\r\n",
    "\r\n",
    "def verify(image_path, identity, database, model):\r\n",
    "    \"\"\"\r\n",
    "    Function that verifies if the person on the \"image_path\" image is \"identity\".\r\n",
    "    \r\n",
    "    Arguments:\r\n",
    "    image_path -- path to an image\r\n",
    "    identity -- string, name of the person you'd like to verify the identity. Has to be an employee who works in the office.\r\n",
    "    database -- python dictionary mapping names of allowed people's names (strings) to their encodings (vectors).\r\n",
    "    model -- your Inception model instance in Keras\r\n",
    "    \r\n",
    "    Returns:\r\n",
    "    dist -- distance between the image_path and the image of \"identity\" in the database.\r\n",
    "    door_open -- True, if the door should open. False otherwise.\r\n",
    "    \"\"\"\r\n",
    "    \r\n",
    "    ### START CODE HERE ###\r\n",
    "    # Step 1: Compute the encoding for the image. Use img_to_encoding() see example above. (≈ 1 line)\r\n",
    "    img_encode = img_to_encoding(image_path, model)\r\n",
    "    # Step 2: Compute distance with identity's image (≈ 1 line)\r\n",
    "    dist = np.linalg.norm(database[identity] - img_encode)\r\n",
    "    # Step 3: Open the door if dist < 0.7, else don't open (≈ 3 lines)\r\n",
    "    door_open = False\r\n",
    "    if dist < 0.7:\r\n",
    "        door_open = True\r\n",
    "    ### END CODE HERE ###\r\n",
    "\r\n",
    "    return dist, door_open"
   ],
   "outputs": [],
   "metadata": {
    "collapsed": true
   }
  },
  {
   "cell_type": "markdown",
   "source": [
    "Younes is trying to enter the office and the camera takes a picture of him (\"images/camera_0.jpg\"). Let's run your verification algorithm on this picture:\n",
    "\n",
    "<img src=\"images/camera_0.jpg\" style=\"width:100px;height:100px;\">"
   ],
   "metadata": {}
  },
  {
   "cell_type": "code",
   "execution_count": 13,
   "source": [
    "verify(\"images/camera_0.jpg\", \"younes\", database, FRmodel)"
   ],
   "outputs": [
    {
     "output_type": "execute_result",
     "data": {
      "text/plain": [
       "(0.66714, True)"
      ]
     },
     "metadata": {},
     "execution_count": 13
    }
   ],
   "metadata": {}
  },
  {
   "cell_type": "markdown",
   "source": [
    "**Expected Output**:\n",
    "\n",
    "<table>\n",
    "    <tr>\n",
    "        <td>\n",
    "            **It's younes, welcome in!**\n",
    "        </td>\n",
    "        <td>\n",
    "           (0.65939283, True)\n",
    "        </td>\n",
    "    </tr>\n",
    "\n",
    "</table>"
   ],
   "metadata": {}
  },
  {
   "cell_type": "markdown",
   "source": [
    "Benoit, who does not work in the office, stole Kian's ID card and tried to enter the office. The camera took a picture of Benoit (\"images/camera_2.jpg). Let's run the verification algorithm to check if benoit can enter.\n",
    "<img src=\"images/camera_2.jpg\" style=\"width:100px;height:100px;\">"
   ],
   "metadata": {}
  },
  {
   "cell_type": "code",
   "execution_count": 14,
   "source": [
    "verify(\"images/camera_2.jpg\", \"kian\", database, FRmodel)"
   ],
   "outputs": [
    {
     "output_type": "execute_result",
     "data": {
      "text/plain": [
       "(0.85868865, False)"
      ]
     },
     "metadata": {},
     "execution_count": 14
    }
   ],
   "metadata": {}
  },
  {
   "cell_type": "markdown",
   "source": [
    "**Expected Output**:\n",
    "\n",
    "<table>\n",
    "    <tr>\n",
    "        <td>\n",
    "            **It's not kian, please go away**\n",
    "        </td>\n",
    "        <td>\n",
    "           (0.86224014, False)\n",
    "        </td>\n",
    "    </tr>\n",
    "\n",
    "</table>"
   ],
   "metadata": {}
  },
  {
   "cell_type": "markdown",
   "source": [
    "### 3.2 - Face Recognition\n",
    "\n",
    "Your face verification system is mostly working well. But since Kian got his ID card stolen, when he came back to the office the next day and couldn't get in! \n",
    "\n",
    "To solve this, you'd like to change your face verification system to a face recognition system. This way, no one has to carry an ID card anymore. An authorized person can just walk up to the building, and the door will unlock for them! \n",
    "\n",
    "You'll implement a face recognition system that takes as input an image, and figures out if it is one of the authorized persons (and if so, who). Unlike the previous face verification system, we will no longer get a person's name as one of the inputs. \n",
    "\n",
    "**Exercise**: Implement `who_is_it()`. You will have to go through the following steps:\n",
    "1. Compute the target encoding of the image from image_path\n",
    "2. Find the encoding from the database that has smallest distance with the target encoding. \n",
    "    - Initialize the `min_dist` variable to a large enough number (100). It will help you keep track of what is the closest encoding to the input's encoding.\n",
    "    - Loop over the database dictionary's names and encodings. To loop use `for (name, db_enc) in database.items()`.\n",
    "        - Compute the L2 distance between the target \"encoding\" and the current \"encoding\" from the database.\n",
    "        - If this distance is less than the min_dist, then set `min_dist` to `dist`, and `identity` to `name`."
   ],
   "metadata": {}
  },
  {
   "cell_type": "code",
   "execution_count": 15,
   "source": [
    "# GRADED FUNCTION: who_is_it\r\n",
    "\r\n",
    "def who_is_it(image_path, database, model):\r\n",
    "    \"\"\"\r\n",
    "    Implements face recognition for the office by finding who is the person on the image_path image.\r\n",
    "    \r\n",
    "    Arguments:\r\n",
    "    image_path -- path to an image\r\n",
    "    database -- database containing image encodings along with the name of the person on the image\r\n",
    "    model -- your Inception model instance in Keras\r\n",
    "    \r\n",
    "    Returns:\r\n",
    "    min_dist -- the minimum distance between image_path encoding and the encodings from the database\r\n",
    "    identity -- string, the name prediction for the person on image_path\r\n",
    "    \"\"\"\r\n",
    "    \r\n",
    "    ### START CODE HERE ### \r\n",
    "    \r\n",
    "    ## Step 1: Compute the target \"encoding\" for the image. Use img_to_encoding() see example above. ## (≈ 1 line)\r\n",
    "    img_encode = img_to_encoding(image_path, model)\r\n",
    "    ## Step 2: Find the closest encoding ##\r\n",
    "    \r\n",
    "    # Initialize \"min_dist\" to a large value, say 100 (≈1 line)\r\n",
    "    min_dist = 100\r\n",
    "    # Loop over the database dictionary's names and encodings.\r\n",
    "    for name in database:\r\n",
    "        # Compute L2 distance between the target \"encoding\" and the current \"emb\" from the database. (≈ 1 line)\r\n",
    "        dist = np.linalg.norm(database[name] - img_encode)\r\n",
    "        # If this distance is less than the min_dist, then set min_dist to dist, and identity to name. (≈ 3 lines)\r\n",
    "        if dist < min_dist:\r\n",
    "            min_dist = dist\r\n",
    "            identity = name\r\n",
    "    ### END CODE HERE ###\r\n",
    "    \r\n",
    "    if min_dist > 0.7:\r\n",
    "        print(\"Not in the database.\")\r\n",
    "    else:\r\n",
    "        print (\"it's \" + str(identity) + \", the distance is \" + str(min_dist))\r\n",
    "        \r\n",
    "    return min_dist, identity"
   ],
   "outputs": [],
   "metadata": {
    "collapsed": true
   }
  },
  {
   "cell_type": "markdown",
   "source": [
    "Younes is at the front-door and the camera takes a picture of him (\"images/camera_0.jpg\"). Let's see if your who_it_is() algorithm identifies Younes. "
   ],
   "metadata": {}
  },
  {
   "cell_type": "code",
   "execution_count": 18,
   "source": [
    "who_is_it(\"images/camera_0.jpg\", database, FRmodel)"
   ],
   "outputs": [
    {
     "output_type": "stream",
     "name": "stdout",
     "text": [
      "it's younes, the distance is 0.66714\n"
     ]
    },
    {
     "output_type": "execute_result",
     "data": {
      "text/plain": [
       "(0.66714, 'younes')"
      ]
     },
     "metadata": {},
     "execution_count": 18
    }
   ],
   "metadata": {
    "scrolled": false
   }
  },
  {
   "cell_type": "markdown",
   "source": [
    "**Expected Output**:\n",
    "\n",
    "<table>\n",
    "    <tr>\n",
    "        <td>\n",
    "            **it's younes, the distance is 0.659393**\n",
    "        </td>\n",
    "        <td>\n",
    "           (0.65939283, 'younes')\n",
    "        </td>\n",
    "    </tr>\n",
    "\n",
    "</table>"
   ],
   "metadata": {}
  },
  {
   "cell_type": "markdown",
   "source": [
    "You can change \"`camera_0.jpg`\" (picture of younes) to \"`camera_1.jpg`\" (picture of bertrand) and see the result."
   ],
   "metadata": {}
  },
  {
   "cell_type": "markdown",
   "source": [
    "#### Congratulations!\n",
    "\n",
    "* Your face recognition system is working well! It only lets in authorized persons, and people don't need to carry an ID card around anymore! \n",
    "* You've now seen how a state-of-the-art face recognition system works.\n",
    "\n",
    "#### Ways to improve your facial recognition model\n",
    "Although we won't implement it here, here are some ways to further improve the algorithm:\n",
    "- Put more images of each person (under different lighting conditions, taken on different days, etc.) into the database. Then given a new image, compare the new face to multiple pictures of the person. This would increase accuracy.\n",
    "- Crop the images to just contain the face, and less of the \"border\" region around the face. This preprocessing removes some of the irrelevant pixels around the face, and also makes the algorithm more robust.\n"
   ],
   "metadata": {}
  },
  {
   "cell_type": "markdown",
   "source": [
    "## Key points to remember\n",
    "- Face verification solves an easier 1:1 matching problem; face recognition addresses a harder 1:K matching problem. \n",
    "- The triplet loss is an effective loss function for training a neural network to learn an encoding of a face image.\n",
    "- The same encoding can be used for verification and recognition. Measuring distances between two images' encodings allows you to determine whether they are pictures of the same person. "
   ],
   "metadata": {}
  },
  {
   "cell_type": "markdown",
   "source": [
    "Congrats on finishing this assignment! \n"
   ],
   "metadata": {}
  },
  {
   "cell_type": "markdown",
   "source": [
    "### References:\n",
    "\n",
    "- Florian Schroff, Dmitry Kalenichenko, James Philbin (2015). [FaceNet: A Unified Embedding for Face Recognition and Clustering](https://arxiv.org/pdf/1503.03832.pdf)\n",
    "- Yaniv Taigman, Ming Yang, Marc'Aurelio Ranzato, Lior Wolf (2014). [DeepFace: Closing the gap to human-level performance in face verification](https://research.fb.com/wp-content/uploads/2016/11/deepface-closing-the-gap-to-human-level-performance-in-face-verification.pdf) \n",
    "- The pretrained model we use is inspired by Victor Sy Wang's implementation and was loaded using his code: https://github.com/iwantooxxoox/Keras-OpenFace.\n",
    "- Our implementation also took a lot of inspiration from the official FaceNet github repository: https://github.com/davidsandberg/facenet \n"
   ],
   "metadata": {}
  }
 ],
 "metadata": {
  "coursera": {
   "course_slug": "convolutional-neural-networks",
   "graded_item_id": "IaknP",
   "launcher_item_id": "5UMr4"
  },
  "kernelspec": {
   "name": "python3",
   "display_name": "Python 3.9.5 64-bit ('cs230': conda)"
  },
  "language_info": {
   "codemirror_mode": {
    "name": "ipython",
    "version": 3
   },
   "file_extension": ".py",
   "mimetype": "text/x-python",
   "name": "python",
   "nbconvert_exporter": "python",
   "pygments_lexer": "ipython3",
   "version": "3.9.5"
  },
  "interpreter": {
   "hash": "ef0f896fcbc72fed1d0ec1fa877386e7bdaaad96a6875f23ee80c219ddbbb0a9"
  }
 },
 "nbformat": 4,
 "nbformat_minor": 2
}